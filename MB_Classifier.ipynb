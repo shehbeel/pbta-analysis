{
 "cells": [
  {
   "cell_type": "markdown",
   "id": "4d88c1b4",
   "metadata": {},
   "source": [
    "# Medulloblastoma miRNA Classifier\n",
    "### Author: Shehbeel Arif\n",
    "\n",
    "#### Preclinical Laboratory Research Unit\n",
    "\n",
    "#### The Center for Data Driven Discovery in Biomedicine (D3b)\n",
    "#### Children's Hospital of Philadelphia"
   ]
  },
  {
   "cell_type": "code",
   "execution_count": 19,
   "id": "f6c954b3",
   "metadata": {},
   "outputs": [],
   "source": [
    "# Basic Library for data pre-processing and handling\n",
    "import pandas as pd\n",
    "\n",
    "# Library used to split data into training and testing sets\n",
    "from sklearn.model_selection import train_test_split\n",
    "\n",
    "from sklearn.preprocessing import StandardScaler\n",
    "\n",
    "# Library for measuring accuracy of ML models\n",
    "from sklearn.metrics import accuracy_score\n",
    "from sklearn.metrics import confusion_matrix\n",
    "\n",
    "# Machine Learning model used\n",
    "from sklearn.ensemble import RandomForestClassifier\n",
    "\n",
    "import plotly.express as px"
   ]
  },
  {
   "cell_type": "code",
   "execution_count": 32,
   "id": "e35f42fb",
   "metadata": {},
   "outputs": [
    {
     "name": "stdout",
     "output_type": "stream",
     "text": [
      "[[-0.56419696 -0.52401514 -1.01514139 ...  0.02850724 -0.72342765\n",
      "  -1.08643658]\n",
      " [ 2.11373585 -0.7183024  -0.24805053 ... -0.69412465  2.46336588\n",
      "   2.31569195]\n",
      " [ 0.03089922  0.37456341  1.1883526  ...  0.09608775  0.06070451\n",
      "  -0.83745337]\n",
      " [ 1.2806012   0.39884932  1.63339528 ...  2.90564075  0.13107535\n",
      "   0.87021376]\n",
      " [-0.62370657 -0.79116012 -1.03663458 ... -0.28114231 -1.53771874\n",
      "  -1.3216638 ]]\n",
      "0    Group3\n",
      "1       SHH\n",
      "2       SHH\n",
      "4    Group4\n",
      "5    Group4\n",
      "Name: Subtype, dtype: object\n"
     ]
    }
   ],
   "source": [
    "data_dir = \"/Users/arifs2/OneDrive - Children's Hospital of Philadelphia/OpenPBTA miRNA Projects/OpenPBTA_miRNA_medulloblastoma/data/\"\n",
    "\n",
    "# Load in the medulloblastoma sub-data from PBTA dataset\n",
    "df = pd.read_csv(data_dir + \"mb_pbta_tdata.csv\", \n",
    "                 #index_col=\"genes\", \n",
    "                 #header=0\n",
    "                )\n",
    "\n",
    "# Drop Unknown subtypes\n",
    "df = df[df['Subtype'] != 'Unknown']\n",
    "\n",
    "# Split the dataset into features and labels\n",
    "X = df.iloc[:,2:]\n",
    "y = df['Subtype']\n",
    "\n",
    "# Normalize the data\n",
    "scaler = StandardScaler()\n",
    "X = scaler.fit_transform(X)\n",
    "\n",
    "print(X[:5])\n",
    "print(y[:5])"
   ]
  },
  {
   "cell_type": "code",
   "execution_count": 33,
   "id": "f4e092d7",
   "metadata": {},
   "outputs": [
    {
     "name": "stdout",
     "output_type": "stream",
     "text": [
      "(19, 2083) (7, 2083) (19,) (7,)\n"
     ]
    }
   ],
   "source": [
    "# Split PBTA data into training and testing set\n",
    "X_train, X_test, y_train, y_test = train_test_split(X, y, test_size=0.25, random_state=0)\n",
    "\n",
    "#Sanity check\n",
    "print(X_train.shape, X_test.shape, y_train.shape, y_test.shape)"
   ]
  },
  {
   "cell_type": "markdown",
   "id": "9ecdcc5b",
   "metadata": {},
   "source": [
    "# Base model"
   ]
  },
  {
   "cell_type": "code",
   "execution_count": 34,
   "id": "a0a390e6",
   "metadata": {},
   "outputs": [
    {
     "name": "stdout",
     "output_type": "stream",
     "text": [
      "Accuracy: 0.7142857142857143\n"
     ]
    }
   ],
   "source": [
    "# Initialize random forest classifier\n",
    "rfc = RandomForestClassifier(max_depth=2, random_state=0)\n",
    "\n",
    "# Train the random forest classifier\n",
    "rfc.fit(X_train, y_train)\n",
    "\n",
    "# Make predictions using random forest classifier\n",
    "rfc_y_pred = rfc.predict(X_test)\n",
    "\n",
    "# Accuracy of model\n",
    "print(f'Accuracy: {accuracy_score(y_test, rfc_y_pred)}')"
   ]
  },
  {
   "cell_type": "code",
   "execution_count": 35,
   "id": "4a181292",
   "metadata": {},
   "outputs": [
    {
     "data": {
      "application/vnd.plotly.v1+json": {
       "config": {
        "plotlyServerURL": "https://plot.ly"
       },
       "data": [
        {
         "coloraxis": "coloraxis",
         "hovertemplate": "Predicted Subtype: %{x}<br>True Subtype: %{y}<br>Productivity: %{z}<extra></extra>",
         "name": "0",
         "texttemplate": "%{z}",
         "type": "heatmap",
         "x": [
          "Group3",
          "SHH",
          "Group4",
          "WNT"
         ],
         "xaxis": "x",
         "y": [
          "Group3",
          "SHH",
          "Group4",
          "WNT"
         ],
         "yaxis": "y",
         "z": [
          [
           1,
           1,
           0,
           0
          ],
          [
           0,
           2,
           0,
           0
          ],
          [
           0,
           0,
           2,
           0
          ],
          [
           0,
           0,
           1,
           0
          ]
         ]
        }
       ],
       "layout": {
        "coloraxis": {
         "colorbar": {
          "title": {
           "text": "Productivity"
          }
         },
         "colorscale": [
          [
           0,
           "#0d0887"
          ],
          [
           0.1111111111111111,
           "#46039f"
          ],
          [
           0.2222222222222222,
           "#7201a8"
          ],
          [
           0.3333333333333333,
           "#9c179e"
          ],
          [
           0.4444444444444444,
           "#bd3786"
          ],
          [
           0.5555555555555556,
           "#d8576b"
          ],
          [
           0.6666666666666666,
           "#ed7953"
          ],
          [
           0.7777777777777778,
           "#fb9f3a"
          ],
          [
           0.8888888888888888,
           "#fdca26"
          ],
          [
           1,
           "#f0f921"
          ]
         ]
        },
        "margin": {
         "t": 60
        },
        "template": {
         "data": {
          "bar": [
           {
            "error_x": {
             "color": "#2a3f5f"
            },
            "error_y": {
             "color": "#2a3f5f"
            },
            "marker": {
             "line": {
              "color": "#E5ECF6",
              "width": 0.5
             },
             "pattern": {
              "fillmode": "overlay",
              "size": 10,
              "solidity": 0.2
             }
            },
            "type": "bar"
           }
          ],
          "barpolar": [
           {
            "marker": {
             "line": {
              "color": "#E5ECF6",
              "width": 0.5
             },
             "pattern": {
              "fillmode": "overlay",
              "size": 10,
              "solidity": 0.2
             }
            },
            "type": "barpolar"
           }
          ],
          "carpet": [
           {
            "aaxis": {
             "endlinecolor": "#2a3f5f",
             "gridcolor": "white",
             "linecolor": "white",
             "minorgridcolor": "white",
             "startlinecolor": "#2a3f5f"
            },
            "baxis": {
             "endlinecolor": "#2a3f5f",
             "gridcolor": "white",
             "linecolor": "white",
             "minorgridcolor": "white",
             "startlinecolor": "#2a3f5f"
            },
            "type": "carpet"
           }
          ],
          "choropleth": [
           {
            "colorbar": {
             "outlinewidth": 0,
             "ticks": ""
            },
            "type": "choropleth"
           }
          ],
          "contour": [
           {
            "colorbar": {
             "outlinewidth": 0,
             "ticks": ""
            },
            "colorscale": [
             [
              0,
              "#0d0887"
             ],
             [
              0.1111111111111111,
              "#46039f"
             ],
             [
              0.2222222222222222,
              "#7201a8"
             ],
             [
              0.3333333333333333,
              "#9c179e"
             ],
             [
              0.4444444444444444,
              "#bd3786"
             ],
             [
              0.5555555555555556,
              "#d8576b"
             ],
             [
              0.6666666666666666,
              "#ed7953"
             ],
             [
              0.7777777777777778,
              "#fb9f3a"
             ],
             [
              0.8888888888888888,
              "#fdca26"
             ],
             [
              1,
              "#f0f921"
             ]
            ],
            "type": "contour"
           }
          ],
          "contourcarpet": [
           {
            "colorbar": {
             "outlinewidth": 0,
             "ticks": ""
            },
            "type": "contourcarpet"
           }
          ],
          "heatmap": [
           {
            "colorbar": {
             "outlinewidth": 0,
             "ticks": ""
            },
            "colorscale": [
             [
              0,
              "#0d0887"
             ],
             [
              0.1111111111111111,
              "#46039f"
             ],
             [
              0.2222222222222222,
              "#7201a8"
             ],
             [
              0.3333333333333333,
              "#9c179e"
             ],
             [
              0.4444444444444444,
              "#bd3786"
             ],
             [
              0.5555555555555556,
              "#d8576b"
             ],
             [
              0.6666666666666666,
              "#ed7953"
             ],
             [
              0.7777777777777778,
              "#fb9f3a"
             ],
             [
              0.8888888888888888,
              "#fdca26"
             ],
             [
              1,
              "#f0f921"
             ]
            ],
            "type": "heatmap"
           }
          ],
          "heatmapgl": [
           {
            "colorbar": {
             "outlinewidth": 0,
             "ticks": ""
            },
            "colorscale": [
             [
              0,
              "#0d0887"
             ],
             [
              0.1111111111111111,
              "#46039f"
             ],
             [
              0.2222222222222222,
              "#7201a8"
             ],
             [
              0.3333333333333333,
              "#9c179e"
             ],
             [
              0.4444444444444444,
              "#bd3786"
             ],
             [
              0.5555555555555556,
              "#d8576b"
             ],
             [
              0.6666666666666666,
              "#ed7953"
             ],
             [
              0.7777777777777778,
              "#fb9f3a"
             ],
             [
              0.8888888888888888,
              "#fdca26"
             ],
             [
              1,
              "#f0f921"
             ]
            ],
            "type": "heatmapgl"
           }
          ],
          "histogram": [
           {
            "marker": {
             "pattern": {
              "fillmode": "overlay",
              "size": 10,
              "solidity": 0.2
             }
            },
            "type": "histogram"
           }
          ],
          "histogram2d": [
           {
            "colorbar": {
             "outlinewidth": 0,
             "ticks": ""
            },
            "colorscale": [
             [
              0,
              "#0d0887"
             ],
             [
              0.1111111111111111,
              "#46039f"
             ],
             [
              0.2222222222222222,
              "#7201a8"
             ],
             [
              0.3333333333333333,
              "#9c179e"
             ],
             [
              0.4444444444444444,
              "#bd3786"
             ],
             [
              0.5555555555555556,
              "#d8576b"
             ],
             [
              0.6666666666666666,
              "#ed7953"
             ],
             [
              0.7777777777777778,
              "#fb9f3a"
             ],
             [
              0.8888888888888888,
              "#fdca26"
             ],
             [
              1,
              "#f0f921"
             ]
            ],
            "type": "histogram2d"
           }
          ],
          "histogram2dcontour": [
           {
            "colorbar": {
             "outlinewidth": 0,
             "ticks": ""
            },
            "colorscale": [
             [
              0,
              "#0d0887"
             ],
             [
              0.1111111111111111,
              "#46039f"
             ],
             [
              0.2222222222222222,
              "#7201a8"
             ],
             [
              0.3333333333333333,
              "#9c179e"
             ],
             [
              0.4444444444444444,
              "#bd3786"
             ],
             [
              0.5555555555555556,
              "#d8576b"
             ],
             [
              0.6666666666666666,
              "#ed7953"
             ],
             [
              0.7777777777777778,
              "#fb9f3a"
             ],
             [
              0.8888888888888888,
              "#fdca26"
             ],
             [
              1,
              "#f0f921"
             ]
            ],
            "type": "histogram2dcontour"
           }
          ],
          "mesh3d": [
           {
            "colorbar": {
             "outlinewidth": 0,
             "ticks": ""
            },
            "type": "mesh3d"
           }
          ],
          "parcoords": [
           {
            "line": {
             "colorbar": {
              "outlinewidth": 0,
              "ticks": ""
             }
            },
            "type": "parcoords"
           }
          ],
          "pie": [
           {
            "automargin": true,
            "type": "pie"
           }
          ],
          "scatter": [
           {
            "marker": {
             "colorbar": {
              "outlinewidth": 0,
              "ticks": ""
             }
            },
            "type": "scatter"
           }
          ],
          "scatter3d": [
           {
            "line": {
             "colorbar": {
              "outlinewidth": 0,
              "ticks": ""
             }
            },
            "marker": {
             "colorbar": {
              "outlinewidth": 0,
              "ticks": ""
             }
            },
            "type": "scatter3d"
           }
          ],
          "scattercarpet": [
           {
            "marker": {
             "colorbar": {
              "outlinewidth": 0,
              "ticks": ""
             }
            },
            "type": "scattercarpet"
           }
          ],
          "scattergeo": [
           {
            "marker": {
             "colorbar": {
              "outlinewidth": 0,
              "ticks": ""
             }
            },
            "type": "scattergeo"
           }
          ],
          "scattergl": [
           {
            "marker": {
             "colorbar": {
              "outlinewidth": 0,
              "ticks": ""
             }
            },
            "type": "scattergl"
           }
          ],
          "scattermapbox": [
           {
            "marker": {
             "colorbar": {
              "outlinewidth": 0,
              "ticks": ""
             }
            },
            "type": "scattermapbox"
           }
          ],
          "scatterpolar": [
           {
            "marker": {
             "colorbar": {
              "outlinewidth": 0,
              "ticks": ""
             }
            },
            "type": "scatterpolar"
           }
          ],
          "scatterpolargl": [
           {
            "marker": {
             "colorbar": {
              "outlinewidth": 0,
              "ticks": ""
             }
            },
            "type": "scatterpolargl"
           }
          ],
          "scatterternary": [
           {
            "marker": {
             "colorbar": {
              "outlinewidth": 0,
              "ticks": ""
             }
            },
            "type": "scatterternary"
           }
          ],
          "surface": [
           {
            "colorbar": {
             "outlinewidth": 0,
             "ticks": ""
            },
            "colorscale": [
             [
              0,
              "#0d0887"
             ],
             [
              0.1111111111111111,
              "#46039f"
             ],
             [
              0.2222222222222222,
              "#7201a8"
             ],
             [
              0.3333333333333333,
              "#9c179e"
             ],
             [
              0.4444444444444444,
              "#bd3786"
             ],
             [
              0.5555555555555556,
              "#d8576b"
             ],
             [
              0.6666666666666666,
              "#ed7953"
             ],
             [
              0.7777777777777778,
              "#fb9f3a"
             ],
             [
              0.8888888888888888,
              "#fdca26"
             ],
             [
              1,
              "#f0f921"
             ]
            ],
            "type": "surface"
           }
          ],
          "table": [
           {
            "cells": {
             "fill": {
              "color": "#EBF0F8"
             },
             "line": {
              "color": "white"
             }
            },
            "header": {
             "fill": {
              "color": "#C8D4E3"
             },
             "line": {
              "color": "white"
             }
            },
            "type": "table"
           }
          ]
         },
         "layout": {
          "annotationdefaults": {
           "arrowcolor": "#2a3f5f",
           "arrowhead": 0,
           "arrowwidth": 1
          },
          "autotypenumbers": "strict",
          "coloraxis": {
           "colorbar": {
            "outlinewidth": 0,
            "ticks": ""
           }
          },
          "colorscale": {
           "diverging": [
            [
             0,
             "#8e0152"
            ],
            [
             0.1,
             "#c51b7d"
            ],
            [
             0.2,
             "#de77ae"
            ],
            [
             0.3,
             "#f1b6da"
            ],
            [
             0.4,
             "#fde0ef"
            ],
            [
             0.5,
             "#f7f7f7"
            ],
            [
             0.6,
             "#e6f5d0"
            ],
            [
             0.7,
             "#b8e186"
            ],
            [
             0.8,
             "#7fbc41"
            ],
            [
             0.9,
             "#4d9221"
            ],
            [
             1,
             "#276419"
            ]
           ],
           "sequential": [
            [
             0,
             "#0d0887"
            ],
            [
             0.1111111111111111,
             "#46039f"
            ],
            [
             0.2222222222222222,
             "#7201a8"
            ],
            [
             0.3333333333333333,
             "#9c179e"
            ],
            [
             0.4444444444444444,
             "#bd3786"
            ],
            [
             0.5555555555555556,
             "#d8576b"
            ],
            [
             0.6666666666666666,
             "#ed7953"
            ],
            [
             0.7777777777777778,
             "#fb9f3a"
            ],
            [
             0.8888888888888888,
             "#fdca26"
            ],
            [
             1,
             "#f0f921"
            ]
           ],
           "sequentialminus": [
            [
             0,
             "#0d0887"
            ],
            [
             0.1111111111111111,
             "#46039f"
            ],
            [
             0.2222222222222222,
             "#7201a8"
            ],
            [
             0.3333333333333333,
             "#9c179e"
            ],
            [
             0.4444444444444444,
             "#bd3786"
            ],
            [
             0.5555555555555556,
             "#d8576b"
            ],
            [
             0.6666666666666666,
             "#ed7953"
            ],
            [
             0.7777777777777778,
             "#fb9f3a"
            ],
            [
             0.8888888888888888,
             "#fdca26"
            ],
            [
             1,
             "#f0f921"
            ]
           ]
          },
          "colorway": [
           "#636efa",
           "#EF553B",
           "#00cc96",
           "#ab63fa",
           "#FFA15A",
           "#19d3f3",
           "#FF6692",
           "#B6E880",
           "#FF97FF",
           "#FECB52"
          ],
          "font": {
           "color": "#2a3f5f"
          },
          "geo": {
           "bgcolor": "white",
           "lakecolor": "white",
           "landcolor": "#E5ECF6",
           "showlakes": true,
           "showland": true,
           "subunitcolor": "white"
          },
          "hoverlabel": {
           "align": "left"
          },
          "hovermode": "closest",
          "mapbox": {
           "style": "light"
          },
          "paper_bgcolor": "white",
          "plot_bgcolor": "#E5ECF6",
          "polar": {
           "angularaxis": {
            "gridcolor": "white",
            "linecolor": "white",
            "ticks": ""
           },
           "bgcolor": "#E5ECF6",
           "radialaxis": {
            "gridcolor": "white",
            "linecolor": "white",
            "ticks": ""
           }
          },
          "scene": {
           "xaxis": {
            "backgroundcolor": "#E5ECF6",
            "gridcolor": "white",
            "gridwidth": 2,
            "linecolor": "white",
            "showbackground": true,
            "ticks": "",
            "zerolinecolor": "white"
           },
           "yaxis": {
            "backgroundcolor": "#E5ECF6",
            "gridcolor": "white",
            "gridwidth": 2,
            "linecolor": "white",
            "showbackground": true,
            "ticks": "",
            "zerolinecolor": "white"
           },
           "zaxis": {
            "backgroundcolor": "#E5ECF6",
            "gridcolor": "white",
            "gridwidth": 2,
            "linecolor": "white",
            "showbackground": true,
            "ticks": "",
            "zerolinecolor": "white"
           }
          },
          "shapedefaults": {
           "line": {
            "color": "#2a3f5f"
           }
          },
          "ternary": {
           "aaxis": {
            "gridcolor": "white",
            "linecolor": "white",
            "ticks": ""
           },
           "baxis": {
            "gridcolor": "white",
            "linecolor": "white",
            "ticks": ""
           },
           "bgcolor": "#E5ECF6",
           "caxis": {
            "gridcolor": "white",
            "linecolor": "white",
            "ticks": ""
           }
          },
          "title": {
           "x": 0.05
          },
          "xaxis": {
           "automargin": true,
           "gridcolor": "white",
           "linecolor": "white",
           "ticks": "",
           "title": {
            "standoff": 15
           },
           "zerolinecolor": "white",
           "zerolinewidth": 2
          },
          "yaxis": {
           "automargin": true,
           "gridcolor": "white",
           "linecolor": "white",
           "ticks": "",
           "title": {
            "standoff": 15
           },
           "zerolinecolor": "white",
           "zerolinewidth": 2
          }
         }
        },
        "xaxis": {
         "anchor": "y",
         "constrain": "domain",
         "domain": [
          0,
          1
         ],
         "scaleanchor": "y",
         "title": {
          "text": "Predicted Subtype"
         }
        },
        "yaxis": {
         "anchor": "x",
         "autorange": "reversed",
         "constrain": "domain",
         "domain": [
          0,
          1
         ],
         "title": {
          "text": "True Subtype"
         }
        }
       }
      }
     },
     "metadata": {},
     "output_type": "display_data"
    }
   ],
   "source": [
    "# Calculate a confusion matrix\n",
    "cm = confusion_matrix(y_test, rfc_y_pred, labels=rfc.classes_)\n",
    "\n",
    "# Display confusion matrix to look at how accurately the ML model was able to classify each tumor type\n",
    "disp = px.imshow(cm, text_auto=True,\n",
    "                labels=dict(x=\"Predicted Subtype\", y=\"True Subtype\", color=\"Productivity\"),\n",
    "                x=df['Subtype'].unique().tolist(),\n",
    "                y=df['Subtype'].unique().tolist()\n",
    "                )\n",
    "disp.show()"
   ]
  },
  {
   "cell_type": "markdown",
   "id": "9952e045",
   "metadata": {},
   "source": [
    "# XGBoost"
   ]
  },
  {
   "cell_type": "code",
   "execution_count": 6,
   "id": "edeaff04",
   "metadata": {},
   "outputs": [],
   "source": [
    "import xgboost as xgb"
   ]
  },
  {
   "cell_type": "code",
   "execution_count": 7,
   "id": "7aeab891",
   "metadata": {},
   "outputs": [
    {
     "data": {
      "text/plain": [
       "array([0, 2, 2, 1, 1, 1, 2, 0, 0, 2, 3, 0, 1, 1, 1, 2, 1, 0, 1, 1, 2, 1,\n",
       "       3, 2, 2, 1])"
      ]
     },
     "execution_count": 7,
     "metadata": {},
     "output_type": "execute_result"
    }
   ],
   "source": [
    "from sklearn.preprocessing import LabelEncoder\n",
    "encoder = LabelEncoder()\n",
    "y = encoder.fit_transform(y)\n",
    "y"
   ]
  },
  {
   "cell_type": "code",
   "execution_count": 8,
   "id": "25d69402",
   "metadata": {},
   "outputs": [],
   "source": [
    "# Split PBTA data into training and testing set\n",
    "X_train, X_test, y_train, y_test = train_test_split(X, y, test_size=0.25, random_state=0)"
   ]
  },
  {
   "cell_type": "code",
   "execution_count": 9,
   "id": "ab65799f",
   "metadata": {},
   "outputs": [
    {
     "data": {
      "text/html": [
       "<style>#sk-container-id-1 {color: black;background-color: white;}#sk-container-id-1 pre{padding: 0;}#sk-container-id-1 div.sk-toggleable {background-color: white;}#sk-container-id-1 label.sk-toggleable__label {cursor: pointer;display: block;width: 100%;margin-bottom: 0;padding: 0.3em;box-sizing: border-box;text-align: center;}#sk-container-id-1 label.sk-toggleable__label-arrow:before {content: \"▸\";float: left;margin-right: 0.25em;color: #696969;}#sk-container-id-1 label.sk-toggleable__label-arrow:hover:before {color: black;}#sk-container-id-1 div.sk-estimator:hover label.sk-toggleable__label-arrow:before {color: black;}#sk-container-id-1 div.sk-toggleable__content {max-height: 0;max-width: 0;overflow: hidden;text-align: left;background-color: #f0f8ff;}#sk-container-id-1 div.sk-toggleable__content pre {margin: 0.2em;color: black;border-radius: 0.25em;background-color: #f0f8ff;}#sk-container-id-1 input.sk-toggleable__control:checked~div.sk-toggleable__content {max-height: 200px;max-width: 100%;overflow: auto;}#sk-container-id-1 input.sk-toggleable__control:checked~label.sk-toggleable__label-arrow:before {content: \"▾\";}#sk-container-id-1 div.sk-estimator input.sk-toggleable__control:checked~label.sk-toggleable__label {background-color: #d4ebff;}#sk-container-id-1 div.sk-label input.sk-toggleable__control:checked~label.sk-toggleable__label {background-color: #d4ebff;}#sk-container-id-1 input.sk-hidden--visually {border: 0;clip: rect(1px 1px 1px 1px);clip: rect(1px, 1px, 1px, 1px);height: 1px;margin: -1px;overflow: hidden;padding: 0;position: absolute;width: 1px;}#sk-container-id-1 div.sk-estimator {font-family: monospace;background-color: #f0f8ff;border: 1px dotted black;border-radius: 0.25em;box-sizing: border-box;margin-bottom: 0.5em;}#sk-container-id-1 div.sk-estimator:hover {background-color: #d4ebff;}#sk-container-id-1 div.sk-parallel-item::after {content: \"\";width: 100%;border-bottom: 1px solid gray;flex-grow: 1;}#sk-container-id-1 div.sk-label:hover label.sk-toggleable__label {background-color: #d4ebff;}#sk-container-id-1 div.sk-serial::before {content: \"\";position: absolute;border-left: 1px solid gray;box-sizing: border-box;top: 0;bottom: 0;left: 50%;z-index: 0;}#sk-container-id-1 div.sk-serial {display: flex;flex-direction: column;align-items: center;background-color: white;padding-right: 0.2em;padding-left: 0.2em;position: relative;}#sk-container-id-1 div.sk-item {position: relative;z-index: 1;}#sk-container-id-1 div.sk-parallel {display: flex;align-items: stretch;justify-content: center;background-color: white;position: relative;}#sk-container-id-1 div.sk-item::before, #sk-container-id-1 div.sk-parallel-item::before {content: \"\";position: absolute;border-left: 1px solid gray;box-sizing: border-box;top: 0;bottom: 0;left: 50%;z-index: -1;}#sk-container-id-1 div.sk-parallel-item {display: flex;flex-direction: column;z-index: 1;position: relative;background-color: white;}#sk-container-id-1 div.sk-parallel-item:first-child::after {align-self: flex-end;width: 50%;}#sk-container-id-1 div.sk-parallel-item:last-child::after {align-self: flex-start;width: 50%;}#sk-container-id-1 div.sk-parallel-item:only-child::after {width: 0;}#sk-container-id-1 div.sk-dashed-wrapped {border: 1px dashed gray;margin: 0 0.4em 0.5em 0.4em;box-sizing: border-box;padding-bottom: 0.4em;background-color: white;}#sk-container-id-1 div.sk-label label {font-family: monospace;font-weight: bold;display: inline-block;line-height: 1.2em;}#sk-container-id-1 div.sk-label-container {text-align: center;}#sk-container-id-1 div.sk-container {/* jupyter's `normalize.less` sets `[hidden] { display: none; }` but bootstrap.min.css set `[hidden] { display: none !important; }` so we also need the `!important` here to be able to override the default hidden behavior on the sphinx rendered scikit-learn.org. See: https://github.com/scikit-learn/scikit-learn/issues/21755 */display: inline-block !important;position: relative;}#sk-container-id-1 div.sk-text-repr-fallback {display: none;}</style><div id=\"sk-container-id-1\" class=\"sk-top-container\"><div class=\"sk-text-repr-fallback\"><pre>XGBClassifier(base_score=0.5, booster=&#x27;gbtree&#x27;, callbacks=None,\n",
       "              colsample_bylevel=1, colsample_bynode=1, colsample_bytree=1,\n",
       "              early_stopping_rounds=None, enable_categorical=False,\n",
       "              eval_metric=None, gamma=0, gpu_id=-1, grow_policy=&#x27;depthwise&#x27;,\n",
       "              importance_type=None, interaction_constraints=&#x27;&#x27;,\n",
       "              learning_rate=0.300000012, max_bin=256, max_cat_to_onehot=4,\n",
       "              max_delta_step=0, max_depth=6, max_leaves=0, min_child_weight=1,\n",
       "              missing=nan, monotone_constraints=&#x27;()&#x27;, n_estimators=100,\n",
       "              n_jobs=0, num_parallel_tree=1, objective=&#x27;multi:softprob&#x27;,\n",
       "              predictor=&#x27;auto&#x27;, random_state=0, reg_alpha=0, ...)</pre><b>In a Jupyter environment, please rerun this cell to show the HTML representation or trust the notebook. <br />On GitHub, the HTML representation is unable to render, please try loading this page with nbviewer.org.</b></div><div class=\"sk-container\" hidden><div class=\"sk-item\"><div class=\"sk-estimator sk-toggleable\"><input class=\"sk-toggleable__control sk-hidden--visually\" id=\"sk-estimator-id-1\" type=\"checkbox\" checked><label for=\"sk-estimator-id-1\" class=\"sk-toggleable__label sk-toggleable__label-arrow\">XGBClassifier</label><div class=\"sk-toggleable__content\"><pre>XGBClassifier(base_score=0.5, booster=&#x27;gbtree&#x27;, callbacks=None,\n",
       "              colsample_bylevel=1, colsample_bynode=1, colsample_bytree=1,\n",
       "              early_stopping_rounds=None, enable_categorical=False,\n",
       "              eval_metric=None, gamma=0, gpu_id=-1, grow_policy=&#x27;depthwise&#x27;,\n",
       "              importance_type=None, interaction_constraints=&#x27;&#x27;,\n",
       "              learning_rate=0.300000012, max_bin=256, max_cat_to_onehot=4,\n",
       "              max_delta_step=0, max_depth=6, max_leaves=0, min_child_weight=1,\n",
       "              missing=nan, monotone_constraints=&#x27;()&#x27;, n_estimators=100,\n",
       "              n_jobs=0, num_parallel_tree=1, objective=&#x27;multi:softprob&#x27;,\n",
       "              predictor=&#x27;auto&#x27;, random_state=0, reg_alpha=0, ...)</pre></div></div></div></div></div>"
      ],
      "text/plain": [
       "XGBClassifier(base_score=0.5, booster='gbtree', callbacks=None,\n",
       "              colsample_bylevel=1, colsample_bynode=1, colsample_bytree=1,\n",
       "              early_stopping_rounds=None, enable_categorical=False,\n",
       "              eval_metric=None, gamma=0, gpu_id=-1, grow_policy='depthwise',\n",
       "              importance_type=None, interaction_constraints='',\n",
       "              learning_rate=0.300000012, max_bin=256, max_cat_to_onehot=4,\n",
       "              max_delta_step=0, max_depth=6, max_leaves=0, min_child_weight=1,\n",
       "              missing=nan, monotone_constraints='()', n_estimators=100,\n",
       "              n_jobs=0, num_parallel_tree=1, objective='multi:softprob',\n",
       "              predictor='auto', random_state=0, reg_alpha=0, ...)"
      ]
     },
     "execution_count": 9,
     "metadata": {},
     "output_type": "execute_result"
    }
   ],
   "source": [
    "xgbc = xgb.XGBClassifier(random_state=0)\n",
    "xgbc.fit(X_train, y_train)"
   ]
  },
  {
   "cell_type": "code",
   "execution_count": 10,
   "id": "d6298a51",
   "metadata": {},
   "outputs": [
    {
     "name": "stdout",
     "output_type": "stream",
     "text": [
      "Accuracy: 1.0\n"
     ]
    }
   ],
   "source": [
    "# Make predictions using random forest classifier\n",
    "xgbc_y_pred = xgbc.predict(X_test)\n",
    "\n",
    "# Accuracy of model\n",
    "print(f'Accuracy: {accuracy_score(y_test, xgbc_y_pred)}')"
   ]
  },
  {
   "cell_type": "code",
   "execution_count": 11,
   "id": "ffcb241b",
   "metadata": {},
   "outputs": [
    {
     "data": {
      "application/vnd.plotly.v1+json": {
       "config": {
        "plotlyServerURL": "https://plot.ly"
       },
       "data": [
        {
         "coloraxis": "coloraxis",
         "hovertemplate": "Predicted Subtype: %{x}<br>True Subtype: %{y}<br>Productivity: %{z}<extra></extra>",
         "name": "0",
         "texttemplate": "%{z}",
         "type": "heatmap",
         "x": [
          "Group3",
          "SHH",
          "Group4",
          "WNT"
         ],
         "xaxis": "x",
         "y": [
          "Group3",
          "SHH",
          "Group4",
          "WNT"
         ],
         "yaxis": "y",
         "z": [
          [
           2,
           0,
           0,
           0
          ],
          [
           0,
           2,
           0,
           0
          ],
          [
           0,
           0,
           2,
           0
          ],
          [
           0,
           0,
           0,
           1
          ]
         ]
        }
       ],
       "layout": {
        "coloraxis": {
         "colorbar": {
          "title": {
           "text": "Productivity"
          }
         },
         "colorscale": [
          [
           0,
           "#0d0887"
          ],
          [
           0.1111111111111111,
           "#46039f"
          ],
          [
           0.2222222222222222,
           "#7201a8"
          ],
          [
           0.3333333333333333,
           "#9c179e"
          ],
          [
           0.4444444444444444,
           "#bd3786"
          ],
          [
           0.5555555555555556,
           "#d8576b"
          ],
          [
           0.6666666666666666,
           "#ed7953"
          ],
          [
           0.7777777777777778,
           "#fb9f3a"
          ],
          [
           0.8888888888888888,
           "#fdca26"
          ],
          [
           1,
           "#f0f921"
          ]
         ]
        },
        "margin": {
         "t": 60
        },
        "template": {
         "data": {
          "bar": [
           {
            "error_x": {
             "color": "#2a3f5f"
            },
            "error_y": {
             "color": "#2a3f5f"
            },
            "marker": {
             "line": {
              "color": "#E5ECF6",
              "width": 0.5
             },
             "pattern": {
              "fillmode": "overlay",
              "size": 10,
              "solidity": 0.2
             }
            },
            "type": "bar"
           }
          ],
          "barpolar": [
           {
            "marker": {
             "line": {
              "color": "#E5ECF6",
              "width": 0.5
             },
             "pattern": {
              "fillmode": "overlay",
              "size": 10,
              "solidity": 0.2
             }
            },
            "type": "barpolar"
           }
          ],
          "carpet": [
           {
            "aaxis": {
             "endlinecolor": "#2a3f5f",
             "gridcolor": "white",
             "linecolor": "white",
             "minorgridcolor": "white",
             "startlinecolor": "#2a3f5f"
            },
            "baxis": {
             "endlinecolor": "#2a3f5f",
             "gridcolor": "white",
             "linecolor": "white",
             "minorgridcolor": "white",
             "startlinecolor": "#2a3f5f"
            },
            "type": "carpet"
           }
          ],
          "choropleth": [
           {
            "colorbar": {
             "outlinewidth": 0,
             "ticks": ""
            },
            "type": "choropleth"
           }
          ],
          "contour": [
           {
            "colorbar": {
             "outlinewidth": 0,
             "ticks": ""
            },
            "colorscale": [
             [
              0,
              "#0d0887"
             ],
             [
              0.1111111111111111,
              "#46039f"
             ],
             [
              0.2222222222222222,
              "#7201a8"
             ],
             [
              0.3333333333333333,
              "#9c179e"
             ],
             [
              0.4444444444444444,
              "#bd3786"
             ],
             [
              0.5555555555555556,
              "#d8576b"
             ],
             [
              0.6666666666666666,
              "#ed7953"
             ],
             [
              0.7777777777777778,
              "#fb9f3a"
             ],
             [
              0.8888888888888888,
              "#fdca26"
             ],
             [
              1,
              "#f0f921"
             ]
            ],
            "type": "contour"
           }
          ],
          "contourcarpet": [
           {
            "colorbar": {
             "outlinewidth": 0,
             "ticks": ""
            },
            "type": "contourcarpet"
           }
          ],
          "heatmap": [
           {
            "colorbar": {
             "outlinewidth": 0,
             "ticks": ""
            },
            "colorscale": [
             [
              0,
              "#0d0887"
             ],
             [
              0.1111111111111111,
              "#46039f"
             ],
             [
              0.2222222222222222,
              "#7201a8"
             ],
             [
              0.3333333333333333,
              "#9c179e"
             ],
             [
              0.4444444444444444,
              "#bd3786"
             ],
             [
              0.5555555555555556,
              "#d8576b"
             ],
             [
              0.6666666666666666,
              "#ed7953"
             ],
             [
              0.7777777777777778,
              "#fb9f3a"
             ],
             [
              0.8888888888888888,
              "#fdca26"
             ],
             [
              1,
              "#f0f921"
             ]
            ],
            "type": "heatmap"
           }
          ],
          "heatmapgl": [
           {
            "colorbar": {
             "outlinewidth": 0,
             "ticks": ""
            },
            "colorscale": [
             [
              0,
              "#0d0887"
             ],
             [
              0.1111111111111111,
              "#46039f"
             ],
             [
              0.2222222222222222,
              "#7201a8"
             ],
             [
              0.3333333333333333,
              "#9c179e"
             ],
             [
              0.4444444444444444,
              "#bd3786"
             ],
             [
              0.5555555555555556,
              "#d8576b"
             ],
             [
              0.6666666666666666,
              "#ed7953"
             ],
             [
              0.7777777777777778,
              "#fb9f3a"
             ],
             [
              0.8888888888888888,
              "#fdca26"
             ],
             [
              1,
              "#f0f921"
             ]
            ],
            "type": "heatmapgl"
           }
          ],
          "histogram": [
           {
            "marker": {
             "pattern": {
              "fillmode": "overlay",
              "size": 10,
              "solidity": 0.2
             }
            },
            "type": "histogram"
           }
          ],
          "histogram2d": [
           {
            "colorbar": {
             "outlinewidth": 0,
             "ticks": ""
            },
            "colorscale": [
             [
              0,
              "#0d0887"
             ],
             [
              0.1111111111111111,
              "#46039f"
             ],
             [
              0.2222222222222222,
              "#7201a8"
             ],
             [
              0.3333333333333333,
              "#9c179e"
             ],
             [
              0.4444444444444444,
              "#bd3786"
             ],
             [
              0.5555555555555556,
              "#d8576b"
             ],
             [
              0.6666666666666666,
              "#ed7953"
             ],
             [
              0.7777777777777778,
              "#fb9f3a"
             ],
             [
              0.8888888888888888,
              "#fdca26"
             ],
             [
              1,
              "#f0f921"
             ]
            ],
            "type": "histogram2d"
           }
          ],
          "histogram2dcontour": [
           {
            "colorbar": {
             "outlinewidth": 0,
             "ticks": ""
            },
            "colorscale": [
             [
              0,
              "#0d0887"
             ],
             [
              0.1111111111111111,
              "#46039f"
             ],
             [
              0.2222222222222222,
              "#7201a8"
             ],
             [
              0.3333333333333333,
              "#9c179e"
             ],
             [
              0.4444444444444444,
              "#bd3786"
             ],
             [
              0.5555555555555556,
              "#d8576b"
             ],
             [
              0.6666666666666666,
              "#ed7953"
             ],
             [
              0.7777777777777778,
              "#fb9f3a"
             ],
             [
              0.8888888888888888,
              "#fdca26"
             ],
             [
              1,
              "#f0f921"
             ]
            ],
            "type": "histogram2dcontour"
           }
          ],
          "mesh3d": [
           {
            "colorbar": {
             "outlinewidth": 0,
             "ticks": ""
            },
            "type": "mesh3d"
           }
          ],
          "parcoords": [
           {
            "line": {
             "colorbar": {
              "outlinewidth": 0,
              "ticks": ""
             }
            },
            "type": "parcoords"
           }
          ],
          "pie": [
           {
            "automargin": true,
            "type": "pie"
           }
          ],
          "scatter": [
           {
            "marker": {
             "colorbar": {
              "outlinewidth": 0,
              "ticks": ""
             }
            },
            "type": "scatter"
           }
          ],
          "scatter3d": [
           {
            "line": {
             "colorbar": {
              "outlinewidth": 0,
              "ticks": ""
             }
            },
            "marker": {
             "colorbar": {
              "outlinewidth": 0,
              "ticks": ""
             }
            },
            "type": "scatter3d"
           }
          ],
          "scattercarpet": [
           {
            "marker": {
             "colorbar": {
              "outlinewidth": 0,
              "ticks": ""
             }
            },
            "type": "scattercarpet"
           }
          ],
          "scattergeo": [
           {
            "marker": {
             "colorbar": {
              "outlinewidth": 0,
              "ticks": ""
             }
            },
            "type": "scattergeo"
           }
          ],
          "scattergl": [
           {
            "marker": {
             "colorbar": {
              "outlinewidth": 0,
              "ticks": ""
             }
            },
            "type": "scattergl"
           }
          ],
          "scattermapbox": [
           {
            "marker": {
             "colorbar": {
              "outlinewidth": 0,
              "ticks": ""
             }
            },
            "type": "scattermapbox"
           }
          ],
          "scatterpolar": [
           {
            "marker": {
             "colorbar": {
              "outlinewidth": 0,
              "ticks": ""
             }
            },
            "type": "scatterpolar"
           }
          ],
          "scatterpolargl": [
           {
            "marker": {
             "colorbar": {
              "outlinewidth": 0,
              "ticks": ""
             }
            },
            "type": "scatterpolargl"
           }
          ],
          "scatterternary": [
           {
            "marker": {
             "colorbar": {
              "outlinewidth": 0,
              "ticks": ""
             }
            },
            "type": "scatterternary"
           }
          ],
          "surface": [
           {
            "colorbar": {
             "outlinewidth": 0,
             "ticks": ""
            },
            "colorscale": [
             [
              0,
              "#0d0887"
             ],
             [
              0.1111111111111111,
              "#46039f"
             ],
             [
              0.2222222222222222,
              "#7201a8"
             ],
             [
              0.3333333333333333,
              "#9c179e"
             ],
             [
              0.4444444444444444,
              "#bd3786"
             ],
             [
              0.5555555555555556,
              "#d8576b"
             ],
             [
              0.6666666666666666,
              "#ed7953"
             ],
             [
              0.7777777777777778,
              "#fb9f3a"
             ],
             [
              0.8888888888888888,
              "#fdca26"
             ],
             [
              1,
              "#f0f921"
             ]
            ],
            "type": "surface"
           }
          ],
          "table": [
           {
            "cells": {
             "fill": {
              "color": "#EBF0F8"
             },
             "line": {
              "color": "white"
             }
            },
            "header": {
             "fill": {
              "color": "#C8D4E3"
             },
             "line": {
              "color": "white"
             }
            },
            "type": "table"
           }
          ]
         },
         "layout": {
          "annotationdefaults": {
           "arrowcolor": "#2a3f5f",
           "arrowhead": 0,
           "arrowwidth": 1
          },
          "autotypenumbers": "strict",
          "coloraxis": {
           "colorbar": {
            "outlinewidth": 0,
            "ticks": ""
           }
          },
          "colorscale": {
           "diverging": [
            [
             0,
             "#8e0152"
            ],
            [
             0.1,
             "#c51b7d"
            ],
            [
             0.2,
             "#de77ae"
            ],
            [
             0.3,
             "#f1b6da"
            ],
            [
             0.4,
             "#fde0ef"
            ],
            [
             0.5,
             "#f7f7f7"
            ],
            [
             0.6,
             "#e6f5d0"
            ],
            [
             0.7,
             "#b8e186"
            ],
            [
             0.8,
             "#7fbc41"
            ],
            [
             0.9,
             "#4d9221"
            ],
            [
             1,
             "#276419"
            ]
           ],
           "sequential": [
            [
             0,
             "#0d0887"
            ],
            [
             0.1111111111111111,
             "#46039f"
            ],
            [
             0.2222222222222222,
             "#7201a8"
            ],
            [
             0.3333333333333333,
             "#9c179e"
            ],
            [
             0.4444444444444444,
             "#bd3786"
            ],
            [
             0.5555555555555556,
             "#d8576b"
            ],
            [
             0.6666666666666666,
             "#ed7953"
            ],
            [
             0.7777777777777778,
             "#fb9f3a"
            ],
            [
             0.8888888888888888,
             "#fdca26"
            ],
            [
             1,
             "#f0f921"
            ]
           ],
           "sequentialminus": [
            [
             0,
             "#0d0887"
            ],
            [
             0.1111111111111111,
             "#46039f"
            ],
            [
             0.2222222222222222,
             "#7201a8"
            ],
            [
             0.3333333333333333,
             "#9c179e"
            ],
            [
             0.4444444444444444,
             "#bd3786"
            ],
            [
             0.5555555555555556,
             "#d8576b"
            ],
            [
             0.6666666666666666,
             "#ed7953"
            ],
            [
             0.7777777777777778,
             "#fb9f3a"
            ],
            [
             0.8888888888888888,
             "#fdca26"
            ],
            [
             1,
             "#f0f921"
            ]
           ]
          },
          "colorway": [
           "#636efa",
           "#EF553B",
           "#00cc96",
           "#ab63fa",
           "#FFA15A",
           "#19d3f3",
           "#FF6692",
           "#B6E880",
           "#FF97FF",
           "#FECB52"
          ],
          "font": {
           "color": "#2a3f5f"
          },
          "geo": {
           "bgcolor": "white",
           "lakecolor": "white",
           "landcolor": "#E5ECF6",
           "showlakes": true,
           "showland": true,
           "subunitcolor": "white"
          },
          "hoverlabel": {
           "align": "left"
          },
          "hovermode": "closest",
          "mapbox": {
           "style": "light"
          },
          "paper_bgcolor": "white",
          "plot_bgcolor": "#E5ECF6",
          "polar": {
           "angularaxis": {
            "gridcolor": "white",
            "linecolor": "white",
            "ticks": ""
           },
           "bgcolor": "#E5ECF6",
           "radialaxis": {
            "gridcolor": "white",
            "linecolor": "white",
            "ticks": ""
           }
          },
          "scene": {
           "xaxis": {
            "backgroundcolor": "#E5ECF6",
            "gridcolor": "white",
            "gridwidth": 2,
            "linecolor": "white",
            "showbackground": true,
            "ticks": "",
            "zerolinecolor": "white"
           },
           "yaxis": {
            "backgroundcolor": "#E5ECF6",
            "gridcolor": "white",
            "gridwidth": 2,
            "linecolor": "white",
            "showbackground": true,
            "ticks": "",
            "zerolinecolor": "white"
           },
           "zaxis": {
            "backgroundcolor": "#E5ECF6",
            "gridcolor": "white",
            "gridwidth": 2,
            "linecolor": "white",
            "showbackground": true,
            "ticks": "",
            "zerolinecolor": "white"
           }
          },
          "shapedefaults": {
           "line": {
            "color": "#2a3f5f"
           }
          },
          "ternary": {
           "aaxis": {
            "gridcolor": "white",
            "linecolor": "white",
            "ticks": ""
           },
           "baxis": {
            "gridcolor": "white",
            "linecolor": "white",
            "ticks": ""
           },
           "bgcolor": "#E5ECF6",
           "caxis": {
            "gridcolor": "white",
            "linecolor": "white",
            "ticks": ""
           }
          },
          "title": {
           "x": 0.05
          },
          "xaxis": {
           "automargin": true,
           "gridcolor": "white",
           "linecolor": "white",
           "ticks": "",
           "title": {
            "standoff": 15
           },
           "zerolinecolor": "white",
           "zerolinewidth": 2
          },
          "yaxis": {
           "automargin": true,
           "gridcolor": "white",
           "linecolor": "white",
           "ticks": "",
           "title": {
            "standoff": 15
           },
           "zerolinecolor": "white",
           "zerolinewidth": 2
          }
         }
        },
        "xaxis": {
         "anchor": "y",
         "constrain": "domain",
         "domain": [
          0,
          1
         ],
         "scaleanchor": "y",
         "title": {
          "text": "Predicted Subtype"
         }
        },
        "yaxis": {
         "anchor": "x",
         "autorange": "reversed",
         "constrain": "domain",
         "domain": [
          0,
          1
         ],
         "title": {
          "text": "True Subtype"
         }
        }
       }
      },
      "text/html": [
       "<div>                            <div id=\"1a89929f-f97c-4df5-9dc6-5e5d8208e90d\" class=\"plotly-graph-div\" style=\"height:525px; width:100%;\"></div>            <script type=\"text/javascript\">                require([\"plotly\"], function(Plotly) {                    window.PLOTLYENV=window.PLOTLYENV || {};                                    if (document.getElementById(\"1a89929f-f97c-4df5-9dc6-5e5d8208e90d\")) {                    Plotly.newPlot(                        \"1a89929f-f97c-4df5-9dc6-5e5d8208e90d\",                        [{\"coloraxis\":\"coloraxis\",\"name\":\"0\",\"texttemplate\":\"%{z}\",\"x\":[\"Group3\",\"SHH\",\"Group4\",\"WNT\"],\"y\":[\"Group3\",\"SHH\",\"Group4\",\"WNT\"],\"z\":[[2,0,0,0],[0,2,0,0],[0,0,2,0],[0,0,0,1]],\"type\":\"heatmap\",\"xaxis\":\"x\",\"yaxis\":\"y\",\"hovertemplate\":\"Predicted Subtype: %{x}<br>True Subtype: %{y}<br>Productivity: %{z}<extra></extra>\"}],                        {\"template\":{\"data\":{\"bar\":[{\"error_x\":{\"color\":\"#2a3f5f\"},\"error_y\":{\"color\":\"#2a3f5f\"},\"marker\":{\"line\":{\"color\":\"#E5ECF6\",\"width\":0.5},\"pattern\":{\"fillmode\":\"overlay\",\"size\":10,\"solidity\":0.2}},\"type\":\"bar\"}],\"barpolar\":[{\"marker\":{\"line\":{\"color\":\"#E5ECF6\",\"width\":0.5},\"pattern\":{\"fillmode\":\"overlay\",\"size\":10,\"solidity\":0.2}},\"type\":\"barpolar\"}],\"carpet\":[{\"aaxis\":{\"endlinecolor\":\"#2a3f5f\",\"gridcolor\":\"white\",\"linecolor\":\"white\",\"minorgridcolor\":\"white\",\"startlinecolor\":\"#2a3f5f\"},\"baxis\":{\"endlinecolor\":\"#2a3f5f\",\"gridcolor\":\"white\",\"linecolor\":\"white\",\"minorgridcolor\":\"white\",\"startlinecolor\":\"#2a3f5f\"},\"type\":\"carpet\"}],\"choropleth\":[{\"colorbar\":{\"outlinewidth\":0,\"ticks\":\"\"},\"type\":\"choropleth\"}],\"contour\":[{\"colorbar\":{\"outlinewidth\":0,\"ticks\":\"\"},\"colorscale\":[[0.0,\"#0d0887\"],[0.1111111111111111,\"#46039f\"],[0.2222222222222222,\"#7201a8\"],[0.3333333333333333,\"#9c179e\"],[0.4444444444444444,\"#bd3786\"],[0.5555555555555556,\"#d8576b\"],[0.6666666666666666,\"#ed7953\"],[0.7777777777777778,\"#fb9f3a\"],[0.8888888888888888,\"#fdca26\"],[1.0,\"#f0f921\"]],\"type\":\"contour\"}],\"contourcarpet\":[{\"colorbar\":{\"outlinewidth\":0,\"ticks\":\"\"},\"type\":\"contourcarpet\"}],\"heatmap\":[{\"colorbar\":{\"outlinewidth\":0,\"ticks\":\"\"},\"colorscale\":[[0.0,\"#0d0887\"],[0.1111111111111111,\"#46039f\"],[0.2222222222222222,\"#7201a8\"],[0.3333333333333333,\"#9c179e\"],[0.4444444444444444,\"#bd3786\"],[0.5555555555555556,\"#d8576b\"],[0.6666666666666666,\"#ed7953\"],[0.7777777777777778,\"#fb9f3a\"],[0.8888888888888888,\"#fdca26\"],[1.0,\"#f0f921\"]],\"type\":\"heatmap\"}],\"heatmapgl\":[{\"colorbar\":{\"outlinewidth\":0,\"ticks\":\"\"},\"colorscale\":[[0.0,\"#0d0887\"],[0.1111111111111111,\"#46039f\"],[0.2222222222222222,\"#7201a8\"],[0.3333333333333333,\"#9c179e\"],[0.4444444444444444,\"#bd3786\"],[0.5555555555555556,\"#d8576b\"],[0.6666666666666666,\"#ed7953\"],[0.7777777777777778,\"#fb9f3a\"],[0.8888888888888888,\"#fdca26\"],[1.0,\"#f0f921\"]],\"type\":\"heatmapgl\"}],\"histogram\":[{\"marker\":{\"pattern\":{\"fillmode\":\"overlay\",\"size\":10,\"solidity\":0.2}},\"type\":\"histogram\"}],\"histogram2d\":[{\"colorbar\":{\"outlinewidth\":0,\"ticks\":\"\"},\"colorscale\":[[0.0,\"#0d0887\"],[0.1111111111111111,\"#46039f\"],[0.2222222222222222,\"#7201a8\"],[0.3333333333333333,\"#9c179e\"],[0.4444444444444444,\"#bd3786\"],[0.5555555555555556,\"#d8576b\"],[0.6666666666666666,\"#ed7953\"],[0.7777777777777778,\"#fb9f3a\"],[0.8888888888888888,\"#fdca26\"],[1.0,\"#f0f921\"]],\"type\":\"histogram2d\"}],\"histogram2dcontour\":[{\"colorbar\":{\"outlinewidth\":0,\"ticks\":\"\"},\"colorscale\":[[0.0,\"#0d0887\"],[0.1111111111111111,\"#46039f\"],[0.2222222222222222,\"#7201a8\"],[0.3333333333333333,\"#9c179e\"],[0.4444444444444444,\"#bd3786\"],[0.5555555555555556,\"#d8576b\"],[0.6666666666666666,\"#ed7953\"],[0.7777777777777778,\"#fb9f3a\"],[0.8888888888888888,\"#fdca26\"],[1.0,\"#f0f921\"]],\"type\":\"histogram2dcontour\"}],\"mesh3d\":[{\"colorbar\":{\"outlinewidth\":0,\"ticks\":\"\"},\"type\":\"mesh3d\"}],\"parcoords\":[{\"line\":{\"colorbar\":{\"outlinewidth\":0,\"ticks\":\"\"}},\"type\":\"parcoords\"}],\"pie\":[{\"automargin\":true,\"type\":\"pie\"}],\"scatter\":[{\"marker\":{\"colorbar\":{\"outlinewidth\":0,\"ticks\":\"\"}},\"type\":\"scatter\"}],\"scatter3d\":[{\"line\":{\"colorbar\":{\"outlinewidth\":0,\"ticks\":\"\"}},\"marker\":{\"colorbar\":{\"outlinewidth\":0,\"ticks\":\"\"}},\"type\":\"scatter3d\"}],\"scattercarpet\":[{\"marker\":{\"colorbar\":{\"outlinewidth\":0,\"ticks\":\"\"}},\"type\":\"scattercarpet\"}],\"scattergeo\":[{\"marker\":{\"colorbar\":{\"outlinewidth\":0,\"ticks\":\"\"}},\"type\":\"scattergeo\"}],\"scattergl\":[{\"marker\":{\"colorbar\":{\"outlinewidth\":0,\"ticks\":\"\"}},\"type\":\"scattergl\"}],\"scattermapbox\":[{\"marker\":{\"colorbar\":{\"outlinewidth\":0,\"ticks\":\"\"}},\"type\":\"scattermapbox\"}],\"scatterpolar\":[{\"marker\":{\"colorbar\":{\"outlinewidth\":0,\"ticks\":\"\"}},\"type\":\"scatterpolar\"}],\"scatterpolargl\":[{\"marker\":{\"colorbar\":{\"outlinewidth\":0,\"ticks\":\"\"}},\"type\":\"scatterpolargl\"}],\"scatterternary\":[{\"marker\":{\"colorbar\":{\"outlinewidth\":0,\"ticks\":\"\"}},\"type\":\"scatterternary\"}],\"surface\":[{\"colorbar\":{\"outlinewidth\":0,\"ticks\":\"\"},\"colorscale\":[[0.0,\"#0d0887\"],[0.1111111111111111,\"#46039f\"],[0.2222222222222222,\"#7201a8\"],[0.3333333333333333,\"#9c179e\"],[0.4444444444444444,\"#bd3786\"],[0.5555555555555556,\"#d8576b\"],[0.6666666666666666,\"#ed7953\"],[0.7777777777777778,\"#fb9f3a\"],[0.8888888888888888,\"#fdca26\"],[1.0,\"#f0f921\"]],\"type\":\"surface\"}],\"table\":[{\"cells\":{\"fill\":{\"color\":\"#EBF0F8\"},\"line\":{\"color\":\"white\"}},\"header\":{\"fill\":{\"color\":\"#C8D4E3\"},\"line\":{\"color\":\"white\"}},\"type\":\"table\"}]},\"layout\":{\"annotationdefaults\":{\"arrowcolor\":\"#2a3f5f\",\"arrowhead\":0,\"arrowwidth\":1},\"autotypenumbers\":\"strict\",\"coloraxis\":{\"colorbar\":{\"outlinewidth\":0,\"ticks\":\"\"}},\"colorscale\":{\"diverging\":[[0,\"#8e0152\"],[0.1,\"#c51b7d\"],[0.2,\"#de77ae\"],[0.3,\"#f1b6da\"],[0.4,\"#fde0ef\"],[0.5,\"#f7f7f7\"],[0.6,\"#e6f5d0\"],[0.7,\"#b8e186\"],[0.8,\"#7fbc41\"],[0.9,\"#4d9221\"],[1,\"#276419\"]],\"sequential\":[[0.0,\"#0d0887\"],[0.1111111111111111,\"#46039f\"],[0.2222222222222222,\"#7201a8\"],[0.3333333333333333,\"#9c179e\"],[0.4444444444444444,\"#bd3786\"],[0.5555555555555556,\"#d8576b\"],[0.6666666666666666,\"#ed7953\"],[0.7777777777777778,\"#fb9f3a\"],[0.8888888888888888,\"#fdca26\"],[1.0,\"#f0f921\"]],\"sequentialminus\":[[0.0,\"#0d0887\"],[0.1111111111111111,\"#46039f\"],[0.2222222222222222,\"#7201a8\"],[0.3333333333333333,\"#9c179e\"],[0.4444444444444444,\"#bd3786\"],[0.5555555555555556,\"#d8576b\"],[0.6666666666666666,\"#ed7953\"],[0.7777777777777778,\"#fb9f3a\"],[0.8888888888888888,\"#fdca26\"],[1.0,\"#f0f921\"]]},\"colorway\":[\"#636efa\",\"#EF553B\",\"#00cc96\",\"#ab63fa\",\"#FFA15A\",\"#19d3f3\",\"#FF6692\",\"#B6E880\",\"#FF97FF\",\"#FECB52\"],\"font\":{\"color\":\"#2a3f5f\"},\"geo\":{\"bgcolor\":\"white\",\"lakecolor\":\"white\",\"landcolor\":\"#E5ECF6\",\"showlakes\":true,\"showland\":true,\"subunitcolor\":\"white\"},\"hoverlabel\":{\"align\":\"left\"},\"hovermode\":\"closest\",\"mapbox\":{\"style\":\"light\"},\"paper_bgcolor\":\"white\",\"plot_bgcolor\":\"#E5ECF6\",\"polar\":{\"angularaxis\":{\"gridcolor\":\"white\",\"linecolor\":\"white\",\"ticks\":\"\"},\"bgcolor\":\"#E5ECF6\",\"radialaxis\":{\"gridcolor\":\"white\",\"linecolor\":\"white\",\"ticks\":\"\"}},\"scene\":{\"xaxis\":{\"backgroundcolor\":\"#E5ECF6\",\"gridcolor\":\"white\",\"gridwidth\":2,\"linecolor\":\"white\",\"showbackground\":true,\"ticks\":\"\",\"zerolinecolor\":\"white\"},\"yaxis\":{\"backgroundcolor\":\"#E5ECF6\",\"gridcolor\":\"white\",\"gridwidth\":2,\"linecolor\":\"white\",\"showbackground\":true,\"ticks\":\"\",\"zerolinecolor\":\"white\"},\"zaxis\":{\"backgroundcolor\":\"#E5ECF6\",\"gridcolor\":\"white\",\"gridwidth\":2,\"linecolor\":\"white\",\"showbackground\":true,\"ticks\":\"\",\"zerolinecolor\":\"white\"}},\"shapedefaults\":{\"line\":{\"color\":\"#2a3f5f\"}},\"ternary\":{\"aaxis\":{\"gridcolor\":\"white\",\"linecolor\":\"white\",\"ticks\":\"\"},\"baxis\":{\"gridcolor\":\"white\",\"linecolor\":\"white\",\"ticks\":\"\"},\"bgcolor\":\"#E5ECF6\",\"caxis\":{\"gridcolor\":\"white\",\"linecolor\":\"white\",\"ticks\":\"\"}},\"title\":{\"x\":0.05},\"xaxis\":{\"automargin\":true,\"gridcolor\":\"white\",\"linecolor\":\"white\",\"ticks\":\"\",\"title\":{\"standoff\":15},\"zerolinecolor\":\"white\",\"zerolinewidth\":2},\"yaxis\":{\"automargin\":true,\"gridcolor\":\"white\",\"linecolor\":\"white\",\"ticks\":\"\",\"title\":{\"standoff\":15},\"zerolinecolor\":\"white\",\"zerolinewidth\":2}}},\"xaxis\":{\"anchor\":\"y\",\"domain\":[0.0,1.0],\"scaleanchor\":\"y\",\"constrain\":\"domain\",\"title\":{\"text\":\"Predicted Subtype\"}},\"yaxis\":{\"anchor\":\"x\",\"domain\":[0.0,1.0],\"autorange\":\"reversed\",\"constrain\":\"domain\",\"title\":{\"text\":\"True Subtype\"}},\"coloraxis\":{\"colorbar\":{\"title\":{\"text\":\"Productivity\"}},\"colorscale\":[[0.0,\"#0d0887\"],[0.1111111111111111,\"#46039f\"],[0.2222222222222222,\"#7201a8\"],[0.3333333333333333,\"#9c179e\"],[0.4444444444444444,\"#bd3786\"],[0.5555555555555556,\"#d8576b\"],[0.6666666666666666,\"#ed7953\"],[0.7777777777777778,\"#fb9f3a\"],[0.8888888888888888,\"#fdca26\"],[1.0,\"#f0f921\"]]},\"margin\":{\"t\":60}},                        {\"responsive\": true}                    ).then(function(){\n",
       "                            \n",
       "var gd = document.getElementById('1a89929f-f97c-4df5-9dc6-5e5d8208e90d');\n",
       "var x = new MutationObserver(function (mutations, observer) {{\n",
       "        var display = window.getComputedStyle(gd).display;\n",
       "        if (!display || display === 'none') {{\n",
       "            console.log([gd, 'removed!']);\n",
       "            Plotly.purge(gd);\n",
       "            observer.disconnect();\n",
       "        }}\n",
       "}});\n",
       "\n",
       "// Listen for the removal of the full notebook cells\n",
       "var notebookContainer = gd.closest('#notebook-container');\n",
       "if (notebookContainer) {{\n",
       "    x.observe(notebookContainer, {childList: true});\n",
       "}}\n",
       "\n",
       "// Listen for the clearing of the current output cell\n",
       "var outputEl = gd.closest('.output');\n",
       "if (outputEl) {{\n",
       "    x.observe(outputEl, {childList: true});\n",
       "}}\n",
       "\n",
       "                        })                };                });            </script>        </div>"
      ]
     },
     "metadata": {},
     "output_type": "display_data"
    }
   ],
   "source": [
    "# Calculate a confusion matrix\n",
    "cm = confusion_matrix(y_test, xgbc_y_pred)\n",
    "\n",
    "# Display confusion matrix to look at how accurately the ML model was able to classify each tumor type\n",
    "disp = px.imshow(cm, text_auto=True,\n",
    "                labels=dict(x=\"Predicted Subtype\", y=\"True Subtype\", color=\"Productivity\"),\n",
    "                x=df['Subtype'].unique().tolist(),\n",
    "                y=df['Subtype'].unique().tolist()\n",
    "                )\n",
    "disp.show()"
   ]
  },
  {
   "cell_type": "code",
   "execution_count": 12,
   "id": "ee13ee9b",
   "metadata": {},
   "outputs": [
    {
     "data": {
      "text/html": [
       "<div>\n",
       "<style scoped>\n",
       "    .dataframe tbody tr th:only-of-type {\n",
       "        vertical-align: middle;\n",
       "    }\n",
       "\n",
       "    .dataframe tbody tr th {\n",
       "        vertical-align: top;\n",
       "    }\n",
       "\n",
       "    .dataframe thead th {\n",
       "        text-align: right;\n",
       "    }\n",
       "</style>\n",
       "<table border=\"1\" class=\"dataframe\">\n",
       "  <thead>\n",
       "    <tr style=\"text-align: right;\">\n",
       "      <th></th>\n",
       "      <th>features</th>\n",
       "      <th>importance</th>\n",
       "    </tr>\n",
       "  </thead>\n",
       "  <tbody>\n",
       "    <tr>\n",
       "      <th>0</th>\n",
       "      <td>miR-18a-3p</td>\n",
       "      <td>0.220897</td>\n",
       "    </tr>\n",
       "    <tr>\n",
       "      <th>1</th>\n",
       "      <td>miR-155-5p</td>\n",
       "      <td>0.179644</td>\n",
       "    </tr>\n",
       "    <tr>\n",
       "      <th>2</th>\n",
       "      <td>miR-1263</td>\n",
       "      <td>0.147943</td>\n",
       "    </tr>\n",
       "    <tr>\n",
       "      <th>3</th>\n",
       "      <td>let-7a-2-3p</td>\n",
       "      <td>0.046180</td>\n",
       "    </tr>\n",
       "    <tr>\n",
       "      <th>4</th>\n",
       "      <td>miR-1</td>\n",
       "      <td>0.044957</td>\n",
       "    </tr>\n",
       "    <tr>\n",
       "      <th>5</th>\n",
       "      <td>let-7f-2-3p</td>\n",
       "      <td>0.042382</td>\n",
       "    </tr>\n",
       "    <tr>\n",
       "      <th>6</th>\n",
       "      <td>miR-6878-5p</td>\n",
       "      <td>0.035884</td>\n",
       "    </tr>\n",
       "    <tr>\n",
       "      <th>7</th>\n",
       "      <td>miR-183-3p</td>\n",
       "      <td>0.031866</td>\n",
       "    </tr>\n",
       "    <tr>\n",
       "      <th>8</th>\n",
       "      <td>miR-1275</td>\n",
       "      <td>0.029042</td>\n",
       "    </tr>\n",
       "    <tr>\n",
       "      <th>9</th>\n",
       "      <td>miR-125b-5p</td>\n",
       "      <td>0.026226</td>\n",
       "    </tr>\n",
       "    <tr>\n",
       "      <th>10</th>\n",
       "      <td>miR-181a-3p</td>\n",
       "      <td>0.025482</td>\n",
       "    </tr>\n",
       "    <tr>\n",
       "      <th>11</th>\n",
       "      <td>miR-10b-3p</td>\n",
       "      <td>0.022594</td>\n",
       "    </tr>\n",
       "    <tr>\n",
       "      <th>12</th>\n",
       "      <td>miR-181a-2-3p</td>\n",
       "      <td>0.022164</td>\n",
       "    </tr>\n",
       "    <tr>\n",
       "      <th>13</th>\n",
       "      <td>miR-34b-5p</td>\n",
       "      <td>0.020223</td>\n",
       "    </tr>\n",
       "    <tr>\n",
       "      <th>14</th>\n",
       "      <td>miR-106a-5p</td>\n",
       "      <td>0.019896</td>\n",
       "    </tr>\n",
       "    <tr>\n",
       "      <th>15</th>\n",
       "      <td>miR-561-3p</td>\n",
       "      <td>0.016121</td>\n",
       "    </tr>\n",
       "    <tr>\n",
       "      <th>16</th>\n",
       "      <td>miR-4789-3p</td>\n",
       "      <td>0.015257</td>\n",
       "    </tr>\n",
       "    <tr>\n",
       "      <th>17</th>\n",
       "      <td>miR-504-5p</td>\n",
       "      <td>0.013628</td>\n",
       "    </tr>\n",
       "    <tr>\n",
       "      <th>18</th>\n",
       "      <td>miR-548ag</td>\n",
       "      <td>0.012475</td>\n",
       "    </tr>\n",
       "    <tr>\n",
       "      <th>19</th>\n",
       "      <td>miR-3657</td>\n",
       "      <td>0.011017</td>\n",
       "    </tr>\n",
       "    <tr>\n",
       "      <th>20</th>\n",
       "      <td>miR-342-5p</td>\n",
       "      <td>0.009313</td>\n",
       "    </tr>\n",
       "    <tr>\n",
       "      <th>21</th>\n",
       "      <td>miR-632</td>\n",
       "      <td>0.006811</td>\n",
       "    </tr>\n",
       "  </tbody>\n",
       "</table>\n",
       "</div>"
      ],
      "text/plain": [
       "         features  importance\n",
       "0      miR-18a-3p    0.220897\n",
       "1      miR-155-5p    0.179644\n",
       "2        miR-1263    0.147943\n",
       "3     let-7a-2-3p    0.046180\n",
       "4           miR-1    0.044957\n",
       "5     let-7f-2-3p    0.042382\n",
       "6     miR-6878-5p    0.035884\n",
       "7      miR-183-3p    0.031866\n",
       "8        miR-1275    0.029042\n",
       "9     miR-125b-5p    0.026226\n",
       "10    miR-181a-3p    0.025482\n",
       "11     miR-10b-3p    0.022594\n",
       "12  miR-181a-2-3p    0.022164\n",
       "13     miR-34b-5p    0.020223\n",
       "14    miR-106a-5p    0.019896\n",
       "15     miR-561-3p    0.016121\n",
       "16    miR-4789-3p    0.015257\n",
       "17     miR-504-5p    0.013628\n",
       "18      miR-548ag    0.012475\n",
       "19       miR-3657    0.011017\n",
       "20     miR-342-5p    0.009313\n",
       "21        miR-632    0.006811"
      ]
     },
     "execution_count": 12,
     "metadata": {},
     "output_type": "execute_result"
    }
   ],
   "source": [
    "# What are the most important features?\n",
    "feature_list = df.columns\n",
    "feature_list = feature_list.drop('Sample_ID')\n",
    "feature_list = feature_list.drop('Subtype')\n",
    "\n",
    "imp_features = pd.Series(xgbc.feature_importances_, index=feature_list)\n",
    "\n",
    "imp_genes = imp_features.sort_values(ascending=False).to_frame().reset_index()\n",
    "imp_genes.columns = [\"features\", \"importance\"]\n",
    "\n",
    "imp_genes_fil = imp_genes[~(imp_genes == 0.000000).any(axis=1)]\n",
    "imp_genes_fil"
   ]
  },
  {
   "cell_type": "markdown",
   "id": "eaa5b5ec",
   "metadata": {},
   "source": [
    "# Testing ML on new miRNAs"
   ]
  },
  {
   "cell_type": "code",
   "execution_count": 13,
   "id": "5df21f91",
   "metadata": {},
   "outputs": [],
   "source": [
    "# Create new dataframe using only \n",
    "xgb_mirnas = imp_genes_fil['features'].to_list()\n",
    "X_xgb = df[xgb_mirnas]"
   ]
  },
  {
   "cell_type": "code",
   "execution_count": 14,
   "id": "ec40641e",
   "metadata": {},
   "outputs": [
    {
     "data": {
      "text/html": [
       "<div>\n",
       "<style scoped>\n",
       "    .dataframe tbody tr th:only-of-type {\n",
       "        vertical-align: middle;\n",
       "    }\n",
       "\n",
       "    .dataframe tbody tr th {\n",
       "        vertical-align: top;\n",
       "    }\n",
       "\n",
       "    .dataframe thead th {\n",
       "        text-align: right;\n",
       "    }\n",
       "</style>\n",
       "<table border=\"1\" class=\"dataframe\">\n",
       "  <thead>\n",
       "    <tr style=\"text-align: right;\">\n",
       "      <th></th>\n",
       "      <th>miR-18a-3p</th>\n",
       "      <th>miR-155-5p</th>\n",
       "      <th>miR-1263</th>\n",
       "      <th>let-7a-2-3p</th>\n",
       "      <th>miR-1</th>\n",
       "      <th>let-7f-2-3p</th>\n",
       "      <th>miR-6878-5p</th>\n",
       "      <th>miR-183-3p</th>\n",
       "      <th>miR-1275</th>\n",
       "      <th>miR-125b-5p</th>\n",
       "      <th>...</th>\n",
       "      <th>miR-181a-2-3p</th>\n",
       "      <th>miR-34b-5p</th>\n",
       "      <th>miR-106a-5p</th>\n",
       "      <th>miR-561-3p</th>\n",
       "      <th>miR-4789-3p</th>\n",
       "      <th>miR-504-5p</th>\n",
       "      <th>miR-548ag</th>\n",
       "      <th>miR-3657</th>\n",
       "      <th>miR-342-5p</th>\n",
       "      <th>miR-632</th>\n",
       "    </tr>\n",
       "  </thead>\n",
       "  <tbody>\n",
       "    <tr>\n",
       "      <th>0</th>\n",
       "      <td>775</td>\n",
       "      <td>304</td>\n",
       "      <td>319</td>\n",
       "      <td>13</td>\n",
       "      <td>249</td>\n",
       "      <td>51</td>\n",
       "      <td>21</td>\n",
       "      <td>64</td>\n",
       "      <td>1234</td>\n",
       "      <td>107626</td>\n",
       "      <td>...</td>\n",
       "      <td>201</td>\n",
       "      <td>25</td>\n",
       "      <td>14641</td>\n",
       "      <td>91</td>\n",
       "      <td>2</td>\n",
       "      <td>8</td>\n",
       "      <td>0</td>\n",
       "      <td>5</td>\n",
       "      <td>399</td>\n",
       "      <td>102</td>\n",
       "    </tr>\n",
       "    <tr>\n",
       "      <th>1</th>\n",
       "      <td>1332</td>\n",
       "      <td>1159</td>\n",
       "      <td>5</td>\n",
       "      <td>103</td>\n",
       "      <td>649</td>\n",
       "      <td>70</td>\n",
       "      <td>23</td>\n",
       "      <td>54</td>\n",
       "      <td>803</td>\n",
       "      <td>180684</td>\n",
       "      <td>...</td>\n",
       "      <td>565</td>\n",
       "      <td>239</td>\n",
       "      <td>17542</td>\n",
       "      <td>46</td>\n",
       "      <td>24</td>\n",
       "      <td>53</td>\n",
       "      <td>0</td>\n",
       "      <td>5</td>\n",
       "      <td>418</td>\n",
       "      <td>89</td>\n",
       "    </tr>\n",
       "    <tr>\n",
       "      <th>2</th>\n",
       "      <td>782</td>\n",
       "      <td>658</td>\n",
       "      <td>0</td>\n",
       "      <td>33</td>\n",
       "      <td>60</td>\n",
       "      <td>58</td>\n",
       "      <td>9</td>\n",
       "      <td>0</td>\n",
       "      <td>1415</td>\n",
       "      <td>118812</td>\n",
       "      <td>...</td>\n",
       "      <td>610</td>\n",
       "      <td>45</td>\n",
       "      <td>32098</td>\n",
       "      <td>81</td>\n",
       "      <td>11</td>\n",
       "      <td>9</td>\n",
       "      <td>0</td>\n",
       "      <td>1</td>\n",
       "      <td>560</td>\n",
       "      <td>38</td>\n",
       "    </tr>\n",
       "    <tr>\n",
       "      <th>4</th>\n",
       "      <td>110</td>\n",
       "      <td>98</td>\n",
       "      <td>1</td>\n",
       "      <td>75</td>\n",
       "      <td>34</td>\n",
       "      <td>73</td>\n",
       "      <td>5</td>\n",
       "      <td>0</td>\n",
       "      <td>1804</td>\n",
       "      <td>546801</td>\n",
       "      <td>...</td>\n",
       "      <td>40</td>\n",
       "      <td>51</td>\n",
       "      <td>4174</td>\n",
       "      <td>32</td>\n",
       "      <td>18</td>\n",
       "      <td>197</td>\n",
       "      <td>1</td>\n",
       "      <td>0</td>\n",
       "      <td>239</td>\n",
       "      <td>12</td>\n",
       "    </tr>\n",
       "    <tr>\n",
       "      <th>5</th>\n",
       "      <td>51</td>\n",
       "      <td>178</td>\n",
       "      <td>2</td>\n",
       "      <td>11</td>\n",
       "      <td>151</td>\n",
       "      <td>37</td>\n",
       "      <td>50</td>\n",
       "      <td>6</td>\n",
       "      <td>1690</td>\n",
       "      <td>178977</td>\n",
       "      <td>...</td>\n",
       "      <td>51</td>\n",
       "      <td>26</td>\n",
       "      <td>2250</td>\n",
       "      <td>25</td>\n",
       "      <td>9</td>\n",
       "      <td>43</td>\n",
       "      <td>0</td>\n",
       "      <td>1</td>\n",
       "      <td>243</td>\n",
       "      <td>69</td>\n",
       "    </tr>\n",
       "    <tr>\n",
       "      <th>6</th>\n",
       "      <td>493</td>\n",
       "      <td>102</td>\n",
       "      <td>0</td>\n",
       "      <td>3</td>\n",
       "      <td>31</td>\n",
       "      <td>53</td>\n",
       "      <td>0</td>\n",
       "      <td>40</td>\n",
       "      <td>1052</td>\n",
       "      <td>215053</td>\n",
       "      <td>...</td>\n",
       "      <td>442</td>\n",
       "      <td>32</td>\n",
       "      <td>15277</td>\n",
       "      <td>59</td>\n",
       "      <td>21</td>\n",
       "      <td>231</td>\n",
       "      <td>0</td>\n",
       "      <td>1</td>\n",
       "      <td>531</td>\n",
       "      <td>35</td>\n",
       "    </tr>\n",
       "    <tr>\n",
       "      <th>7</th>\n",
       "      <td>308</td>\n",
       "      <td>307</td>\n",
       "      <td>0</td>\n",
       "      <td>34</td>\n",
       "      <td>48</td>\n",
       "      <td>61</td>\n",
       "      <td>4</td>\n",
       "      <td>0</td>\n",
       "      <td>544</td>\n",
       "      <td>83823</td>\n",
       "      <td>...</td>\n",
       "      <td>1430</td>\n",
       "      <td>28</td>\n",
       "      <td>17900</td>\n",
       "      <td>43</td>\n",
       "      <td>52</td>\n",
       "      <td>30</td>\n",
       "      <td>1</td>\n",
       "      <td>4</td>\n",
       "      <td>122</td>\n",
       "      <td>14</td>\n",
       "    </tr>\n",
       "    <tr>\n",
       "      <th>8</th>\n",
       "      <td>238</td>\n",
       "      <td>109</td>\n",
       "      <td>80</td>\n",
       "      <td>3</td>\n",
       "      <td>79</td>\n",
       "      <td>35</td>\n",
       "      <td>35</td>\n",
       "      <td>124</td>\n",
       "      <td>1302</td>\n",
       "      <td>116810</td>\n",
       "      <td>...</td>\n",
       "      <td>204</td>\n",
       "      <td>67</td>\n",
       "      <td>8654</td>\n",
       "      <td>31</td>\n",
       "      <td>16</td>\n",
       "      <td>26</td>\n",
       "      <td>0</td>\n",
       "      <td>8</td>\n",
       "      <td>593</td>\n",
       "      <td>63</td>\n",
       "    </tr>\n",
       "    <tr>\n",
       "      <th>9</th>\n",
       "      <td>188</td>\n",
       "      <td>68</td>\n",
       "      <td>105</td>\n",
       "      <td>5</td>\n",
       "      <td>19</td>\n",
       "      <td>43</td>\n",
       "      <td>12</td>\n",
       "      <td>382</td>\n",
       "      <td>1170</td>\n",
       "      <td>69509</td>\n",
       "      <td>...</td>\n",
       "      <td>193</td>\n",
       "      <td>16</td>\n",
       "      <td>6407</td>\n",
       "      <td>18</td>\n",
       "      <td>13</td>\n",
       "      <td>63</td>\n",
       "      <td>0</td>\n",
       "      <td>3</td>\n",
       "      <td>952</td>\n",
       "      <td>35</td>\n",
       "    </tr>\n",
       "    <tr>\n",
       "      <th>10</th>\n",
       "      <td>494</td>\n",
       "      <td>544</td>\n",
       "      <td>1</td>\n",
       "      <td>13</td>\n",
       "      <td>42</td>\n",
       "      <td>134</td>\n",
       "      <td>10</td>\n",
       "      <td>1</td>\n",
       "      <td>1487</td>\n",
       "      <td>113843</td>\n",
       "      <td>...</td>\n",
       "      <td>880</td>\n",
       "      <td>23</td>\n",
       "      <td>24361</td>\n",
       "      <td>39</td>\n",
       "      <td>36</td>\n",
       "      <td>4</td>\n",
       "      <td>0</td>\n",
       "      <td>8</td>\n",
       "      <td>270</td>\n",
       "      <td>20</td>\n",
       "    </tr>\n",
       "    <tr>\n",
       "      <th>11</th>\n",
       "      <td>253</td>\n",
       "      <td>58</td>\n",
       "      <td>6</td>\n",
       "      <td>103</td>\n",
       "      <td>6</td>\n",
       "      <td>136</td>\n",
       "      <td>0</td>\n",
       "      <td>24</td>\n",
       "      <td>2634</td>\n",
       "      <td>153648</td>\n",
       "      <td>...</td>\n",
       "      <td>1426</td>\n",
       "      <td>80</td>\n",
       "      <td>14323</td>\n",
       "      <td>13</td>\n",
       "      <td>14</td>\n",
       "      <td>1</td>\n",
       "      <td>2</td>\n",
       "      <td>3</td>\n",
       "      <td>101</td>\n",
       "      <td>11</td>\n",
       "    </tr>\n",
       "    <tr>\n",
       "      <th>12</th>\n",
       "      <td>736</td>\n",
       "      <td>136</td>\n",
       "      <td>2</td>\n",
       "      <td>1</td>\n",
       "      <td>74</td>\n",
       "      <td>43</td>\n",
       "      <td>5</td>\n",
       "      <td>793</td>\n",
       "      <td>1398</td>\n",
       "      <td>88695</td>\n",
       "      <td>...</td>\n",
       "      <td>303</td>\n",
       "      <td>47</td>\n",
       "      <td>23559</td>\n",
       "      <td>40</td>\n",
       "      <td>7</td>\n",
       "      <td>10</td>\n",
       "      <td>3</td>\n",
       "      <td>3</td>\n",
       "      <td>648</td>\n",
       "      <td>11</td>\n",
       "    </tr>\n",
       "    <tr>\n",
       "      <th>13</th>\n",
       "      <td>152</td>\n",
       "      <td>288</td>\n",
       "      <td>5</td>\n",
       "      <td>10</td>\n",
       "      <td>79</td>\n",
       "      <td>57</td>\n",
       "      <td>43</td>\n",
       "      <td>3</td>\n",
       "      <td>1533</td>\n",
       "      <td>251697</td>\n",
       "      <td>...</td>\n",
       "      <td>45</td>\n",
       "      <td>45</td>\n",
       "      <td>4895</td>\n",
       "      <td>13</td>\n",
       "      <td>23</td>\n",
       "      <td>165</td>\n",
       "      <td>1</td>\n",
       "      <td>1</td>\n",
       "      <td>398</td>\n",
       "      <td>95</td>\n",
       "    </tr>\n",
       "    <tr>\n",
       "      <th>14</th>\n",
       "      <td>131</td>\n",
       "      <td>218</td>\n",
       "      <td>1</td>\n",
       "      <td>13</td>\n",
       "      <td>83</td>\n",
       "      <td>60</td>\n",
       "      <td>33</td>\n",
       "      <td>60</td>\n",
       "      <td>1703</td>\n",
       "      <td>217717</td>\n",
       "      <td>...</td>\n",
       "      <td>439</td>\n",
       "      <td>41</td>\n",
       "      <td>5207</td>\n",
       "      <td>21</td>\n",
       "      <td>12</td>\n",
       "      <td>165</td>\n",
       "      <td>0</td>\n",
       "      <td>0</td>\n",
       "      <td>402</td>\n",
       "      <td>42</td>\n",
       "    </tr>\n",
       "    <tr>\n",
       "      <th>15</th>\n",
       "      <td>35</td>\n",
       "      <td>34</td>\n",
       "      <td>0</td>\n",
       "      <td>13</td>\n",
       "      <td>3</td>\n",
       "      <td>41</td>\n",
       "      <td>0</td>\n",
       "      <td>0</td>\n",
       "      <td>1095</td>\n",
       "      <td>414159</td>\n",
       "      <td>...</td>\n",
       "      <td>7</td>\n",
       "      <td>39</td>\n",
       "      <td>1561</td>\n",
       "      <td>12</td>\n",
       "      <td>22</td>\n",
       "      <td>105</td>\n",
       "      <td>0</td>\n",
       "      <td>4</td>\n",
       "      <td>299</td>\n",
       "      <td>15</td>\n",
       "    </tr>\n",
       "    <tr>\n",
       "      <th>16</th>\n",
       "      <td>498</td>\n",
       "      <td>316</td>\n",
       "      <td>0</td>\n",
       "      <td>14</td>\n",
       "      <td>473</td>\n",
       "      <td>69</td>\n",
       "      <td>3</td>\n",
       "      <td>0</td>\n",
       "      <td>1085</td>\n",
       "      <td>47481</td>\n",
       "      <td>...</td>\n",
       "      <td>1190</td>\n",
       "      <td>51</td>\n",
       "      <td>32152</td>\n",
       "      <td>63</td>\n",
       "      <td>32</td>\n",
       "      <td>5</td>\n",
       "      <td>0</td>\n",
       "      <td>1</td>\n",
       "      <td>152</td>\n",
       "      <td>6</td>\n",
       "    </tr>\n",
       "    <tr>\n",
       "      <th>17</th>\n",
       "      <td>159</td>\n",
       "      <td>166</td>\n",
       "      <td>0</td>\n",
       "      <td>43</td>\n",
       "      <td>264</td>\n",
       "      <td>28</td>\n",
       "      <td>11</td>\n",
       "      <td>1</td>\n",
       "      <td>2179</td>\n",
       "      <td>277991</td>\n",
       "      <td>...</td>\n",
       "      <td>169</td>\n",
       "      <td>30</td>\n",
       "      <td>6191</td>\n",
       "      <td>20</td>\n",
       "      <td>10</td>\n",
       "      <td>173</td>\n",
       "      <td>0</td>\n",
       "      <td>2</td>\n",
       "      <td>249</td>\n",
       "      <td>49</td>\n",
       "    </tr>\n",
       "    <tr>\n",
       "      <th>18</th>\n",
       "      <td>406</td>\n",
       "      <td>190</td>\n",
       "      <td>167</td>\n",
       "      <td>11</td>\n",
       "      <td>124</td>\n",
       "      <td>52</td>\n",
       "      <td>8</td>\n",
       "      <td>1</td>\n",
       "      <td>2237</td>\n",
       "      <td>227017</td>\n",
       "      <td>...</td>\n",
       "      <td>65</td>\n",
       "      <td>928</td>\n",
       "      <td>14342</td>\n",
       "      <td>27</td>\n",
       "      <td>3773</td>\n",
       "      <td>177</td>\n",
       "      <td>0</td>\n",
       "      <td>4</td>\n",
       "      <td>615</td>\n",
       "      <td>49</td>\n",
       "    </tr>\n",
       "    <tr>\n",
       "      <th>20</th>\n",
       "      <td>170</td>\n",
       "      <td>216</td>\n",
       "      <td>0</td>\n",
       "      <td>14</td>\n",
       "      <td>92</td>\n",
       "      <td>84</td>\n",
       "      <td>1</td>\n",
       "      <td>2</td>\n",
       "      <td>1224</td>\n",
       "      <td>279781</td>\n",
       "      <td>...</td>\n",
       "      <td>192</td>\n",
       "      <td>26</td>\n",
       "      <td>9021</td>\n",
       "      <td>29</td>\n",
       "      <td>4</td>\n",
       "      <td>351</td>\n",
       "      <td>0</td>\n",
       "      <td>1</td>\n",
       "      <td>318</td>\n",
       "      <td>16</td>\n",
       "    </tr>\n",
       "    <tr>\n",
       "      <th>21</th>\n",
       "      <td>73</td>\n",
       "      <td>95</td>\n",
       "      <td>1</td>\n",
       "      <td>2</td>\n",
       "      <td>1</td>\n",
       "      <td>64</td>\n",
       "      <td>3</td>\n",
       "      <td>3</td>\n",
       "      <td>1147</td>\n",
       "      <td>267614</td>\n",
       "      <td>...</td>\n",
       "      <td>9</td>\n",
       "      <td>43</td>\n",
       "      <td>3864</td>\n",
       "      <td>29</td>\n",
       "      <td>13</td>\n",
       "      <td>107</td>\n",
       "      <td>2</td>\n",
       "      <td>0</td>\n",
       "      <td>294</td>\n",
       "      <td>19</td>\n",
       "    </tr>\n",
       "    <tr>\n",
       "      <th>23</th>\n",
       "      <td>415</td>\n",
       "      <td>264</td>\n",
       "      <td>0</td>\n",
       "      <td>47</td>\n",
       "      <td>17</td>\n",
       "      <td>105</td>\n",
       "      <td>1</td>\n",
       "      <td>0</td>\n",
       "      <td>1182</td>\n",
       "      <td>65830</td>\n",
       "      <td>...</td>\n",
       "      <td>987</td>\n",
       "      <td>12</td>\n",
       "      <td>28661</td>\n",
       "      <td>118</td>\n",
       "      <td>28</td>\n",
       "      <td>1</td>\n",
       "      <td>0</td>\n",
       "      <td>5</td>\n",
       "      <td>229</td>\n",
       "      <td>20</td>\n",
       "    </tr>\n",
       "    <tr>\n",
       "      <th>25</th>\n",
       "      <td>54</td>\n",
       "      <td>40</td>\n",
       "      <td>0</td>\n",
       "      <td>7</td>\n",
       "      <td>6</td>\n",
       "      <td>53</td>\n",
       "      <td>4</td>\n",
       "      <td>0</td>\n",
       "      <td>738</td>\n",
       "      <td>333485</td>\n",
       "      <td>...</td>\n",
       "      <td>18</td>\n",
       "      <td>57</td>\n",
       "      <td>1483</td>\n",
       "      <td>25</td>\n",
       "      <td>6</td>\n",
       "      <td>124</td>\n",
       "      <td>0</td>\n",
       "      <td>0</td>\n",
       "      <td>262</td>\n",
       "      <td>9</td>\n",
       "    </tr>\n",
       "    <tr>\n",
       "      <th>26</th>\n",
       "      <td>595</td>\n",
       "      <td>94</td>\n",
       "      <td>1</td>\n",
       "      <td>107</td>\n",
       "      <td>20</td>\n",
       "      <td>82</td>\n",
       "      <td>1</td>\n",
       "      <td>64</td>\n",
       "      <td>3908</td>\n",
       "      <td>163124</td>\n",
       "      <td>...</td>\n",
       "      <td>851</td>\n",
       "      <td>33</td>\n",
       "      <td>21490</td>\n",
       "      <td>48</td>\n",
       "      <td>10</td>\n",
       "      <td>4</td>\n",
       "      <td>0</td>\n",
       "      <td>0</td>\n",
       "      <td>158</td>\n",
       "      <td>26</td>\n",
       "    </tr>\n",
       "    <tr>\n",
       "      <th>27</th>\n",
       "      <td>392</td>\n",
       "      <td>1032</td>\n",
       "      <td>0</td>\n",
       "      <td>46</td>\n",
       "      <td>41</td>\n",
       "      <td>35</td>\n",
       "      <td>6</td>\n",
       "      <td>0</td>\n",
       "      <td>574</td>\n",
       "      <td>60808</td>\n",
       "      <td>...</td>\n",
       "      <td>704</td>\n",
       "      <td>27</td>\n",
       "      <td>17375</td>\n",
       "      <td>41</td>\n",
       "      <td>13</td>\n",
       "      <td>29</td>\n",
       "      <td>0</td>\n",
       "      <td>5</td>\n",
       "      <td>203</td>\n",
       "      <td>29</td>\n",
       "    </tr>\n",
       "    <tr>\n",
       "      <th>28</th>\n",
       "      <td>209</td>\n",
       "      <td>481</td>\n",
       "      <td>2</td>\n",
       "      <td>22</td>\n",
       "      <td>204</td>\n",
       "      <td>74</td>\n",
       "      <td>9</td>\n",
       "      <td>4</td>\n",
       "      <td>999</td>\n",
       "      <td>78780</td>\n",
       "      <td>...</td>\n",
       "      <td>970</td>\n",
       "      <td>14</td>\n",
       "      <td>12583</td>\n",
       "      <td>57</td>\n",
       "      <td>58</td>\n",
       "      <td>10</td>\n",
       "      <td>4</td>\n",
       "      <td>5</td>\n",
       "      <td>207</td>\n",
       "      <td>32</td>\n",
       "    </tr>\n",
       "    <tr>\n",
       "      <th>29</th>\n",
       "      <td>53</td>\n",
       "      <td>60</td>\n",
       "      <td>0</td>\n",
       "      <td>85</td>\n",
       "      <td>8</td>\n",
       "      <td>82</td>\n",
       "      <td>0</td>\n",
       "      <td>2</td>\n",
       "      <td>1326</td>\n",
       "      <td>392647</td>\n",
       "      <td>...</td>\n",
       "      <td>8</td>\n",
       "      <td>54</td>\n",
       "      <td>3083</td>\n",
       "      <td>42</td>\n",
       "      <td>13</td>\n",
       "      <td>124</td>\n",
       "      <td>0</td>\n",
       "      <td>2</td>\n",
       "      <td>310</td>\n",
       "      <td>6</td>\n",
       "    </tr>\n",
       "  </tbody>\n",
       "</table>\n",
       "<p>26 rows × 22 columns</p>\n",
       "</div>"
      ],
      "text/plain": [
       "    miR-18a-3p  miR-155-5p  miR-1263  let-7a-2-3p  miR-1  let-7f-2-3p  \\\n",
       "0          775         304       319           13    249           51   \n",
       "1         1332        1159         5          103    649           70   \n",
       "2          782         658         0           33     60           58   \n",
       "4          110          98         1           75     34           73   \n",
       "5           51         178         2           11    151           37   \n",
       "6          493         102         0            3     31           53   \n",
       "7          308         307         0           34     48           61   \n",
       "8          238         109        80            3     79           35   \n",
       "9          188          68       105            5     19           43   \n",
       "10         494         544         1           13     42          134   \n",
       "11         253          58         6          103      6          136   \n",
       "12         736         136         2            1     74           43   \n",
       "13         152         288         5           10     79           57   \n",
       "14         131         218         1           13     83           60   \n",
       "15          35          34         0           13      3           41   \n",
       "16         498         316         0           14    473           69   \n",
       "17         159         166         0           43    264           28   \n",
       "18         406         190       167           11    124           52   \n",
       "20         170         216         0           14     92           84   \n",
       "21          73          95         1            2      1           64   \n",
       "23         415         264         0           47     17          105   \n",
       "25          54          40         0            7      6           53   \n",
       "26         595          94         1          107     20           82   \n",
       "27         392        1032         0           46     41           35   \n",
       "28         209         481         2           22    204           74   \n",
       "29          53          60         0           85      8           82   \n",
       "\n",
       "    miR-6878-5p  miR-183-3p  miR-1275  miR-125b-5p  ...  miR-181a-2-3p  \\\n",
       "0            21          64      1234       107626  ...            201   \n",
       "1            23          54       803       180684  ...            565   \n",
       "2             9           0      1415       118812  ...            610   \n",
       "4             5           0      1804       546801  ...             40   \n",
       "5            50           6      1690       178977  ...             51   \n",
       "6             0          40      1052       215053  ...            442   \n",
       "7             4           0       544        83823  ...           1430   \n",
       "8            35         124      1302       116810  ...            204   \n",
       "9            12         382      1170        69509  ...            193   \n",
       "10           10           1      1487       113843  ...            880   \n",
       "11            0          24      2634       153648  ...           1426   \n",
       "12            5         793      1398        88695  ...            303   \n",
       "13           43           3      1533       251697  ...             45   \n",
       "14           33          60      1703       217717  ...            439   \n",
       "15            0           0      1095       414159  ...              7   \n",
       "16            3           0      1085        47481  ...           1190   \n",
       "17           11           1      2179       277991  ...            169   \n",
       "18            8           1      2237       227017  ...             65   \n",
       "20            1           2      1224       279781  ...            192   \n",
       "21            3           3      1147       267614  ...              9   \n",
       "23            1           0      1182        65830  ...            987   \n",
       "25            4           0       738       333485  ...             18   \n",
       "26            1          64      3908       163124  ...            851   \n",
       "27            6           0       574        60808  ...            704   \n",
       "28            9           4       999        78780  ...            970   \n",
       "29            0           2      1326       392647  ...              8   \n",
       "\n",
       "    miR-34b-5p  miR-106a-5p  miR-561-3p  miR-4789-3p  miR-504-5p  miR-548ag  \\\n",
       "0           25        14641          91            2           8          0   \n",
       "1          239        17542          46           24          53          0   \n",
       "2           45        32098          81           11           9          0   \n",
       "4           51         4174          32           18         197          1   \n",
       "5           26         2250          25            9          43          0   \n",
       "6           32        15277          59           21         231          0   \n",
       "7           28        17900          43           52          30          1   \n",
       "8           67         8654          31           16          26          0   \n",
       "9           16         6407          18           13          63          0   \n",
       "10          23        24361          39           36           4          0   \n",
       "11          80        14323          13           14           1          2   \n",
       "12          47        23559          40            7          10          3   \n",
       "13          45         4895          13           23         165          1   \n",
       "14          41         5207          21           12         165          0   \n",
       "15          39         1561          12           22         105          0   \n",
       "16          51        32152          63           32           5          0   \n",
       "17          30         6191          20           10         173          0   \n",
       "18         928        14342          27         3773         177          0   \n",
       "20          26         9021          29            4         351          0   \n",
       "21          43         3864          29           13         107          2   \n",
       "23          12        28661         118           28           1          0   \n",
       "25          57         1483          25            6         124          0   \n",
       "26          33        21490          48           10           4          0   \n",
       "27          27        17375          41           13          29          0   \n",
       "28          14        12583          57           58          10          4   \n",
       "29          54         3083          42           13         124          0   \n",
       "\n",
       "    miR-3657  miR-342-5p  miR-632  \n",
       "0          5         399      102  \n",
       "1          5         418       89  \n",
       "2          1         560       38  \n",
       "4          0         239       12  \n",
       "5          1         243       69  \n",
       "6          1         531       35  \n",
       "7          4         122       14  \n",
       "8          8         593       63  \n",
       "9          3         952       35  \n",
       "10         8         270       20  \n",
       "11         3         101       11  \n",
       "12         3         648       11  \n",
       "13         1         398       95  \n",
       "14         0         402       42  \n",
       "15         4         299       15  \n",
       "16         1         152        6  \n",
       "17         2         249       49  \n",
       "18         4         615       49  \n",
       "20         1         318       16  \n",
       "21         0         294       19  \n",
       "23         5         229       20  \n",
       "25         0         262        9  \n",
       "26         0         158       26  \n",
       "27         5         203       29  \n",
       "28         5         207       32  \n",
       "29         2         310        6  \n",
       "\n",
       "[26 rows x 22 columns]"
      ]
     },
     "execution_count": 14,
     "metadata": {},
     "output_type": "execute_result"
    }
   ],
   "source": [
    "X_xgb"
   ]
  },
  {
   "cell_type": "code",
   "execution_count": 15,
   "id": "42fec7dc",
   "metadata": {},
   "outputs": [],
   "source": [
    "# Split PBTA data into training and testing set\n",
    "X_xgb_train, X_xgb_test, y_xgb_train, y_xgb_test = train_test_split(X_xgb, y, test_size=0.25, random_state=0)"
   ]
  },
  {
   "cell_type": "code",
   "execution_count": 16,
   "id": "ad0132ca",
   "metadata": {},
   "outputs": [
    {
     "name": "stdout",
     "output_type": "stream",
     "text": [
      "Accuracy: 0.8571428571428571\n"
     ]
    }
   ],
   "source": [
    "xgbc_xgb = xgb.XGBClassifier(random_state=0)\n",
    "xgbc_xgb.fit(X_xgb_train, y_xgb_train)\n",
    "\n",
    "# Make predictions using random forest classifier\n",
    "xgbc_xgb_y_pred = xgbc_xgb.predict(X_xgb_test)\n",
    "\n",
    "# Accuracy of model\n",
    "print(f'Accuracy: {accuracy_score(y_test, xgbc_xgb_y_pred)}')"
   ]
  },
  {
   "cell_type": "code",
   "execution_count": 17,
   "id": "d7c920a0",
   "metadata": {},
   "outputs": [
    {
     "data": {
      "application/vnd.plotly.v1+json": {
       "config": {
        "plotlyServerURL": "https://plot.ly"
       },
       "data": [
        {
         "coloraxis": "coloraxis",
         "hovertemplate": "Subtype: %{x}<br>Subtype: %{y}<br>Productivity: %{z}<extra></extra>",
         "name": "0",
         "texttemplate": "%{z}",
         "type": "heatmap",
         "x": [
          "Group3",
          "SHH",
          "Group4",
          "WNT"
         ],
         "xaxis": "x",
         "y": [
          "Group3",
          "SHH",
          "Group4",
          "WNT"
         ],
         "yaxis": "y",
         "z": [
          [
           2,
           0,
           0,
           0
          ],
          [
           0,
           2,
           0,
           0
          ],
          [
           0,
           0,
           1,
           1
          ],
          [
           0,
           0,
           0,
           1
          ]
         ]
        }
       ],
       "layout": {
        "coloraxis": {
         "colorbar": {
          "title": {
           "text": "Productivity"
          }
         },
         "colorscale": [
          [
           0,
           "#0d0887"
          ],
          [
           0.1111111111111111,
           "#46039f"
          ],
          [
           0.2222222222222222,
           "#7201a8"
          ],
          [
           0.3333333333333333,
           "#9c179e"
          ],
          [
           0.4444444444444444,
           "#bd3786"
          ],
          [
           0.5555555555555556,
           "#d8576b"
          ],
          [
           0.6666666666666666,
           "#ed7953"
          ],
          [
           0.7777777777777778,
           "#fb9f3a"
          ],
          [
           0.8888888888888888,
           "#fdca26"
          ],
          [
           1,
           "#f0f921"
          ]
         ]
        },
        "margin": {
         "t": 60
        },
        "template": {
         "data": {
          "bar": [
           {
            "error_x": {
             "color": "#2a3f5f"
            },
            "error_y": {
             "color": "#2a3f5f"
            },
            "marker": {
             "line": {
              "color": "#E5ECF6",
              "width": 0.5
             },
             "pattern": {
              "fillmode": "overlay",
              "size": 10,
              "solidity": 0.2
             }
            },
            "type": "bar"
           }
          ],
          "barpolar": [
           {
            "marker": {
             "line": {
              "color": "#E5ECF6",
              "width": 0.5
             },
             "pattern": {
              "fillmode": "overlay",
              "size": 10,
              "solidity": 0.2
             }
            },
            "type": "barpolar"
           }
          ],
          "carpet": [
           {
            "aaxis": {
             "endlinecolor": "#2a3f5f",
             "gridcolor": "white",
             "linecolor": "white",
             "minorgridcolor": "white",
             "startlinecolor": "#2a3f5f"
            },
            "baxis": {
             "endlinecolor": "#2a3f5f",
             "gridcolor": "white",
             "linecolor": "white",
             "minorgridcolor": "white",
             "startlinecolor": "#2a3f5f"
            },
            "type": "carpet"
           }
          ],
          "choropleth": [
           {
            "colorbar": {
             "outlinewidth": 0,
             "ticks": ""
            },
            "type": "choropleth"
           }
          ],
          "contour": [
           {
            "colorbar": {
             "outlinewidth": 0,
             "ticks": ""
            },
            "colorscale": [
             [
              0,
              "#0d0887"
             ],
             [
              0.1111111111111111,
              "#46039f"
             ],
             [
              0.2222222222222222,
              "#7201a8"
             ],
             [
              0.3333333333333333,
              "#9c179e"
             ],
             [
              0.4444444444444444,
              "#bd3786"
             ],
             [
              0.5555555555555556,
              "#d8576b"
             ],
             [
              0.6666666666666666,
              "#ed7953"
             ],
             [
              0.7777777777777778,
              "#fb9f3a"
             ],
             [
              0.8888888888888888,
              "#fdca26"
             ],
             [
              1,
              "#f0f921"
             ]
            ],
            "type": "contour"
           }
          ],
          "contourcarpet": [
           {
            "colorbar": {
             "outlinewidth": 0,
             "ticks": ""
            },
            "type": "contourcarpet"
           }
          ],
          "heatmap": [
           {
            "colorbar": {
             "outlinewidth": 0,
             "ticks": ""
            },
            "colorscale": [
             [
              0,
              "#0d0887"
             ],
             [
              0.1111111111111111,
              "#46039f"
             ],
             [
              0.2222222222222222,
              "#7201a8"
             ],
             [
              0.3333333333333333,
              "#9c179e"
             ],
             [
              0.4444444444444444,
              "#bd3786"
             ],
             [
              0.5555555555555556,
              "#d8576b"
             ],
             [
              0.6666666666666666,
              "#ed7953"
             ],
             [
              0.7777777777777778,
              "#fb9f3a"
             ],
             [
              0.8888888888888888,
              "#fdca26"
             ],
             [
              1,
              "#f0f921"
             ]
            ],
            "type": "heatmap"
           }
          ],
          "heatmapgl": [
           {
            "colorbar": {
             "outlinewidth": 0,
             "ticks": ""
            },
            "colorscale": [
             [
              0,
              "#0d0887"
             ],
             [
              0.1111111111111111,
              "#46039f"
             ],
             [
              0.2222222222222222,
              "#7201a8"
             ],
             [
              0.3333333333333333,
              "#9c179e"
             ],
             [
              0.4444444444444444,
              "#bd3786"
             ],
             [
              0.5555555555555556,
              "#d8576b"
             ],
             [
              0.6666666666666666,
              "#ed7953"
             ],
             [
              0.7777777777777778,
              "#fb9f3a"
             ],
             [
              0.8888888888888888,
              "#fdca26"
             ],
             [
              1,
              "#f0f921"
             ]
            ],
            "type": "heatmapgl"
           }
          ],
          "histogram": [
           {
            "marker": {
             "pattern": {
              "fillmode": "overlay",
              "size": 10,
              "solidity": 0.2
             }
            },
            "type": "histogram"
           }
          ],
          "histogram2d": [
           {
            "colorbar": {
             "outlinewidth": 0,
             "ticks": ""
            },
            "colorscale": [
             [
              0,
              "#0d0887"
             ],
             [
              0.1111111111111111,
              "#46039f"
             ],
             [
              0.2222222222222222,
              "#7201a8"
             ],
             [
              0.3333333333333333,
              "#9c179e"
             ],
             [
              0.4444444444444444,
              "#bd3786"
             ],
             [
              0.5555555555555556,
              "#d8576b"
             ],
             [
              0.6666666666666666,
              "#ed7953"
             ],
             [
              0.7777777777777778,
              "#fb9f3a"
             ],
             [
              0.8888888888888888,
              "#fdca26"
             ],
             [
              1,
              "#f0f921"
             ]
            ],
            "type": "histogram2d"
           }
          ],
          "histogram2dcontour": [
           {
            "colorbar": {
             "outlinewidth": 0,
             "ticks": ""
            },
            "colorscale": [
             [
              0,
              "#0d0887"
             ],
             [
              0.1111111111111111,
              "#46039f"
             ],
             [
              0.2222222222222222,
              "#7201a8"
             ],
             [
              0.3333333333333333,
              "#9c179e"
             ],
             [
              0.4444444444444444,
              "#bd3786"
             ],
             [
              0.5555555555555556,
              "#d8576b"
             ],
             [
              0.6666666666666666,
              "#ed7953"
             ],
             [
              0.7777777777777778,
              "#fb9f3a"
             ],
             [
              0.8888888888888888,
              "#fdca26"
             ],
             [
              1,
              "#f0f921"
             ]
            ],
            "type": "histogram2dcontour"
           }
          ],
          "mesh3d": [
           {
            "colorbar": {
             "outlinewidth": 0,
             "ticks": ""
            },
            "type": "mesh3d"
           }
          ],
          "parcoords": [
           {
            "line": {
             "colorbar": {
              "outlinewidth": 0,
              "ticks": ""
             }
            },
            "type": "parcoords"
           }
          ],
          "pie": [
           {
            "automargin": true,
            "type": "pie"
           }
          ],
          "scatter": [
           {
            "marker": {
             "colorbar": {
              "outlinewidth": 0,
              "ticks": ""
             }
            },
            "type": "scatter"
           }
          ],
          "scatter3d": [
           {
            "line": {
             "colorbar": {
              "outlinewidth": 0,
              "ticks": ""
             }
            },
            "marker": {
             "colorbar": {
              "outlinewidth": 0,
              "ticks": ""
             }
            },
            "type": "scatter3d"
           }
          ],
          "scattercarpet": [
           {
            "marker": {
             "colorbar": {
              "outlinewidth": 0,
              "ticks": ""
             }
            },
            "type": "scattercarpet"
           }
          ],
          "scattergeo": [
           {
            "marker": {
             "colorbar": {
              "outlinewidth": 0,
              "ticks": ""
             }
            },
            "type": "scattergeo"
           }
          ],
          "scattergl": [
           {
            "marker": {
             "colorbar": {
              "outlinewidth": 0,
              "ticks": ""
             }
            },
            "type": "scattergl"
           }
          ],
          "scattermapbox": [
           {
            "marker": {
             "colorbar": {
              "outlinewidth": 0,
              "ticks": ""
             }
            },
            "type": "scattermapbox"
           }
          ],
          "scatterpolar": [
           {
            "marker": {
             "colorbar": {
              "outlinewidth": 0,
              "ticks": ""
             }
            },
            "type": "scatterpolar"
           }
          ],
          "scatterpolargl": [
           {
            "marker": {
             "colorbar": {
              "outlinewidth": 0,
              "ticks": ""
             }
            },
            "type": "scatterpolargl"
           }
          ],
          "scatterternary": [
           {
            "marker": {
             "colorbar": {
              "outlinewidth": 0,
              "ticks": ""
             }
            },
            "type": "scatterternary"
           }
          ],
          "surface": [
           {
            "colorbar": {
             "outlinewidth": 0,
             "ticks": ""
            },
            "colorscale": [
             [
              0,
              "#0d0887"
             ],
             [
              0.1111111111111111,
              "#46039f"
             ],
             [
              0.2222222222222222,
              "#7201a8"
             ],
             [
              0.3333333333333333,
              "#9c179e"
             ],
             [
              0.4444444444444444,
              "#bd3786"
             ],
             [
              0.5555555555555556,
              "#d8576b"
             ],
             [
              0.6666666666666666,
              "#ed7953"
             ],
             [
              0.7777777777777778,
              "#fb9f3a"
             ],
             [
              0.8888888888888888,
              "#fdca26"
             ],
             [
              1,
              "#f0f921"
             ]
            ],
            "type": "surface"
           }
          ],
          "table": [
           {
            "cells": {
             "fill": {
              "color": "#EBF0F8"
             },
             "line": {
              "color": "white"
             }
            },
            "header": {
             "fill": {
              "color": "#C8D4E3"
             },
             "line": {
              "color": "white"
             }
            },
            "type": "table"
           }
          ]
         },
         "layout": {
          "annotationdefaults": {
           "arrowcolor": "#2a3f5f",
           "arrowhead": 0,
           "arrowwidth": 1
          },
          "autotypenumbers": "strict",
          "coloraxis": {
           "colorbar": {
            "outlinewidth": 0,
            "ticks": ""
           }
          },
          "colorscale": {
           "diverging": [
            [
             0,
             "#8e0152"
            ],
            [
             0.1,
             "#c51b7d"
            ],
            [
             0.2,
             "#de77ae"
            ],
            [
             0.3,
             "#f1b6da"
            ],
            [
             0.4,
             "#fde0ef"
            ],
            [
             0.5,
             "#f7f7f7"
            ],
            [
             0.6,
             "#e6f5d0"
            ],
            [
             0.7,
             "#b8e186"
            ],
            [
             0.8,
             "#7fbc41"
            ],
            [
             0.9,
             "#4d9221"
            ],
            [
             1,
             "#276419"
            ]
           ],
           "sequential": [
            [
             0,
             "#0d0887"
            ],
            [
             0.1111111111111111,
             "#46039f"
            ],
            [
             0.2222222222222222,
             "#7201a8"
            ],
            [
             0.3333333333333333,
             "#9c179e"
            ],
            [
             0.4444444444444444,
             "#bd3786"
            ],
            [
             0.5555555555555556,
             "#d8576b"
            ],
            [
             0.6666666666666666,
             "#ed7953"
            ],
            [
             0.7777777777777778,
             "#fb9f3a"
            ],
            [
             0.8888888888888888,
             "#fdca26"
            ],
            [
             1,
             "#f0f921"
            ]
           ],
           "sequentialminus": [
            [
             0,
             "#0d0887"
            ],
            [
             0.1111111111111111,
             "#46039f"
            ],
            [
             0.2222222222222222,
             "#7201a8"
            ],
            [
             0.3333333333333333,
             "#9c179e"
            ],
            [
             0.4444444444444444,
             "#bd3786"
            ],
            [
             0.5555555555555556,
             "#d8576b"
            ],
            [
             0.6666666666666666,
             "#ed7953"
            ],
            [
             0.7777777777777778,
             "#fb9f3a"
            ],
            [
             0.8888888888888888,
             "#fdca26"
            ],
            [
             1,
             "#f0f921"
            ]
           ]
          },
          "colorway": [
           "#636efa",
           "#EF553B",
           "#00cc96",
           "#ab63fa",
           "#FFA15A",
           "#19d3f3",
           "#FF6692",
           "#B6E880",
           "#FF97FF",
           "#FECB52"
          ],
          "font": {
           "color": "#2a3f5f"
          },
          "geo": {
           "bgcolor": "white",
           "lakecolor": "white",
           "landcolor": "#E5ECF6",
           "showlakes": true,
           "showland": true,
           "subunitcolor": "white"
          },
          "hoverlabel": {
           "align": "left"
          },
          "hovermode": "closest",
          "mapbox": {
           "style": "light"
          },
          "paper_bgcolor": "white",
          "plot_bgcolor": "#E5ECF6",
          "polar": {
           "angularaxis": {
            "gridcolor": "white",
            "linecolor": "white",
            "ticks": ""
           },
           "bgcolor": "#E5ECF6",
           "radialaxis": {
            "gridcolor": "white",
            "linecolor": "white",
            "ticks": ""
           }
          },
          "scene": {
           "xaxis": {
            "backgroundcolor": "#E5ECF6",
            "gridcolor": "white",
            "gridwidth": 2,
            "linecolor": "white",
            "showbackground": true,
            "ticks": "",
            "zerolinecolor": "white"
           },
           "yaxis": {
            "backgroundcolor": "#E5ECF6",
            "gridcolor": "white",
            "gridwidth": 2,
            "linecolor": "white",
            "showbackground": true,
            "ticks": "",
            "zerolinecolor": "white"
           },
           "zaxis": {
            "backgroundcolor": "#E5ECF6",
            "gridcolor": "white",
            "gridwidth": 2,
            "linecolor": "white",
            "showbackground": true,
            "ticks": "",
            "zerolinecolor": "white"
           }
          },
          "shapedefaults": {
           "line": {
            "color": "#2a3f5f"
           }
          },
          "ternary": {
           "aaxis": {
            "gridcolor": "white",
            "linecolor": "white",
            "ticks": ""
           },
           "baxis": {
            "gridcolor": "white",
            "linecolor": "white",
            "ticks": ""
           },
           "bgcolor": "#E5ECF6",
           "caxis": {
            "gridcolor": "white",
            "linecolor": "white",
            "ticks": ""
           }
          },
          "title": {
           "x": 0.05
          },
          "xaxis": {
           "automargin": true,
           "gridcolor": "white",
           "linecolor": "white",
           "ticks": "",
           "title": {
            "standoff": 15
           },
           "zerolinecolor": "white",
           "zerolinewidth": 2
          },
          "yaxis": {
           "automargin": true,
           "gridcolor": "white",
           "linecolor": "white",
           "ticks": "",
           "title": {
            "standoff": 15
           },
           "zerolinecolor": "white",
           "zerolinewidth": 2
          }
         }
        },
        "xaxis": {
         "anchor": "y",
         "constrain": "domain",
         "domain": [
          0,
          1
         ],
         "scaleanchor": "y",
         "title": {
          "text": "Subtype"
         }
        },
        "yaxis": {
         "anchor": "x",
         "autorange": "reversed",
         "constrain": "domain",
         "domain": [
          0,
          1
         ],
         "title": {
          "text": "Subtype"
         }
        }
       }
      },
      "text/html": [
       "<div>                            <div id=\"abc326fe-ecf6-4dc0-9e0c-1639c9c1cd8b\" class=\"plotly-graph-div\" style=\"height:525px; width:100%;\"></div>            <script type=\"text/javascript\">                require([\"plotly\"], function(Plotly) {                    window.PLOTLYENV=window.PLOTLYENV || {};                                    if (document.getElementById(\"abc326fe-ecf6-4dc0-9e0c-1639c9c1cd8b\")) {                    Plotly.newPlot(                        \"abc326fe-ecf6-4dc0-9e0c-1639c9c1cd8b\",                        [{\"coloraxis\":\"coloraxis\",\"name\":\"0\",\"texttemplate\":\"%{z}\",\"x\":[\"Group3\",\"SHH\",\"Group4\",\"WNT\"],\"y\":[\"Group3\",\"SHH\",\"Group4\",\"WNT\"],\"z\":[[2,0,0,0],[0,2,0,0],[0,0,1,1],[0,0,0,1]],\"type\":\"heatmap\",\"xaxis\":\"x\",\"yaxis\":\"y\",\"hovertemplate\":\"Subtype: %{x}<br>Subtype: %{y}<br>Productivity: %{z}<extra></extra>\"}],                        {\"template\":{\"data\":{\"bar\":[{\"error_x\":{\"color\":\"#2a3f5f\"},\"error_y\":{\"color\":\"#2a3f5f\"},\"marker\":{\"line\":{\"color\":\"#E5ECF6\",\"width\":0.5},\"pattern\":{\"fillmode\":\"overlay\",\"size\":10,\"solidity\":0.2}},\"type\":\"bar\"}],\"barpolar\":[{\"marker\":{\"line\":{\"color\":\"#E5ECF6\",\"width\":0.5},\"pattern\":{\"fillmode\":\"overlay\",\"size\":10,\"solidity\":0.2}},\"type\":\"barpolar\"}],\"carpet\":[{\"aaxis\":{\"endlinecolor\":\"#2a3f5f\",\"gridcolor\":\"white\",\"linecolor\":\"white\",\"minorgridcolor\":\"white\",\"startlinecolor\":\"#2a3f5f\"},\"baxis\":{\"endlinecolor\":\"#2a3f5f\",\"gridcolor\":\"white\",\"linecolor\":\"white\",\"minorgridcolor\":\"white\",\"startlinecolor\":\"#2a3f5f\"},\"type\":\"carpet\"}],\"choropleth\":[{\"colorbar\":{\"outlinewidth\":0,\"ticks\":\"\"},\"type\":\"choropleth\"}],\"contour\":[{\"colorbar\":{\"outlinewidth\":0,\"ticks\":\"\"},\"colorscale\":[[0.0,\"#0d0887\"],[0.1111111111111111,\"#46039f\"],[0.2222222222222222,\"#7201a8\"],[0.3333333333333333,\"#9c179e\"],[0.4444444444444444,\"#bd3786\"],[0.5555555555555556,\"#d8576b\"],[0.6666666666666666,\"#ed7953\"],[0.7777777777777778,\"#fb9f3a\"],[0.8888888888888888,\"#fdca26\"],[1.0,\"#f0f921\"]],\"type\":\"contour\"}],\"contourcarpet\":[{\"colorbar\":{\"outlinewidth\":0,\"ticks\":\"\"},\"type\":\"contourcarpet\"}],\"heatmap\":[{\"colorbar\":{\"outlinewidth\":0,\"ticks\":\"\"},\"colorscale\":[[0.0,\"#0d0887\"],[0.1111111111111111,\"#46039f\"],[0.2222222222222222,\"#7201a8\"],[0.3333333333333333,\"#9c179e\"],[0.4444444444444444,\"#bd3786\"],[0.5555555555555556,\"#d8576b\"],[0.6666666666666666,\"#ed7953\"],[0.7777777777777778,\"#fb9f3a\"],[0.8888888888888888,\"#fdca26\"],[1.0,\"#f0f921\"]],\"type\":\"heatmap\"}],\"heatmapgl\":[{\"colorbar\":{\"outlinewidth\":0,\"ticks\":\"\"},\"colorscale\":[[0.0,\"#0d0887\"],[0.1111111111111111,\"#46039f\"],[0.2222222222222222,\"#7201a8\"],[0.3333333333333333,\"#9c179e\"],[0.4444444444444444,\"#bd3786\"],[0.5555555555555556,\"#d8576b\"],[0.6666666666666666,\"#ed7953\"],[0.7777777777777778,\"#fb9f3a\"],[0.8888888888888888,\"#fdca26\"],[1.0,\"#f0f921\"]],\"type\":\"heatmapgl\"}],\"histogram\":[{\"marker\":{\"pattern\":{\"fillmode\":\"overlay\",\"size\":10,\"solidity\":0.2}},\"type\":\"histogram\"}],\"histogram2d\":[{\"colorbar\":{\"outlinewidth\":0,\"ticks\":\"\"},\"colorscale\":[[0.0,\"#0d0887\"],[0.1111111111111111,\"#46039f\"],[0.2222222222222222,\"#7201a8\"],[0.3333333333333333,\"#9c179e\"],[0.4444444444444444,\"#bd3786\"],[0.5555555555555556,\"#d8576b\"],[0.6666666666666666,\"#ed7953\"],[0.7777777777777778,\"#fb9f3a\"],[0.8888888888888888,\"#fdca26\"],[1.0,\"#f0f921\"]],\"type\":\"histogram2d\"}],\"histogram2dcontour\":[{\"colorbar\":{\"outlinewidth\":0,\"ticks\":\"\"},\"colorscale\":[[0.0,\"#0d0887\"],[0.1111111111111111,\"#46039f\"],[0.2222222222222222,\"#7201a8\"],[0.3333333333333333,\"#9c179e\"],[0.4444444444444444,\"#bd3786\"],[0.5555555555555556,\"#d8576b\"],[0.6666666666666666,\"#ed7953\"],[0.7777777777777778,\"#fb9f3a\"],[0.8888888888888888,\"#fdca26\"],[1.0,\"#f0f921\"]],\"type\":\"histogram2dcontour\"}],\"mesh3d\":[{\"colorbar\":{\"outlinewidth\":0,\"ticks\":\"\"},\"type\":\"mesh3d\"}],\"parcoords\":[{\"line\":{\"colorbar\":{\"outlinewidth\":0,\"ticks\":\"\"}},\"type\":\"parcoords\"}],\"pie\":[{\"automargin\":true,\"type\":\"pie\"}],\"scatter\":[{\"marker\":{\"colorbar\":{\"outlinewidth\":0,\"ticks\":\"\"}},\"type\":\"scatter\"}],\"scatter3d\":[{\"line\":{\"colorbar\":{\"outlinewidth\":0,\"ticks\":\"\"}},\"marker\":{\"colorbar\":{\"outlinewidth\":0,\"ticks\":\"\"}},\"type\":\"scatter3d\"}],\"scattercarpet\":[{\"marker\":{\"colorbar\":{\"outlinewidth\":0,\"ticks\":\"\"}},\"type\":\"scattercarpet\"}],\"scattergeo\":[{\"marker\":{\"colorbar\":{\"outlinewidth\":0,\"ticks\":\"\"}},\"type\":\"scattergeo\"}],\"scattergl\":[{\"marker\":{\"colorbar\":{\"outlinewidth\":0,\"ticks\":\"\"}},\"type\":\"scattergl\"}],\"scattermapbox\":[{\"marker\":{\"colorbar\":{\"outlinewidth\":0,\"ticks\":\"\"}},\"type\":\"scattermapbox\"}],\"scatterpolar\":[{\"marker\":{\"colorbar\":{\"outlinewidth\":0,\"ticks\":\"\"}},\"type\":\"scatterpolar\"}],\"scatterpolargl\":[{\"marker\":{\"colorbar\":{\"outlinewidth\":0,\"ticks\":\"\"}},\"type\":\"scatterpolargl\"}],\"scatterternary\":[{\"marker\":{\"colorbar\":{\"outlinewidth\":0,\"ticks\":\"\"}},\"type\":\"scatterternary\"}],\"surface\":[{\"colorbar\":{\"outlinewidth\":0,\"ticks\":\"\"},\"colorscale\":[[0.0,\"#0d0887\"],[0.1111111111111111,\"#46039f\"],[0.2222222222222222,\"#7201a8\"],[0.3333333333333333,\"#9c179e\"],[0.4444444444444444,\"#bd3786\"],[0.5555555555555556,\"#d8576b\"],[0.6666666666666666,\"#ed7953\"],[0.7777777777777778,\"#fb9f3a\"],[0.8888888888888888,\"#fdca26\"],[1.0,\"#f0f921\"]],\"type\":\"surface\"}],\"table\":[{\"cells\":{\"fill\":{\"color\":\"#EBF0F8\"},\"line\":{\"color\":\"white\"}},\"header\":{\"fill\":{\"color\":\"#C8D4E3\"},\"line\":{\"color\":\"white\"}},\"type\":\"table\"}]},\"layout\":{\"annotationdefaults\":{\"arrowcolor\":\"#2a3f5f\",\"arrowhead\":0,\"arrowwidth\":1},\"autotypenumbers\":\"strict\",\"coloraxis\":{\"colorbar\":{\"outlinewidth\":0,\"ticks\":\"\"}},\"colorscale\":{\"diverging\":[[0,\"#8e0152\"],[0.1,\"#c51b7d\"],[0.2,\"#de77ae\"],[0.3,\"#f1b6da\"],[0.4,\"#fde0ef\"],[0.5,\"#f7f7f7\"],[0.6,\"#e6f5d0\"],[0.7,\"#b8e186\"],[0.8,\"#7fbc41\"],[0.9,\"#4d9221\"],[1,\"#276419\"]],\"sequential\":[[0.0,\"#0d0887\"],[0.1111111111111111,\"#46039f\"],[0.2222222222222222,\"#7201a8\"],[0.3333333333333333,\"#9c179e\"],[0.4444444444444444,\"#bd3786\"],[0.5555555555555556,\"#d8576b\"],[0.6666666666666666,\"#ed7953\"],[0.7777777777777778,\"#fb9f3a\"],[0.8888888888888888,\"#fdca26\"],[1.0,\"#f0f921\"]],\"sequentialminus\":[[0.0,\"#0d0887\"],[0.1111111111111111,\"#46039f\"],[0.2222222222222222,\"#7201a8\"],[0.3333333333333333,\"#9c179e\"],[0.4444444444444444,\"#bd3786\"],[0.5555555555555556,\"#d8576b\"],[0.6666666666666666,\"#ed7953\"],[0.7777777777777778,\"#fb9f3a\"],[0.8888888888888888,\"#fdca26\"],[1.0,\"#f0f921\"]]},\"colorway\":[\"#636efa\",\"#EF553B\",\"#00cc96\",\"#ab63fa\",\"#FFA15A\",\"#19d3f3\",\"#FF6692\",\"#B6E880\",\"#FF97FF\",\"#FECB52\"],\"font\":{\"color\":\"#2a3f5f\"},\"geo\":{\"bgcolor\":\"white\",\"lakecolor\":\"white\",\"landcolor\":\"#E5ECF6\",\"showlakes\":true,\"showland\":true,\"subunitcolor\":\"white\"},\"hoverlabel\":{\"align\":\"left\"},\"hovermode\":\"closest\",\"mapbox\":{\"style\":\"light\"},\"paper_bgcolor\":\"white\",\"plot_bgcolor\":\"#E5ECF6\",\"polar\":{\"angularaxis\":{\"gridcolor\":\"white\",\"linecolor\":\"white\",\"ticks\":\"\"},\"bgcolor\":\"#E5ECF6\",\"radialaxis\":{\"gridcolor\":\"white\",\"linecolor\":\"white\",\"ticks\":\"\"}},\"scene\":{\"xaxis\":{\"backgroundcolor\":\"#E5ECF6\",\"gridcolor\":\"white\",\"gridwidth\":2,\"linecolor\":\"white\",\"showbackground\":true,\"ticks\":\"\",\"zerolinecolor\":\"white\"},\"yaxis\":{\"backgroundcolor\":\"#E5ECF6\",\"gridcolor\":\"white\",\"gridwidth\":2,\"linecolor\":\"white\",\"showbackground\":true,\"ticks\":\"\",\"zerolinecolor\":\"white\"},\"zaxis\":{\"backgroundcolor\":\"#E5ECF6\",\"gridcolor\":\"white\",\"gridwidth\":2,\"linecolor\":\"white\",\"showbackground\":true,\"ticks\":\"\",\"zerolinecolor\":\"white\"}},\"shapedefaults\":{\"line\":{\"color\":\"#2a3f5f\"}},\"ternary\":{\"aaxis\":{\"gridcolor\":\"white\",\"linecolor\":\"white\",\"ticks\":\"\"},\"baxis\":{\"gridcolor\":\"white\",\"linecolor\":\"white\",\"ticks\":\"\"},\"bgcolor\":\"#E5ECF6\",\"caxis\":{\"gridcolor\":\"white\",\"linecolor\":\"white\",\"ticks\":\"\"}},\"title\":{\"x\":0.05},\"xaxis\":{\"automargin\":true,\"gridcolor\":\"white\",\"linecolor\":\"white\",\"ticks\":\"\",\"title\":{\"standoff\":15},\"zerolinecolor\":\"white\",\"zerolinewidth\":2},\"yaxis\":{\"automargin\":true,\"gridcolor\":\"white\",\"linecolor\":\"white\",\"ticks\":\"\",\"title\":{\"standoff\":15},\"zerolinecolor\":\"white\",\"zerolinewidth\":2}}},\"xaxis\":{\"anchor\":\"y\",\"domain\":[0.0,1.0],\"scaleanchor\":\"y\",\"constrain\":\"domain\",\"title\":{\"text\":\"Subtype\"}},\"yaxis\":{\"anchor\":\"x\",\"domain\":[0.0,1.0],\"autorange\":\"reversed\",\"constrain\":\"domain\",\"title\":{\"text\":\"Subtype\"}},\"coloraxis\":{\"colorbar\":{\"title\":{\"text\":\"Productivity\"}},\"colorscale\":[[0.0,\"#0d0887\"],[0.1111111111111111,\"#46039f\"],[0.2222222222222222,\"#7201a8\"],[0.3333333333333333,\"#9c179e\"],[0.4444444444444444,\"#bd3786\"],[0.5555555555555556,\"#d8576b\"],[0.6666666666666666,\"#ed7953\"],[0.7777777777777778,\"#fb9f3a\"],[0.8888888888888888,\"#fdca26\"],[1.0,\"#f0f921\"]]},\"margin\":{\"t\":60}},                        {\"responsive\": true}                    ).then(function(){\n",
       "                            \n",
       "var gd = document.getElementById('abc326fe-ecf6-4dc0-9e0c-1639c9c1cd8b');\n",
       "var x = new MutationObserver(function (mutations, observer) {{\n",
       "        var display = window.getComputedStyle(gd).display;\n",
       "        if (!display || display === 'none') {{\n",
       "            console.log([gd, 'removed!']);\n",
       "            Plotly.purge(gd);\n",
       "            observer.disconnect();\n",
       "        }}\n",
       "}});\n",
       "\n",
       "// Listen for the removal of the full notebook cells\n",
       "var notebookContainer = gd.closest('#notebook-container');\n",
       "if (notebookContainer) {{\n",
       "    x.observe(notebookContainer, {childList: true});\n",
       "}}\n",
       "\n",
       "// Listen for the clearing of the current output cell\n",
       "var outputEl = gd.closest('.output');\n",
       "if (outputEl) {{\n",
       "    x.observe(outputEl, {childList: true});\n",
       "}}\n",
       "\n",
       "                        })                };                });            </script>        </div>"
      ]
     },
     "metadata": {},
     "output_type": "display_data"
    }
   ],
   "source": [
    "# Calculate a confusion matrix\n",
    "cm = confusion_matrix(y_test, xgbc_xgb_y_pred)\n",
    "\n",
    "# Display confusion matrix to look at how accurately the ML model was able to classify each tumor type\n",
    "disp = px.imshow(cm, text_auto=True,\n",
    "                labels=dict(x=\"Subtype\", y=\"Subtype\", color=\"Productivity\"),\n",
    "                x=df['Subtype'].unique().tolist(),\n",
    "                y=df['Subtype'].unique().tolist()\n",
    "                )\n",
    "disp.show()"
   ]
  },
  {
   "cell_type": "code",
   "execution_count": 18,
   "id": "18fa1c5f",
   "metadata": {},
   "outputs": [
    {
     "name": "stdout",
     "output_type": "stream",
     "text": [
      "Accuracy: 0.7142857142857143\n"
     ]
    }
   ],
   "source": [
    "# Initialize random forest classifier\n",
    "rfc_xgb = RandomForestClassifier(max_depth=2, random_state=0)\n",
    "\n",
    "# Train the random forest classifier\n",
    "rfc_xgb.fit(X_xgb_train, y_xgb_train)\n",
    "\n",
    "# Make predictions using random forest classifier\n",
    "rfc_xgb_y_pred = rfc_xgb.predict(X_xgb_test)\n",
    "\n",
    "# Accuracy of model\n",
    "print(f'Accuracy: {accuracy_score(y_test, rfc_xgb_y_pred)}')"
   ]
  },
  {
   "cell_type": "markdown",
   "id": "dd2eb3c5",
   "metadata": {},
   "source": [
    "# XGBoost Stratified K-fold"
   ]
  },
  {
   "cell_type": "code",
   "execution_count": 19,
   "id": "9c5c48ef",
   "metadata": {},
   "outputs": [],
   "source": [
    "from sklearn.model_selection import StratifiedKFold\n",
    "from statistics import mean, stdev"
   ]
  },
  {
   "cell_type": "code",
   "execution_count": 20,
   "id": "fd62bc74",
   "metadata": {},
   "outputs": [
    {
     "name": "stdout",
     "output_type": "stream",
     "text": [
      "List of possible accuracy: [0.7692307692307693, 0.6153846153846154]\n",
      "\n",
      "Maximum Accuracy That can be obtained from this model is: 76.92307692307693 %\n",
      "\n",
      "Minimum Accuracy: 61.53846153846154 %\n",
      "\n",
      "Overall Accuracy: 69.23076923076923 %\n",
      "\n",
      "Standard Deviation is: 0.10878565864408424\n"
     ]
    }
   ],
   "source": [
    "# Create StratifiedKFold object.\n",
    "skf = StratifiedKFold(n_splits=2, shuffle=True, random_state=42)\n",
    "lst_accu_stratified = []\n",
    "\n",
    "xgbcv = xgb.XGBClassifier(random_state=0)\n",
    "\n",
    "for train_index, test_index in skf.split(X, y):\n",
    "    x_train_fold, x_test_fold = X[train_index], X[test_index]\n",
    "    y_train_fold, y_test_fold = y[train_index], y[test_index]\n",
    "    xgbcv.fit(x_train_fold, y_train_fold)\n",
    "    lst_accu_stratified.append(xgbcv.score(x_test_fold, y_test_fold))\n",
    "  \n",
    "# Print the output.\n",
    "print('List of possible accuracy:', lst_accu_stratified)\n",
    "print('\\nMaximum Accuracy That can be obtained from this model is:',\n",
    "      max(lst_accu_stratified)*100, '%')\n",
    "print('\\nMinimum Accuracy:',\n",
    "      min(lst_accu_stratified)*100, '%')\n",
    "print('\\nOverall Accuracy:',\n",
    "      mean(lst_accu_stratified)*100, '%')\n",
    "print('\\nStandard Deviation is:', stdev(lst_accu_stratified))"
   ]
  },
  {
   "cell_type": "markdown",
   "id": "b7d70ca6",
   "metadata": {},
   "source": [
    "# Testing on FFPE Data"
   ]
  },
  {
   "cell_type": "code",
   "execution_count": 21,
   "id": "bb4c82f2",
   "metadata": {},
   "outputs": [
    {
     "data": {
      "text/html": [
       "<div>\n",
       "<style scoped>\n",
       "    .dataframe tbody tr th:only-of-type {\n",
       "        vertical-align: middle;\n",
       "    }\n",
       "\n",
       "    .dataframe tbody tr th {\n",
       "        vertical-align: top;\n",
       "    }\n",
       "\n",
       "    .dataframe thead th {\n",
       "        text-align: right;\n",
       "    }\n",
       "</style>\n",
       "<table border=\"1\" class=\"dataframe\">\n",
       "  <thead>\n",
       "    <tr style=\"text-align: right;\">\n",
       "      <th></th>\n",
       "      <th>sample_id</th>\n",
       "      <th>label</th>\n",
       "      <th>composition_type</th>\n",
       "      <th>cohort</th>\n",
       "      <th>molecular_subtype</th>\n",
       "      <th>let-7a-2-3p</th>\n",
       "      <th>let-7a-3p</th>\n",
       "      <th>let-7a-5p</th>\n",
       "      <th>let-7b-5p</th>\n",
       "      <th>let-7c-3p</th>\n",
       "      <th>...</th>\n",
       "      <th>miR-944</th>\n",
       "      <th>miR-95-3p</th>\n",
       "      <th>miR-95-5p</th>\n",
       "      <th>miR-9-5p</th>\n",
       "      <th>miR-96-3p</th>\n",
       "      <th>miR-96-5p</th>\n",
       "      <th>miR-98-3p</th>\n",
       "      <th>miR-99a-5p</th>\n",
       "      <th>miR-99b-3p</th>\n",
       "      <th>miR-99b-5p</th>\n",
       "    </tr>\n",
       "  </thead>\n",
       "  <tbody>\n",
       "    <tr>\n",
       "      <th>0</th>\n",
       "      <td>7316-302</td>\n",
       "      <td>Medulloblastoma_FFPE (n=64)</td>\n",
       "      <td>RNA</td>\n",
       "      <td>mb_ffpe</td>\n",
       "      <td>Group3</td>\n",
       "      <td>155</td>\n",
       "      <td>105</td>\n",
       "      <td>156785</td>\n",
       "      <td>57825</td>\n",
       "      <td>333</td>\n",
       "      <td>...</td>\n",
       "      <td>49</td>\n",
       "      <td>239</td>\n",
       "      <td>22</td>\n",
       "      <td>78526</td>\n",
       "      <td>322</td>\n",
       "      <td>145322</td>\n",
       "      <td>2</td>\n",
       "      <td>121617</td>\n",
       "      <td>1270</td>\n",
       "      <td>36225</td>\n",
       "    </tr>\n",
       "    <tr>\n",
       "      <th>1</th>\n",
       "      <td>7316-304</td>\n",
       "      <td>Medulloblastoma_FFPE (n=64)</td>\n",
       "      <td>RNA</td>\n",
       "      <td>mb_ffpe</td>\n",
       "      <td>Group3</td>\n",
       "      <td>35</td>\n",
       "      <td>12</td>\n",
       "      <td>60543</td>\n",
       "      <td>14823</td>\n",
       "      <td>160</td>\n",
       "      <td>...</td>\n",
       "      <td>3</td>\n",
       "      <td>3585</td>\n",
       "      <td>2</td>\n",
       "      <td>7327</td>\n",
       "      <td>381</td>\n",
       "      <td>209862</td>\n",
       "      <td>1</td>\n",
       "      <td>118834</td>\n",
       "      <td>914</td>\n",
       "      <td>29937</td>\n",
       "    </tr>\n",
       "    <tr>\n",
       "      <th>2</th>\n",
       "      <td>7316-109</td>\n",
       "      <td>Medulloblastoma_FFPE (n=64)</td>\n",
       "      <td>RNA</td>\n",
       "      <td>mb_ffpe</td>\n",
       "      <td>Group4</td>\n",
       "      <td>92</td>\n",
       "      <td>34</td>\n",
       "      <td>153438</td>\n",
       "      <td>92245</td>\n",
       "      <td>311</td>\n",
       "      <td>...</td>\n",
       "      <td>19</td>\n",
       "      <td>147</td>\n",
       "      <td>9</td>\n",
       "      <td>170477</td>\n",
       "      <td>21</td>\n",
       "      <td>2155</td>\n",
       "      <td>5</td>\n",
       "      <td>159050</td>\n",
       "      <td>712</td>\n",
       "      <td>18912</td>\n",
       "    </tr>\n",
       "    <tr>\n",
       "      <th>3</th>\n",
       "      <td>7316-14</td>\n",
       "      <td>Medulloblastoma_FFPE (n=64)</td>\n",
       "      <td>RNA</td>\n",
       "      <td>mb_ffpe</td>\n",
       "      <td>Group4</td>\n",
       "      <td>366</td>\n",
       "      <td>200</td>\n",
       "      <td>309458</td>\n",
       "      <td>114088</td>\n",
       "      <td>745</td>\n",
       "      <td>...</td>\n",
       "      <td>42</td>\n",
       "      <td>654</td>\n",
       "      <td>21</td>\n",
       "      <td>393903</td>\n",
       "      <td>71</td>\n",
       "      <td>307</td>\n",
       "      <td>3</td>\n",
       "      <td>385961</td>\n",
       "      <td>842</td>\n",
       "      <td>20647</td>\n",
       "    </tr>\n",
       "    <tr>\n",
       "      <th>4</th>\n",
       "      <td>7316-1460</td>\n",
       "      <td>Medulloblastoma_FFPE (n=64)</td>\n",
       "      <td>RNA</td>\n",
       "      <td>mb_ffpe</td>\n",
       "      <td>Group4</td>\n",
       "      <td>237</td>\n",
       "      <td>38</td>\n",
       "      <td>279789</td>\n",
       "      <td>156662</td>\n",
       "      <td>268</td>\n",
       "      <td>...</td>\n",
       "      <td>21</td>\n",
       "      <td>506</td>\n",
       "      <td>8</td>\n",
       "      <td>191015</td>\n",
       "      <td>90</td>\n",
       "      <td>20733</td>\n",
       "      <td>4</td>\n",
       "      <td>270088</td>\n",
       "      <td>941</td>\n",
       "      <td>15055</td>\n",
       "    </tr>\n",
       "    <tr>\n",
       "      <th>5</th>\n",
       "      <td>7316-22</td>\n",
       "      <td>Medulloblastoma_FFPE (n=64)</td>\n",
       "      <td>RNA</td>\n",
       "      <td>mb_ffpe</td>\n",
       "      <td>Group4</td>\n",
       "      <td>112</td>\n",
       "      <td>26</td>\n",
       "      <td>229934</td>\n",
       "      <td>144993</td>\n",
       "      <td>321</td>\n",
       "      <td>...</td>\n",
       "      <td>15</td>\n",
       "      <td>189</td>\n",
       "      <td>4</td>\n",
       "      <td>188337</td>\n",
       "      <td>24</td>\n",
       "      <td>2659</td>\n",
       "      <td>1</td>\n",
       "      <td>268412</td>\n",
       "      <td>732</td>\n",
       "      <td>20735</td>\n",
       "    </tr>\n",
       "    <tr>\n",
       "      <th>6</th>\n",
       "      <td>7316-2971</td>\n",
       "      <td>Medulloblastoma_FFPE (n=64)</td>\n",
       "      <td>RNA</td>\n",
       "      <td>mb_ffpe</td>\n",
       "      <td>Group4</td>\n",
       "      <td>201</td>\n",
       "      <td>153</td>\n",
       "      <td>495360</td>\n",
       "      <td>341359</td>\n",
       "      <td>1948</td>\n",
       "      <td>...</td>\n",
       "      <td>17</td>\n",
       "      <td>449</td>\n",
       "      <td>16</td>\n",
       "      <td>547502</td>\n",
       "      <td>37</td>\n",
       "      <td>477</td>\n",
       "      <td>18</td>\n",
       "      <td>685620</td>\n",
       "      <td>2099</td>\n",
       "      <td>40669</td>\n",
       "    </tr>\n",
       "    <tr>\n",
       "      <th>7</th>\n",
       "      <td>7316-306</td>\n",
       "      <td>Medulloblastoma_FFPE (n=64)</td>\n",
       "      <td>RNA</td>\n",
       "      <td>mb_ffpe</td>\n",
       "      <td>Group4</td>\n",
       "      <td>121</td>\n",
       "      <td>86</td>\n",
       "      <td>403850</td>\n",
       "      <td>276691</td>\n",
       "      <td>597</td>\n",
       "      <td>...</td>\n",
       "      <td>22</td>\n",
       "      <td>563</td>\n",
       "      <td>7</td>\n",
       "      <td>512611</td>\n",
       "      <td>29</td>\n",
       "      <td>1082</td>\n",
       "      <td>2</td>\n",
       "      <td>553698</td>\n",
       "      <td>1321</td>\n",
       "      <td>28821</td>\n",
       "    </tr>\n",
       "    <tr>\n",
       "      <th>8</th>\n",
       "      <td>7316-307</td>\n",
       "      <td>Medulloblastoma_FFPE (n=64)</td>\n",
       "      <td>RNA</td>\n",
       "      <td>mb_ffpe</td>\n",
       "      <td>Group4</td>\n",
       "      <td>307</td>\n",
       "      <td>94</td>\n",
       "      <td>264961</td>\n",
       "      <td>186029</td>\n",
       "      <td>518</td>\n",
       "      <td>...</td>\n",
       "      <td>17</td>\n",
       "      <td>215</td>\n",
       "      <td>11</td>\n",
       "      <td>366694</td>\n",
       "      <td>27</td>\n",
       "      <td>127</td>\n",
       "      <td>6</td>\n",
       "      <td>302319</td>\n",
       "      <td>664</td>\n",
       "      <td>14126</td>\n",
       "    </tr>\n",
       "    <tr>\n",
       "      <th>9</th>\n",
       "      <td>7316-309</td>\n",
       "      <td>Medulloblastoma_FFPE (n=64)</td>\n",
       "      <td>RNA</td>\n",
       "      <td>mb_ffpe</td>\n",
       "      <td>Group4</td>\n",
       "      <td>369</td>\n",
       "      <td>126</td>\n",
       "      <td>391419</td>\n",
       "      <td>195495</td>\n",
       "      <td>220</td>\n",
       "      <td>...</td>\n",
       "      <td>44</td>\n",
       "      <td>471</td>\n",
       "      <td>30</td>\n",
       "      <td>482696</td>\n",
       "      <td>106</td>\n",
       "      <td>28314</td>\n",
       "      <td>10</td>\n",
       "      <td>64832</td>\n",
       "      <td>2228</td>\n",
       "      <td>55457</td>\n",
       "    </tr>\n",
       "    <tr>\n",
       "      <th>10</th>\n",
       "      <td>7316-313</td>\n",
       "      <td>Medulloblastoma_FFPE (n=64)</td>\n",
       "      <td>RNA</td>\n",
       "      <td>mb_ffpe</td>\n",
       "      <td>Group4</td>\n",
       "      <td>227</td>\n",
       "      <td>59</td>\n",
       "      <td>253610</td>\n",
       "      <td>140465</td>\n",
       "      <td>421</td>\n",
       "      <td>...</td>\n",
       "      <td>21</td>\n",
       "      <td>310</td>\n",
       "      <td>14</td>\n",
       "      <td>177788</td>\n",
       "      <td>84</td>\n",
       "      <td>25679</td>\n",
       "      <td>0</td>\n",
       "      <td>206663</td>\n",
       "      <td>995</td>\n",
       "      <td>18233</td>\n",
       "    </tr>\n",
       "    <tr>\n",
       "      <th>11</th>\n",
       "      <td>7316-314</td>\n",
       "      <td>Medulloblastoma_FFPE (n=64)</td>\n",
       "      <td>RNA</td>\n",
       "      <td>mb_ffpe</td>\n",
       "      <td>Group4</td>\n",
       "      <td>165</td>\n",
       "      <td>54</td>\n",
       "      <td>208518</td>\n",
       "      <td>166200</td>\n",
       "      <td>387</td>\n",
       "      <td>...</td>\n",
       "      <td>26</td>\n",
       "      <td>149</td>\n",
       "      <td>6</td>\n",
       "      <td>274964</td>\n",
       "      <td>35</td>\n",
       "      <td>63</td>\n",
       "      <td>1</td>\n",
       "      <td>230620</td>\n",
       "      <td>685</td>\n",
       "      <td>14354</td>\n",
       "    </tr>\n",
       "    <tr>\n",
       "      <th>12</th>\n",
       "      <td>7316-347</td>\n",
       "      <td>Medulloblastoma_FFPE (n=64)</td>\n",
       "      <td>RNA</td>\n",
       "      <td>mb_ffpe</td>\n",
       "      <td>Group4</td>\n",
       "      <td>143</td>\n",
       "      <td>49</td>\n",
       "      <td>248842</td>\n",
       "      <td>100240</td>\n",
       "      <td>431</td>\n",
       "      <td>...</td>\n",
       "      <td>6</td>\n",
       "      <td>111</td>\n",
       "      <td>2</td>\n",
       "      <td>182579</td>\n",
       "      <td>4</td>\n",
       "      <td>184</td>\n",
       "      <td>0</td>\n",
       "      <td>253475</td>\n",
       "      <td>755</td>\n",
       "      <td>15173</td>\n",
       "    </tr>\n",
       "    <tr>\n",
       "      <th>13</th>\n",
       "      <td>7316-367</td>\n",
       "      <td>Medulloblastoma_FFPE (n=64)</td>\n",
       "      <td>RNA</td>\n",
       "      <td>mb_ffpe</td>\n",
       "      <td>Group4</td>\n",
       "      <td>22</td>\n",
       "      <td>42</td>\n",
       "      <td>232855</td>\n",
       "      <td>105968</td>\n",
       "      <td>266</td>\n",
       "      <td>...</td>\n",
       "      <td>0</td>\n",
       "      <td>140</td>\n",
       "      <td>1</td>\n",
       "      <td>136347</td>\n",
       "      <td>8</td>\n",
       "      <td>91</td>\n",
       "      <td>1</td>\n",
       "      <td>247995</td>\n",
       "      <td>461</td>\n",
       "      <td>14104</td>\n",
       "    </tr>\n",
       "    <tr>\n",
       "      <th>14</th>\n",
       "      <td>7316-38</td>\n",
       "      <td>Medulloblastoma_FFPE (n=64)</td>\n",
       "      <td>RNA</td>\n",
       "      <td>mb_ffpe</td>\n",
       "      <td>Group4</td>\n",
       "      <td>22</td>\n",
       "      <td>31</td>\n",
       "      <td>245016</td>\n",
       "      <td>132476</td>\n",
       "      <td>424</td>\n",
       "      <td>...</td>\n",
       "      <td>1</td>\n",
       "      <td>139</td>\n",
       "      <td>2</td>\n",
       "      <td>103243</td>\n",
       "      <td>9</td>\n",
       "      <td>871</td>\n",
       "      <td>0</td>\n",
       "      <td>267067</td>\n",
       "      <td>545</td>\n",
       "      <td>12034</td>\n",
       "    </tr>\n",
       "    <tr>\n",
       "      <th>15</th>\n",
       "      <td>7316-407</td>\n",
       "      <td>Medulloblastoma_FFPE (n=64)</td>\n",
       "      <td>RNA</td>\n",
       "      <td>mb_ffpe</td>\n",
       "      <td>Group4</td>\n",
       "      <td>158</td>\n",
       "      <td>85</td>\n",
       "      <td>299514</td>\n",
       "      <td>180047</td>\n",
       "      <td>644</td>\n",
       "      <td>...</td>\n",
       "      <td>15</td>\n",
       "      <td>305</td>\n",
       "      <td>6</td>\n",
       "      <td>402435</td>\n",
       "      <td>18</td>\n",
       "      <td>472</td>\n",
       "      <td>4</td>\n",
       "      <td>341209</td>\n",
       "      <td>796</td>\n",
       "      <td>19857</td>\n",
       "    </tr>\n",
       "    <tr>\n",
       "      <th>16</th>\n",
       "      <td>7316-897</td>\n",
       "      <td>Medulloblastoma_FFPE (n=64)</td>\n",
       "      <td>RNA</td>\n",
       "      <td>mb_ffpe</td>\n",
       "      <td>Group4</td>\n",
       "      <td>230</td>\n",
       "      <td>137</td>\n",
       "      <td>499285</td>\n",
       "      <td>332756</td>\n",
       "      <td>938</td>\n",
       "      <td>...</td>\n",
       "      <td>20</td>\n",
       "      <td>1190</td>\n",
       "      <td>16</td>\n",
       "      <td>600827</td>\n",
       "      <td>21</td>\n",
       "      <td>127</td>\n",
       "      <td>1</td>\n",
       "      <td>701470</td>\n",
       "      <td>1207</td>\n",
       "      <td>37179</td>\n",
       "    </tr>\n",
       "    <tr>\n",
       "      <th>17</th>\n",
       "      <td>7316-908</td>\n",
       "      <td>Medulloblastoma_FFPE (n=64)</td>\n",
       "      <td>RNA</td>\n",
       "      <td>mb_ffpe</td>\n",
       "      <td>Group4</td>\n",
       "      <td>264</td>\n",
       "      <td>116</td>\n",
       "      <td>433211</td>\n",
       "      <td>247750</td>\n",
       "      <td>880</td>\n",
       "      <td>...</td>\n",
       "      <td>60</td>\n",
       "      <td>710</td>\n",
       "      <td>16</td>\n",
       "      <td>345910</td>\n",
       "      <td>176</td>\n",
       "      <td>43215</td>\n",
       "      <td>2</td>\n",
       "      <td>516908</td>\n",
       "      <td>940</td>\n",
       "      <td>20654</td>\n",
       "    </tr>\n",
       "    <tr>\n",
       "      <th>18</th>\n",
       "      <td>7316-937</td>\n",
       "      <td>Medulloblastoma_FFPE (n=64)</td>\n",
       "      <td>RNA</td>\n",
       "      <td>mb_ffpe</td>\n",
       "      <td>Group4</td>\n",
       "      <td>206</td>\n",
       "      <td>38</td>\n",
       "      <td>217307</td>\n",
       "      <td>148455</td>\n",
       "      <td>212</td>\n",
       "      <td>...</td>\n",
       "      <td>14</td>\n",
       "      <td>105</td>\n",
       "      <td>2</td>\n",
       "      <td>304210</td>\n",
       "      <td>23</td>\n",
       "      <td>5403</td>\n",
       "      <td>0</td>\n",
       "      <td>248008</td>\n",
       "      <td>633</td>\n",
       "      <td>22063</td>\n",
       "    </tr>\n",
       "    <tr>\n",
       "      <th>19</th>\n",
       "      <td>7316-178</td>\n",
       "      <td>Medulloblastoma_FFPE (n=64)</td>\n",
       "      <td>RNA</td>\n",
       "      <td>mb_ffpe</td>\n",
       "      <td>SHH</td>\n",
       "      <td>41</td>\n",
       "      <td>38</td>\n",
       "      <td>180524</td>\n",
       "      <td>149766</td>\n",
       "      <td>157</td>\n",
       "      <td>...</td>\n",
       "      <td>6</td>\n",
       "      <td>954</td>\n",
       "      <td>0</td>\n",
       "      <td>112605</td>\n",
       "      <td>5</td>\n",
       "      <td>13</td>\n",
       "      <td>1</td>\n",
       "      <td>109170</td>\n",
       "      <td>464</td>\n",
       "      <td>7780</td>\n",
       "    </tr>\n",
       "    <tr>\n",
       "      <th>20</th>\n",
       "      <td>7316-1884</td>\n",
       "      <td>Medulloblastoma_FFPE (n=64)</td>\n",
       "      <td>RNA</td>\n",
       "      <td>mb_ffpe</td>\n",
       "      <td>SHH</td>\n",
       "      <td>72</td>\n",
       "      <td>35</td>\n",
       "      <td>70839</td>\n",
       "      <td>37769</td>\n",
       "      <td>38</td>\n",
       "      <td>...</td>\n",
       "      <td>2</td>\n",
       "      <td>392</td>\n",
       "      <td>0</td>\n",
       "      <td>286</td>\n",
       "      <td>3</td>\n",
       "      <td>34</td>\n",
       "      <td>0</td>\n",
       "      <td>16384</td>\n",
       "      <td>1267</td>\n",
       "      <td>29755</td>\n",
       "    </tr>\n",
       "    <tr>\n",
       "      <th>21</th>\n",
       "      <td>7316-278</td>\n",
       "      <td>Medulloblastoma_FFPE (n=64)</td>\n",
       "      <td>RNA</td>\n",
       "      <td>mb_ffpe</td>\n",
       "      <td>SHH</td>\n",
       "      <td>63</td>\n",
       "      <td>101</td>\n",
       "      <td>167976</td>\n",
       "      <td>139122</td>\n",
       "      <td>148</td>\n",
       "      <td>...</td>\n",
       "      <td>16</td>\n",
       "      <td>2580</td>\n",
       "      <td>4</td>\n",
       "      <td>150208</td>\n",
       "      <td>10</td>\n",
       "      <td>96</td>\n",
       "      <td>4</td>\n",
       "      <td>50286</td>\n",
       "      <td>458</td>\n",
       "      <td>7658</td>\n",
       "    </tr>\n",
       "    <tr>\n",
       "      <th>22</th>\n",
       "      <td>7316-489</td>\n",
       "      <td>Medulloblastoma_FFPE (n=64)</td>\n",
       "      <td>RNA</td>\n",
       "      <td>mb_ffpe</td>\n",
       "      <td>SHH</td>\n",
       "      <td>252</td>\n",
       "      <td>154</td>\n",
       "      <td>248646</td>\n",
       "      <td>195501</td>\n",
       "      <td>280</td>\n",
       "      <td>...</td>\n",
       "      <td>36</td>\n",
       "      <td>438</td>\n",
       "      <td>10</td>\n",
       "      <td>359897</td>\n",
       "      <td>15</td>\n",
       "      <td>16</td>\n",
       "      <td>5</td>\n",
       "      <td>86625</td>\n",
       "      <td>1029</td>\n",
       "      <td>17940</td>\n",
       "    </tr>\n",
       "    <tr>\n",
       "      <th>23</th>\n",
       "      <td>7316-922</td>\n",
       "      <td>Medulloblastoma_FFPE (n=64)</td>\n",
       "      <td>RNA</td>\n",
       "      <td>mb_ffpe</td>\n",
       "      <td>SHH</td>\n",
       "      <td>171</td>\n",
       "      <td>45</td>\n",
       "      <td>103434</td>\n",
       "      <td>67974</td>\n",
       "      <td>294</td>\n",
       "      <td>...</td>\n",
       "      <td>16</td>\n",
       "      <td>225</td>\n",
       "      <td>6</td>\n",
       "      <td>111811</td>\n",
       "      <td>7</td>\n",
       "      <td>577</td>\n",
       "      <td>0</td>\n",
       "      <td>78804</td>\n",
       "      <td>357</td>\n",
       "      <td>6984</td>\n",
       "    </tr>\n",
       "    <tr>\n",
       "      <th>24</th>\n",
       "      <td>7316-931</td>\n",
       "      <td>Medulloblastoma_FFPE (n=64)</td>\n",
       "      <td>RNA</td>\n",
       "      <td>mb_ffpe</td>\n",
       "      <td>SHH</td>\n",
       "      <td>2620</td>\n",
       "      <td>36</td>\n",
       "      <td>282119</td>\n",
       "      <td>284386</td>\n",
       "      <td>343</td>\n",
       "      <td>...</td>\n",
       "      <td>33</td>\n",
       "      <td>1821</td>\n",
       "      <td>34</td>\n",
       "      <td>70503</td>\n",
       "      <td>263</td>\n",
       "      <td>128</td>\n",
       "      <td>2</td>\n",
       "      <td>115665</td>\n",
       "      <td>1710</td>\n",
       "      <td>21369</td>\n",
       "    </tr>\n",
       "    <tr>\n",
       "      <th>25</th>\n",
       "      <td>7316-135</td>\n",
       "      <td>Medulloblastoma_FFPE (n=64)</td>\n",
       "      <td>RNA</td>\n",
       "      <td>mb_ffpe</td>\n",
       "      <td>WNT</td>\n",
       "      <td>237</td>\n",
       "      <td>54</td>\n",
       "      <td>105149</td>\n",
       "      <td>71483</td>\n",
       "      <td>132</td>\n",
       "      <td>...</td>\n",
       "      <td>14</td>\n",
       "      <td>63</td>\n",
       "      <td>3</td>\n",
       "      <td>25158</td>\n",
       "      <td>64</td>\n",
       "      <td>20599</td>\n",
       "      <td>10</td>\n",
       "      <td>54594</td>\n",
       "      <td>480</td>\n",
       "      <td>9612</td>\n",
       "    </tr>\n",
       "    <tr>\n",
       "      <th>26</th>\n",
       "      <td>7316-219</td>\n",
       "      <td>Medulloblastoma_FFPE (n=64)</td>\n",
       "      <td>RNA</td>\n",
       "      <td>mb_ffpe</td>\n",
       "      <td>WNT</td>\n",
       "      <td>257</td>\n",
       "      <td>12</td>\n",
       "      <td>149643</td>\n",
       "      <td>89751</td>\n",
       "      <td>199</td>\n",
       "      <td>...</td>\n",
       "      <td>1</td>\n",
       "      <td>188</td>\n",
       "      <td>2</td>\n",
       "      <td>39650</td>\n",
       "      <td>120</td>\n",
       "      <td>43088</td>\n",
       "      <td>0</td>\n",
       "      <td>108682</td>\n",
       "      <td>1134</td>\n",
       "      <td>24842</td>\n",
       "    </tr>\n",
       "    <tr>\n",
       "      <th>27</th>\n",
       "      <td>7316-5</td>\n",
       "      <td>Medulloblastoma_FFPE (n=64)</td>\n",
       "      <td>RNA</td>\n",
       "      <td>mb_ffpe</td>\n",
       "      <td>WNT</td>\n",
       "      <td>415</td>\n",
       "      <td>33</td>\n",
       "      <td>185376</td>\n",
       "      <td>158529</td>\n",
       "      <td>149</td>\n",
       "      <td>...</td>\n",
       "      <td>31</td>\n",
       "      <td>64</td>\n",
       "      <td>11</td>\n",
       "      <td>37872</td>\n",
       "      <td>177</td>\n",
       "      <td>70525</td>\n",
       "      <td>9</td>\n",
       "      <td>41250</td>\n",
       "      <td>1472</td>\n",
       "      <td>26863</td>\n",
       "    </tr>\n",
       "    <tr>\n",
       "      <th>28</th>\n",
       "      <td>7316-906</td>\n",
       "      <td>Medulloblastoma_FFPE (n=64)</td>\n",
       "      <td>RNA</td>\n",
       "      <td>mb_ffpe</td>\n",
       "      <td>WNT</td>\n",
       "      <td>272</td>\n",
       "      <td>37</td>\n",
       "      <td>171388</td>\n",
       "      <td>124869</td>\n",
       "      <td>221</td>\n",
       "      <td>...</td>\n",
       "      <td>11</td>\n",
       "      <td>120</td>\n",
       "      <td>7</td>\n",
       "      <td>26604</td>\n",
       "      <td>89</td>\n",
       "      <td>27158</td>\n",
       "      <td>5</td>\n",
       "      <td>113940</td>\n",
       "      <td>678</td>\n",
       "      <td>17467</td>\n",
       "    </tr>\n",
       "  </tbody>\n",
       "</table>\n",
       "<p>29 rows × 2088 columns</p>\n",
       "</div>"
      ],
      "text/plain": [
       "    sample_id                        label composition_type   cohort  \\\n",
       "0    7316-302  Medulloblastoma_FFPE (n=64)              RNA  mb_ffpe   \n",
       "1    7316-304  Medulloblastoma_FFPE (n=64)              RNA  mb_ffpe   \n",
       "2    7316-109  Medulloblastoma_FFPE (n=64)              RNA  mb_ffpe   \n",
       "3     7316-14  Medulloblastoma_FFPE (n=64)              RNA  mb_ffpe   \n",
       "4   7316-1460  Medulloblastoma_FFPE (n=64)              RNA  mb_ffpe   \n",
       "5     7316-22  Medulloblastoma_FFPE (n=64)              RNA  mb_ffpe   \n",
       "6   7316-2971  Medulloblastoma_FFPE (n=64)              RNA  mb_ffpe   \n",
       "7    7316-306  Medulloblastoma_FFPE (n=64)              RNA  mb_ffpe   \n",
       "8    7316-307  Medulloblastoma_FFPE (n=64)              RNA  mb_ffpe   \n",
       "9    7316-309  Medulloblastoma_FFPE (n=64)              RNA  mb_ffpe   \n",
       "10   7316-313  Medulloblastoma_FFPE (n=64)              RNA  mb_ffpe   \n",
       "11   7316-314  Medulloblastoma_FFPE (n=64)              RNA  mb_ffpe   \n",
       "12   7316-347  Medulloblastoma_FFPE (n=64)              RNA  mb_ffpe   \n",
       "13   7316-367  Medulloblastoma_FFPE (n=64)              RNA  mb_ffpe   \n",
       "14    7316-38  Medulloblastoma_FFPE (n=64)              RNA  mb_ffpe   \n",
       "15   7316-407  Medulloblastoma_FFPE (n=64)              RNA  mb_ffpe   \n",
       "16   7316-897  Medulloblastoma_FFPE (n=64)              RNA  mb_ffpe   \n",
       "17   7316-908  Medulloblastoma_FFPE (n=64)              RNA  mb_ffpe   \n",
       "18   7316-937  Medulloblastoma_FFPE (n=64)              RNA  mb_ffpe   \n",
       "19   7316-178  Medulloblastoma_FFPE (n=64)              RNA  mb_ffpe   \n",
       "20  7316-1884  Medulloblastoma_FFPE (n=64)              RNA  mb_ffpe   \n",
       "21   7316-278  Medulloblastoma_FFPE (n=64)              RNA  mb_ffpe   \n",
       "22   7316-489  Medulloblastoma_FFPE (n=64)              RNA  mb_ffpe   \n",
       "23   7316-922  Medulloblastoma_FFPE (n=64)              RNA  mb_ffpe   \n",
       "24   7316-931  Medulloblastoma_FFPE (n=64)              RNA  mb_ffpe   \n",
       "25   7316-135  Medulloblastoma_FFPE (n=64)              RNA  mb_ffpe   \n",
       "26   7316-219  Medulloblastoma_FFPE (n=64)              RNA  mb_ffpe   \n",
       "27     7316-5  Medulloblastoma_FFPE (n=64)              RNA  mb_ffpe   \n",
       "28   7316-906  Medulloblastoma_FFPE (n=64)              RNA  mb_ffpe   \n",
       "\n",
       "   molecular_subtype  let-7a-2-3p  let-7a-3p  let-7a-5p  let-7b-5p  let-7c-3p  \\\n",
       "0             Group3          155        105     156785      57825        333   \n",
       "1             Group3           35         12      60543      14823        160   \n",
       "2             Group4           92         34     153438      92245        311   \n",
       "3             Group4          366        200     309458     114088        745   \n",
       "4             Group4          237         38     279789     156662        268   \n",
       "5             Group4          112         26     229934     144993        321   \n",
       "6             Group4          201        153     495360     341359       1948   \n",
       "7             Group4          121         86     403850     276691        597   \n",
       "8             Group4          307         94     264961     186029        518   \n",
       "9             Group4          369        126     391419     195495        220   \n",
       "10            Group4          227         59     253610     140465        421   \n",
       "11            Group4          165         54     208518     166200        387   \n",
       "12            Group4          143         49     248842     100240        431   \n",
       "13            Group4           22         42     232855     105968        266   \n",
       "14            Group4           22         31     245016     132476        424   \n",
       "15            Group4          158         85     299514     180047        644   \n",
       "16            Group4          230        137     499285     332756        938   \n",
       "17            Group4          264        116     433211     247750        880   \n",
       "18            Group4          206         38     217307     148455        212   \n",
       "19               SHH           41         38     180524     149766        157   \n",
       "20               SHH           72         35      70839      37769         38   \n",
       "21               SHH           63        101     167976     139122        148   \n",
       "22               SHH          252        154     248646     195501        280   \n",
       "23               SHH          171         45     103434      67974        294   \n",
       "24               SHH         2620         36     282119     284386        343   \n",
       "25               WNT          237         54     105149      71483        132   \n",
       "26               WNT          257         12     149643      89751        199   \n",
       "27               WNT          415         33     185376     158529        149   \n",
       "28               WNT          272         37     171388     124869        221   \n",
       "\n",
       "    ...  miR-944  miR-95-3p  miR-95-5p  miR-9-5p  miR-96-3p  miR-96-5p  \\\n",
       "0   ...       49        239         22     78526        322     145322   \n",
       "1   ...        3       3585          2      7327        381     209862   \n",
       "2   ...       19        147          9    170477         21       2155   \n",
       "3   ...       42        654         21    393903         71        307   \n",
       "4   ...       21        506          8    191015         90      20733   \n",
       "5   ...       15        189          4    188337         24       2659   \n",
       "6   ...       17        449         16    547502         37        477   \n",
       "7   ...       22        563          7    512611         29       1082   \n",
       "8   ...       17        215         11    366694         27        127   \n",
       "9   ...       44        471         30    482696        106      28314   \n",
       "10  ...       21        310         14    177788         84      25679   \n",
       "11  ...       26        149          6    274964         35         63   \n",
       "12  ...        6        111          2    182579          4        184   \n",
       "13  ...        0        140          1    136347          8         91   \n",
       "14  ...        1        139          2    103243          9        871   \n",
       "15  ...       15        305          6    402435         18        472   \n",
       "16  ...       20       1190         16    600827         21        127   \n",
       "17  ...       60        710         16    345910        176      43215   \n",
       "18  ...       14        105          2    304210         23       5403   \n",
       "19  ...        6        954          0    112605          5         13   \n",
       "20  ...        2        392          0       286          3         34   \n",
       "21  ...       16       2580          4    150208         10         96   \n",
       "22  ...       36        438         10    359897         15         16   \n",
       "23  ...       16        225          6    111811          7        577   \n",
       "24  ...       33       1821         34     70503        263        128   \n",
       "25  ...       14         63          3     25158         64      20599   \n",
       "26  ...        1        188          2     39650        120      43088   \n",
       "27  ...       31         64         11     37872        177      70525   \n",
       "28  ...       11        120          7     26604         89      27158   \n",
       "\n",
       "    miR-98-3p  miR-99a-5p  miR-99b-3p  miR-99b-5p  \n",
       "0           2      121617        1270       36225  \n",
       "1           1      118834         914       29937  \n",
       "2           5      159050         712       18912  \n",
       "3           3      385961         842       20647  \n",
       "4           4      270088         941       15055  \n",
       "5           1      268412         732       20735  \n",
       "6          18      685620        2099       40669  \n",
       "7           2      553698        1321       28821  \n",
       "8           6      302319         664       14126  \n",
       "9          10       64832        2228       55457  \n",
       "10          0      206663         995       18233  \n",
       "11          1      230620         685       14354  \n",
       "12          0      253475         755       15173  \n",
       "13          1      247995         461       14104  \n",
       "14          0      267067         545       12034  \n",
       "15          4      341209         796       19857  \n",
       "16          1      701470        1207       37179  \n",
       "17          2      516908         940       20654  \n",
       "18          0      248008         633       22063  \n",
       "19          1      109170         464        7780  \n",
       "20          0       16384        1267       29755  \n",
       "21          4       50286         458        7658  \n",
       "22          5       86625        1029       17940  \n",
       "23          0       78804         357        6984  \n",
       "24          2      115665        1710       21369  \n",
       "25         10       54594         480        9612  \n",
       "26          0      108682        1134       24842  \n",
       "27          9       41250        1472       26863  \n",
       "28          5      113940         678       17467  \n",
       "\n",
       "[29 rows x 2088 columns]"
      ]
     },
     "execution_count": 21,
     "metadata": {},
     "output_type": "execute_result"
    }
   ],
   "source": [
    "ffpe = pd.read_csv(data_dir + \"mb_ffpe_data_subset.csv\")\n",
    "ffpe"
   ]
  },
  {
   "cell_type": "code",
   "execution_count": 22,
   "id": "2ff1f6b2",
   "metadata": {},
   "outputs": [],
   "source": [
    "ffpe_X = ffpe.iloc[:,5:]\n",
    "ffpe_y = ffpe['molecular_subtype']"
   ]
  },
  {
   "cell_type": "code",
   "execution_count": 23,
   "id": "a0ed63bb",
   "metadata": {},
   "outputs": [
    {
     "data": {
      "text/plain": [
       "array([0, 0, 1, 0, 1, 1, 1, 1, 1, 0, 1, 1, 1, 1, 1, 1, 1, 0, 1, 2, 1, 2,\n",
       "       2, 2, 2, 0, 2, 2, 0])"
      ]
     },
     "execution_count": 23,
     "metadata": {},
     "output_type": "execute_result"
    }
   ],
   "source": [
    "ffpe_predictions = xgbc.predict(scaler.fit_transform(ffpe_X))\n",
    "ffpe_predictions"
   ]
  },
  {
   "cell_type": "code",
   "execution_count": 24,
   "id": "132469ad",
   "metadata": {},
   "outputs": [
    {
     "data": {
      "text/plain": [
       "array(['Group3', 'Group3', 'Group4', 'Group3', 'Group4', 'Group4',\n",
       "       'Group4', 'Group4', 'Group4', 'Group3', 'Group4', 'Group4',\n",
       "       'Group4', 'Group4', 'Group4', 'Group4', 'Group4', 'Group3',\n",
       "       'Group4', 'SHH', 'Group4', 'SHH', 'SHH', 'SHH', 'SHH', 'Group3',\n",
       "       'SHH', 'SHH', 'Group3'], dtype=object)"
      ]
     },
     "execution_count": 24,
     "metadata": {},
     "output_type": "execute_result"
    }
   ],
   "source": [
    "ffpe_predictions = encoder.inverse_transform(ffpe_predictions)\n",
    "ffpe_predictions"
   ]
  },
  {
   "cell_type": "code",
   "execution_count": 25,
   "id": "c6ce201d",
   "metadata": {},
   "outputs": [
    {
     "name": "stdout",
     "output_type": "stream",
     "text": [
      "Accuracy: 0.7241379310344828\n"
     ]
    }
   ],
   "source": [
    "# Accuracy of model\n",
    "print(f'Accuracy: {accuracy_score(ffpe_y, ffpe_predictions)}')"
   ]
  },
  {
   "cell_type": "code",
   "execution_count": 26,
   "id": "a3d93602",
   "metadata": {},
   "outputs": [
    {
     "data": {
      "text/html": [
       "<div>\n",
       "<style scoped>\n",
       "    .dataframe tbody tr th:only-of-type {\n",
       "        vertical-align: middle;\n",
       "    }\n",
       "\n",
       "    .dataframe tbody tr th {\n",
       "        vertical-align: top;\n",
       "    }\n",
       "\n",
       "    .dataframe thead th {\n",
       "        text-align: right;\n",
       "    }\n",
       "</style>\n",
       "<table border=\"1\" class=\"dataframe\">\n",
       "  <thead>\n",
       "    <tr style=\"text-align: right;\">\n",
       "      <th></th>\n",
       "      <th>0</th>\n",
       "    </tr>\n",
       "    <tr>\n",
       "      <th>molecular_subtype</th>\n",
       "      <th></th>\n",
       "    </tr>\n",
       "  </thead>\n",
       "  <tbody>\n",
       "    <tr>\n",
       "      <th>Group3</th>\n",
       "      <td>Group3</td>\n",
       "    </tr>\n",
       "    <tr>\n",
       "      <th>Group3</th>\n",
       "      <td>Group3</td>\n",
       "    </tr>\n",
       "    <tr>\n",
       "      <th>Group4</th>\n",
       "      <td>Group4</td>\n",
       "    </tr>\n",
       "    <tr>\n",
       "      <th>Group4</th>\n",
       "      <td>Group3</td>\n",
       "    </tr>\n",
       "    <tr>\n",
       "      <th>Group4</th>\n",
       "      <td>Group4</td>\n",
       "    </tr>\n",
       "    <tr>\n",
       "      <th>Group4</th>\n",
       "      <td>Group4</td>\n",
       "    </tr>\n",
       "    <tr>\n",
       "      <th>Group4</th>\n",
       "      <td>Group4</td>\n",
       "    </tr>\n",
       "    <tr>\n",
       "      <th>Group4</th>\n",
       "      <td>Group4</td>\n",
       "    </tr>\n",
       "    <tr>\n",
       "      <th>Group4</th>\n",
       "      <td>Group4</td>\n",
       "    </tr>\n",
       "    <tr>\n",
       "      <th>Group4</th>\n",
       "      <td>Group3</td>\n",
       "    </tr>\n",
       "    <tr>\n",
       "      <th>Group4</th>\n",
       "      <td>Group4</td>\n",
       "    </tr>\n",
       "    <tr>\n",
       "      <th>Group4</th>\n",
       "      <td>Group4</td>\n",
       "    </tr>\n",
       "    <tr>\n",
       "      <th>Group4</th>\n",
       "      <td>Group4</td>\n",
       "    </tr>\n",
       "    <tr>\n",
       "      <th>Group4</th>\n",
       "      <td>Group4</td>\n",
       "    </tr>\n",
       "    <tr>\n",
       "      <th>Group4</th>\n",
       "      <td>Group4</td>\n",
       "    </tr>\n",
       "    <tr>\n",
       "      <th>Group4</th>\n",
       "      <td>Group4</td>\n",
       "    </tr>\n",
       "    <tr>\n",
       "      <th>Group4</th>\n",
       "      <td>Group4</td>\n",
       "    </tr>\n",
       "    <tr>\n",
       "      <th>Group4</th>\n",
       "      <td>Group3</td>\n",
       "    </tr>\n",
       "    <tr>\n",
       "      <th>Group4</th>\n",
       "      <td>Group4</td>\n",
       "    </tr>\n",
       "    <tr>\n",
       "      <th>SHH</th>\n",
       "      <td>SHH</td>\n",
       "    </tr>\n",
       "    <tr>\n",
       "      <th>SHH</th>\n",
       "      <td>Group4</td>\n",
       "    </tr>\n",
       "    <tr>\n",
       "      <th>SHH</th>\n",
       "      <td>SHH</td>\n",
       "    </tr>\n",
       "    <tr>\n",
       "      <th>SHH</th>\n",
       "      <td>SHH</td>\n",
       "    </tr>\n",
       "    <tr>\n",
       "      <th>SHH</th>\n",
       "      <td>SHH</td>\n",
       "    </tr>\n",
       "    <tr>\n",
       "      <th>SHH</th>\n",
       "      <td>SHH</td>\n",
       "    </tr>\n",
       "    <tr>\n",
       "      <th>WNT</th>\n",
       "      <td>Group3</td>\n",
       "    </tr>\n",
       "    <tr>\n",
       "      <th>WNT</th>\n",
       "      <td>SHH</td>\n",
       "    </tr>\n",
       "    <tr>\n",
       "      <th>WNT</th>\n",
       "      <td>SHH</td>\n",
       "    </tr>\n",
       "    <tr>\n",
       "      <th>WNT</th>\n",
       "      <td>Group3</td>\n",
       "    </tr>\n",
       "  </tbody>\n",
       "</table>\n",
       "</div>"
      ],
      "text/plain": [
       "                        0\n",
       "molecular_subtype        \n",
       "Group3             Group3\n",
       "Group3             Group3\n",
       "Group4             Group4\n",
       "Group4             Group3\n",
       "Group4             Group4\n",
       "Group4             Group4\n",
       "Group4             Group4\n",
       "Group4             Group4\n",
       "Group4             Group4\n",
       "Group4             Group3\n",
       "Group4             Group4\n",
       "Group4             Group4\n",
       "Group4             Group4\n",
       "Group4             Group4\n",
       "Group4             Group4\n",
       "Group4             Group4\n",
       "Group4             Group4\n",
       "Group4             Group3\n",
       "Group4             Group4\n",
       "SHH                   SHH\n",
       "SHH                Group4\n",
       "SHH                   SHH\n",
       "SHH                   SHH\n",
       "SHH                   SHH\n",
       "SHH                   SHH\n",
       "WNT                Group3\n",
       "WNT                   SHH\n",
       "WNT                   SHH\n",
       "WNT                Group3"
      ]
     },
     "execution_count": 26,
     "metadata": {},
     "output_type": "execute_result"
    }
   ],
   "source": [
    "pd.DataFrame(ffpe_predictions, ffpe_y)"
   ]
  },
  {
   "cell_type": "code",
   "execution_count": 27,
   "id": "89c029b4",
   "metadata": {},
   "outputs": [
    {
     "data": {
      "application/vnd.plotly.v1+json": {
       "config": {
        "plotlyServerURL": "https://plot.ly"
       },
       "data": [
        {
         "coloraxis": "coloraxis",
         "hovertemplate": "Predicted Subtype: %{x}<br>True Subtype: %{y}<br>Productivity: %{z}<extra></extra>",
         "name": "0",
         "texttemplate": "%{z}",
         "type": "heatmap",
         "x": [
          "Group3",
          "Group4",
          "SHH",
          "WNT"
         ],
         "xaxis": "x",
         "y": [
          "Group3",
          "Group4",
          "SHH",
          "WNT"
         ],
         "yaxis": "y",
         "z": [
          [
           2,
           0,
           0,
           0
          ],
          [
           3,
           14,
           0,
           0
          ],
          [
           0,
           1,
           5,
           0
          ],
          [
           2,
           0,
           2,
           0
          ]
         ]
        }
       ],
       "layout": {
        "coloraxis": {
         "colorbar": {
          "title": {
           "text": "Productivity"
          }
         },
         "colorscale": [
          [
           0,
           "#0d0887"
          ],
          [
           0.1111111111111111,
           "#46039f"
          ],
          [
           0.2222222222222222,
           "#7201a8"
          ],
          [
           0.3333333333333333,
           "#9c179e"
          ],
          [
           0.4444444444444444,
           "#bd3786"
          ],
          [
           0.5555555555555556,
           "#d8576b"
          ],
          [
           0.6666666666666666,
           "#ed7953"
          ],
          [
           0.7777777777777778,
           "#fb9f3a"
          ],
          [
           0.8888888888888888,
           "#fdca26"
          ],
          [
           1,
           "#f0f921"
          ]
         ]
        },
        "margin": {
         "t": 60
        },
        "template": {
         "data": {
          "bar": [
           {
            "error_x": {
             "color": "#2a3f5f"
            },
            "error_y": {
             "color": "#2a3f5f"
            },
            "marker": {
             "line": {
              "color": "#E5ECF6",
              "width": 0.5
             },
             "pattern": {
              "fillmode": "overlay",
              "size": 10,
              "solidity": 0.2
             }
            },
            "type": "bar"
           }
          ],
          "barpolar": [
           {
            "marker": {
             "line": {
              "color": "#E5ECF6",
              "width": 0.5
             },
             "pattern": {
              "fillmode": "overlay",
              "size": 10,
              "solidity": 0.2
             }
            },
            "type": "barpolar"
           }
          ],
          "carpet": [
           {
            "aaxis": {
             "endlinecolor": "#2a3f5f",
             "gridcolor": "white",
             "linecolor": "white",
             "minorgridcolor": "white",
             "startlinecolor": "#2a3f5f"
            },
            "baxis": {
             "endlinecolor": "#2a3f5f",
             "gridcolor": "white",
             "linecolor": "white",
             "minorgridcolor": "white",
             "startlinecolor": "#2a3f5f"
            },
            "type": "carpet"
           }
          ],
          "choropleth": [
           {
            "colorbar": {
             "outlinewidth": 0,
             "ticks": ""
            },
            "type": "choropleth"
           }
          ],
          "contour": [
           {
            "colorbar": {
             "outlinewidth": 0,
             "ticks": ""
            },
            "colorscale": [
             [
              0,
              "#0d0887"
             ],
             [
              0.1111111111111111,
              "#46039f"
             ],
             [
              0.2222222222222222,
              "#7201a8"
             ],
             [
              0.3333333333333333,
              "#9c179e"
             ],
             [
              0.4444444444444444,
              "#bd3786"
             ],
             [
              0.5555555555555556,
              "#d8576b"
             ],
             [
              0.6666666666666666,
              "#ed7953"
             ],
             [
              0.7777777777777778,
              "#fb9f3a"
             ],
             [
              0.8888888888888888,
              "#fdca26"
             ],
             [
              1,
              "#f0f921"
             ]
            ],
            "type": "contour"
           }
          ],
          "contourcarpet": [
           {
            "colorbar": {
             "outlinewidth": 0,
             "ticks": ""
            },
            "type": "contourcarpet"
           }
          ],
          "heatmap": [
           {
            "colorbar": {
             "outlinewidth": 0,
             "ticks": ""
            },
            "colorscale": [
             [
              0,
              "#0d0887"
             ],
             [
              0.1111111111111111,
              "#46039f"
             ],
             [
              0.2222222222222222,
              "#7201a8"
             ],
             [
              0.3333333333333333,
              "#9c179e"
             ],
             [
              0.4444444444444444,
              "#bd3786"
             ],
             [
              0.5555555555555556,
              "#d8576b"
             ],
             [
              0.6666666666666666,
              "#ed7953"
             ],
             [
              0.7777777777777778,
              "#fb9f3a"
             ],
             [
              0.8888888888888888,
              "#fdca26"
             ],
             [
              1,
              "#f0f921"
             ]
            ],
            "type": "heatmap"
           }
          ],
          "heatmapgl": [
           {
            "colorbar": {
             "outlinewidth": 0,
             "ticks": ""
            },
            "colorscale": [
             [
              0,
              "#0d0887"
             ],
             [
              0.1111111111111111,
              "#46039f"
             ],
             [
              0.2222222222222222,
              "#7201a8"
             ],
             [
              0.3333333333333333,
              "#9c179e"
             ],
             [
              0.4444444444444444,
              "#bd3786"
             ],
             [
              0.5555555555555556,
              "#d8576b"
             ],
             [
              0.6666666666666666,
              "#ed7953"
             ],
             [
              0.7777777777777778,
              "#fb9f3a"
             ],
             [
              0.8888888888888888,
              "#fdca26"
             ],
             [
              1,
              "#f0f921"
             ]
            ],
            "type": "heatmapgl"
           }
          ],
          "histogram": [
           {
            "marker": {
             "pattern": {
              "fillmode": "overlay",
              "size": 10,
              "solidity": 0.2
             }
            },
            "type": "histogram"
           }
          ],
          "histogram2d": [
           {
            "colorbar": {
             "outlinewidth": 0,
             "ticks": ""
            },
            "colorscale": [
             [
              0,
              "#0d0887"
             ],
             [
              0.1111111111111111,
              "#46039f"
             ],
             [
              0.2222222222222222,
              "#7201a8"
             ],
             [
              0.3333333333333333,
              "#9c179e"
             ],
             [
              0.4444444444444444,
              "#bd3786"
             ],
             [
              0.5555555555555556,
              "#d8576b"
             ],
             [
              0.6666666666666666,
              "#ed7953"
             ],
             [
              0.7777777777777778,
              "#fb9f3a"
             ],
             [
              0.8888888888888888,
              "#fdca26"
             ],
             [
              1,
              "#f0f921"
             ]
            ],
            "type": "histogram2d"
           }
          ],
          "histogram2dcontour": [
           {
            "colorbar": {
             "outlinewidth": 0,
             "ticks": ""
            },
            "colorscale": [
             [
              0,
              "#0d0887"
             ],
             [
              0.1111111111111111,
              "#46039f"
             ],
             [
              0.2222222222222222,
              "#7201a8"
             ],
             [
              0.3333333333333333,
              "#9c179e"
             ],
             [
              0.4444444444444444,
              "#bd3786"
             ],
             [
              0.5555555555555556,
              "#d8576b"
             ],
             [
              0.6666666666666666,
              "#ed7953"
             ],
             [
              0.7777777777777778,
              "#fb9f3a"
             ],
             [
              0.8888888888888888,
              "#fdca26"
             ],
             [
              1,
              "#f0f921"
             ]
            ],
            "type": "histogram2dcontour"
           }
          ],
          "mesh3d": [
           {
            "colorbar": {
             "outlinewidth": 0,
             "ticks": ""
            },
            "type": "mesh3d"
           }
          ],
          "parcoords": [
           {
            "line": {
             "colorbar": {
              "outlinewidth": 0,
              "ticks": ""
             }
            },
            "type": "parcoords"
           }
          ],
          "pie": [
           {
            "automargin": true,
            "type": "pie"
           }
          ],
          "scatter": [
           {
            "marker": {
             "colorbar": {
              "outlinewidth": 0,
              "ticks": ""
             }
            },
            "type": "scatter"
           }
          ],
          "scatter3d": [
           {
            "line": {
             "colorbar": {
              "outlinewidth": 0,
              "ticks": ""
             }
            },
            "marker": {
             "colorbar": {
              "outlinewidth": 0,
              "ticks": ""
             }
            },
            "type": "scatter3d"
           }
          ],
          "scattercarpet": [
           {
            "marker": {
             "colorbar": {
              "outlinewidth": 0,
              "ticks": ""
             }
            },
            "type": "scattercarpet"
           }
          ],
          "scattergeo": [
           {
            "marker": {
             "colorbar": {
              "outlinewidth": 0,
              "ticks": ""
             }
            },
            "type": "scattergeo"
           }
          ],
          "scattergl": [
           {
            "marker": {
             "colorbar": {
              "outlinewidth": 0,
              "ticks": ""
             }
            },
            "type": "scattergl"
           }
          ],
          "scattermapbox": [
           {
            "marker": {
             "colorbar": {
              "outlinewidth": 0,
              "ticks": ""
             }
            },
            "type": "scattermapbox"
           }
          ],
          "scatterpolar": [
           {
            "marker": {
             "colorbar": {
              "outlinewidth": 0,
              "ticks": ""
             }
            },
            "type": "scatterpolar"
           }
          ],
          "scatterpolargl": [
           {
            "marker": {
             "colorbar": {
              "outlinewidth": 0,
              "ticks": ""
             }
            },
            "type": "scatterpolargl"
           }
          ],
          "scatterternary": [
           {
            "marker": {
             "colorbar": {
              "outlinewidth": 0,
              "ticks": ""
             }
            },
            "type": "scatterternary"
           }
          ],
          "surface": [
           {
            "colorbar": {
             "outlinewidth": 0,
             "ticks": ""
            },
            "colorscale": [
             [
              0,
              "#0d0887"
             ],
             [
              0.1111111111111111,
              "#46039f"
             ],
             [
              0.2222222222222222,
              "#7201a8"
             ],
             [
              0.3333333333333333,
              "#9c179e"
             ],
             [
              0.4444444444444444,
              "#bd3786"
             ],
             [
              0.5555555555555556,
              "#d8576b"
             ],
             [
              0.6666666666666666,
              "#ed7953"
             ],
             [
              0.7777777777777778,
              "#fb9f3a"
             ],
             [
              0.8888888888888888,
              "#fdca26"
             ],
             [
              1,
              "#f0f921"
             ]
            ],
            "type": "surface"
           }
          ],
          "table": [
           {
            "cells": {
             "fill": {
              "color": "#EBF0F8"
             },
             "line": {
              "color": "white"
             }
            },
            "header": {
             "fill": {
              "color": "#C8D4E3"
             },
             "line": {
              "color": "white"
             }
            },
            "type": "table"
           }
          ]
         },
         "layout": {
          "annotationdefaults": {
           "arrowcolor": "#2a3f5f",
           "arrowhead": 0,
           "arrowwidth": 1
          },
          "autotypenumbers": "strict",
          "coloraxis": {
           "colorbar": {
            "outlinewidth": 0,
            "ticks": ""
           }
          },
          "colorscale": {
           "diverging": [
            [
             0,
             "#8e0152"
            ],
            [
             0.1,
             "#c51b7d"
            ],
            [
             0.2,
             "#de77ae"
            ],
            [
             0.3,
             "#f1b6da"
            ],
            [
             0.4,
             "#fde0ef"
            ],
            [
             0.5,
             "#f7f7f7"
            ],
            [
             0.6,
             "#e6f5d0"
            ],
            [
             0.7,
             "#b8e186"
            ],
            [
             0.8,
             "#7fbc41"
            ],
            [
             0.9,
             "#4d9221"
            ],
            [
             1,
             "#276419"
            ]
           ],
           "sequential": [
            [
             0,
             "#0d0887"
            ],
            [
             0.1111111111111111,
             "#46039f"
            ],
            [
             0.2222222222222222,
             "#7201a8"
            ],
            [
             0.3333333333333333,
             "#9c179e"
            ],
            [
             0.4444444444444444,
             "#bd3786"
            ],
            [
             0.5555555555555556,
             "#d8576b"
            ],
            [
             0.6666666666666666,
             "#ed7953"
            ],
            [
             0.7777777777777778,
             "#fb9f3a"
            ],
            [
             0.8888888888888888,
             "#fdca26"
            ],
            [
             1,
             "#f0f921"
            ]
           ],
           "sequentialminus": [
            [
             0,
             "#0d0887"
            ],
            [
             0.1111111111111111,
             "#46039f"
            ],
            [
             0.2222222222222222,
             "#7201a8"
            ],
            [
             0.3333333333333333,
             "#9c179e"
            ],
            [
             0.4444444444444444,
             "#bd3786"
            ],
            [
             0.5555555555555556,
             "#d8576b"
            ],
            [
             0.6666666666666666,
             "#ed7953"
            ],
            [
             0.7777777777777778,
             "#fb9f3a"
            ],
            [
             0.8888888888888888,
             "#fdca26"
            ],
            [
             1,
             "#f0f921"
            ]
           ]
          },
          "colorway": [
           "#636efa",
           "#EF553B",
           "#00cc96",
           "#ab63fa",
           "#FFA15A",
           "#19d3f3",
           "#FF6692",
           "#B6E880",
           "#FF97FF",
           "#FECB52"
          ],
          "font": {
           "color": "#2a3f5f"
          },
          "geo": {
           "bgcolor": "white",
           "lakecolor": "white",
           "landcolor": "#E5ECF6",
           "showlakes": true,
           "showland": true,
           "subunitcolor": "white"
          },
          "hoverlabel": {
           "align": "left"
          },
          "hovermode": "closest",
          "mapbox": {
           "style": "light"
          },
          "paper_bgcolor": "white",
          "plot_bgcolor": "#E5ECF6",
          "polar": {
           "angularaxis": {
            "gridcolor": "white",
            "linecolor": "white",
            "ticks": ""
           },
           "bgcolor": "#E5ECF6",
           "radialaxis": {
            "gridcolor": "white",
            "linecolor": "white",
            "ticks": ""
           }
          },
          "scene": {
           "xaxis": {
            "backgroundcolor": "#E5ECF6",
            "gridcolor": "white",
            "gridwidth": 2,
            "linecolor": "white",
            "showbackground": true,
            "ticks": "",
            "zerolinecolor": "white"
           },
           "yaxis": {
            "backgroundcolor": "#E5ECF6",
            "gridcolor": "white",
            "gridwidth": 2,
            "linecolor": "white",
            "showbackground": true,
            "ticks": "",
            "zerolinecolor": "white"
           },
           "zaxis": {
            "backgroundcolor": "#E5ECF6",
            "gridcolor": "white",
            "gridwidth": 2,
            "linecolor": "white",
            "showbackground": true,
            "ticks": "",
            "zerolinecolor": "white"
           }
          },
          "shapedefaults": {
           "line": {
            "color": "#2a3f5f"
           }
          },
          "ternary": {
           "aaxis": {
            "gridcolor": "white",
            "linecolor": "white",
            "ticks": ""
           },
           "baxis": {
            "gridcolor": "white",
            "linecolor": "white",
            "ticks": ""
           },
           "bgcolor": "#E5ECF6",
           "caxis": {
            "gridcolor": "white",
            "linecolor": "white",
            "ticks": ""
           }
          },
          "title": {
           "x": 0.05
          },
          "xaxis": {
           "automargin": true,
           "gridcolor": "white",
           "linecolor": "white",
           "ticks": "",
           "title": {
            "standoff": 15
           },
           "zerolinecolor": "white",
           "zerolinewidth": 2
          },
          "yaxis": {
           "automargin": true,
           "gridcolor": "white",
           "linecolor": "white",
           "ticks": "",
           "title": {
            "standoff": 15
           },
           "zerolinecolor": "white",
           "zerolinewidth": 2
          }
         }
        },
        "xaxis": {
         "anchor": "y",
         "constrain": "domain",
         "domain": [
          0,
          1
         ],
         "scaleanchor": "y",
         "title": {
          "text": "Predicted Subtype"
         }
        },
        "yaxis": {
         "anchor": "x",
         "autorange": "reversed",
         "constrain": "domain",
         "domain": [
          0,
          1
         ],
         "title": {
          "text": "True Subtype"
         }
        }
       }
      },
      "text/html": [
       "<div>                            <div id=\"3a95270c-90df-4e32-b247-47bf28fd9dcb\" class=\"plotly-graph-div\" style=\"height:525px; width:100%;\"></div>            <script type=\"text/javascript\">                require([\"plotly\"], function(Plotly) {                    window.PLOTLYENV=window.PLOTLYENV || {};                                    if (document.getElementById(\"3a95270c-90df-4e32-b247-47bf28fd9dcb\")) {                    Plotly.newPlot(                        \"3a95270c-90df-4e32-b247-47bf28fd9dcb\",                        [{\"coloraxis\":\"coloraxis\",\"name\":\"0\",\"texttemplate\":\"%{z}\",\"x\":[\"Group3\",\"Group4\",\"SHH\",\"WNT\"],\"y\":[\"Group3\",\"Group4\",\"SHH\",\"WNT\"],\"z\":[[2,0,0,0],[3,14,0,0],[0,1,5,0],[2,0,2,0]],\"type\":\"heatmap\",\"xaxis\":\"x\",\"yaxis\":\"y\",\"hovertemplate\":\"Predicted Subtype: %{x}<br>True Subtype: %{y}<br>Productivity: %{z}<extra></extra>\"}],                        {\"template\":{\"data\":{\"bar\":[{\"error_x\":{\"color\":\"#2a3f5f\"},\"error_y\":{\"color\":\"#2a3f5f\"},\"marker\":{\"line\":{\"color\":\"#E5ECF6\",\"width\":0.5},\"pattern\":{\"fillmode\":\"overlay\",\"size\":10,\"solidity\":0.2}},\"type\":\"bar\"}],\"barpolar\":[{\"marker\":{\"line\":{\"color\":\"#E5ECF6\",\"width\":0.5},\"pattern\":{\"fillmode\":\"overlay\",\"size\":10,\"solidity\":0.2}},\"type\":\"barpolar\"}],\"carpet\":[{\"aaxis\":{\"endlinecolor\":\"#2a3f5f\",\"gridcolor\":\"white\",\"linecolor\":\"white\",\"minorgridcolor\":\"white\",\"startlinecolor\":\"#2a3f5f\"},\"baxis\":{\"endlinecolor\":\"#2a3f5f\",\"gridcolor\":\"white\",\"linecolor\":\"white\",\"minorgridcolor\":\"white\",\"startlinecolor\":\"#2a3f5f\"},\"type\":\"carpet\"}],\"choropleth\":[{\"colorbar\":{\"outlinewidth\":0,\"ticks\":\"\"},\"type\":\"choropleth\"}],\"contour\":[{\"colorbar\":{\"outlinewidth\":0,\"ticks\":\"\"},\"colorscale\":[[0.0,\"#0d0887\"],[0.1111111111111111,\"#46039f\"],[0.2222222222222222,\"#7201a8\"],[0.3333333333333333,\"#9c179e\"],[0.4444444444444444,\"#bd3786\"],[0.5555555555555556,\"#d8576b\"],[0.6666666666666666,\"#ed7953\"],[0.7777777777777778,\"#fb9f3a\"],[0.8888888888888888,\"#fdca26\"],[1.0,\"#f0f921\"]],\"type\":\"contour\"}],\"contourcarpet\":[{\"colorbar\":{\"outlinewidth\":0,\"ticks\":\"\"},\"type\":\"contourcarpet\"}],\"heatmap\":[{\"colorbar\":{\"outlinewidth\":0,\"ticks\":\"\"},\"colorscale\":[[0.0,\"#0d0887\"],[0.1111111111111111,\"#46039f\"],[0.2222222222222222,\"#7201a8\"],[0.3333333333333333,\"#9c179e\"],[0.4444444444444444,\"#bd3786\"],[0.5555555555555556,\"#d8576b\"],[0.6666666666666666,\"#ed7953\"],[0.7777777777777778,\"#fb9f3a\"],[0.8888888888888888,\"#fdca26\"],[1.0,\"#f0f921\"]],\"type\":\"heatmap\"}],\"heatmapgl\":[{\"colorbar\":{\"outlinewidth\":0,\"ticks\":\"\"},\"colorscale\":[[0.0,\"#0d0887\"],[0.1111111111111111,\"#46039f\"],[0.2222222222222222,\"#7201a8\"],[0.3333333333333333,\"#9c179e\"],[0.4444444444444444,\"#bd3786\"],[0.5555555555555556,\"#d8576b\"],[0.6666666666666666,\"#ed7953\"],[0.7777777777777778,\"#fb9f3a\"],[0.8888888888888888,\"#fdca26\"],[1.0,\"#f0f921\"]],\"type\":\"heatmapgl\"}],\"histogram\":[{\"marker\":{\"pattern\":{\"fillmode\":\"overlay\",\"size\":10,\"solidity\":0.2}},\"type\":\"histogram\"}],\"histogram2d\":[{\"colorbar\":{\"outlinewidth\":0,\"ticks\":\"\"},\"colorscale\":[[0.0,\"#0d0887\"],[0.1111111111111111,\"#46039f\"],[0.2222222222222222,\"#7201a8\"],[0.3333333333333333,\"#9c179e\"],[0.4444444444444444,\"#bd3786\"],[0.5555555555555556,\"#d8576b\"],[0.6666666666666666,\"#ed7953\"],[0.7777777777777778,\"#fb9f3a\"],[0.8888888888888888,\"#fdca26\"],[1.0,\"#f0f921\"]],\"type\":\"histogram2d\"}],\"histogram2dcontour\":[{\"colorbar\":{\"outlinewidth\":0,\"ticks\":\"\"},\"colorscale\":[[0.0,\"#0d0887\"],[0.1111111111111111,\"#46039f\"],[0.2222222222222222,\"#7201a8\"],[0.3333333333333333,\"#9c179e\"],[0.4444444444444444,\"#bd3786\"],[0.5555555555555556,\"#d8576b\"],[0.6666666666666666,\"#ed7953\"],[0.7777777777777778,\"#fb9f3a\"],[0.8888888888888888,\"#fdca26\"],[1.0,\"#f0f921\"]],\"type\":\"histogram2dcontour\"}],\"mesh3d\":[{\"colorbar\":{\"outlinewidth\":0,\"ticks\":\"\"},\"type\":\"mesh3d\"}],\"parcoords\":[{\"line\":{\"colorbar\":{\"outlinewidth\":0,\"ticks\":\"\"}},\"type\":\"parcoords\"}],\"pie\":[{\"automargin\":true,\"type\":\"pie\"}],\"scatter\":[{\"marker\":{\"colorbar\":{\"outlinewidth\":0,\"ticks\":\"\"}},\"type\":\"scatter\"}],\"scatter3d\":[{\"line\":{\"colorbar\":{\"outlinewidth\":0,\"ticks\":\"\"}},\"marker\":{\"colorbar\":{\"outlinewidth\":0,\"ticks\":\"\"}},\"type\":\"scatter3d\"}],\"scattercarpet\":[{\"marker\":{\"colorbar\":{\"outlinewidth\":0,\"ticks\":\"\"}},\"type\":\"scattercarpet\"}],\"scattergeo\":[{\"marker\":{\"colorbar\":{\"outlinewidth\":0,\"ticks\":\"\"}},\"type\":\"scattergeo\"}],\"scattergl\":[{\"marker\":{\"colorbar\":{\"outlinewidth\":0,\"ticks\":\"\"}},\"type\":\"scattergl\"}],\"scattermapbox\":[{\"marker\":{\"colorbar\":{\"outlinewidth\":0,\"ticks\":\"\"}},\"type\":\"scattermapbox\"}],\"scatterpolar\":[{\"marker\":{\"colorbar\":{\"outlinewidth\":0,\"ticks\":\"\"}},\"type\":\"scatterpolar\"}],\"scatterpolargl\":[{\"marker\":{\"colorbar\":{\"outlinewidth\":0,\"ticks\":\"\"}},\"type\":\"scatterpolargl\"}],\"scatterternary\":[{\"marker\":{\"colorbar\":{\"outlinewidth\":0,\"ticks\":\"\"}},\"type\":\"scatterternary\"}],\"surface\":[{\"colorbar\":{\"outlinewidth\":0,\"ticks\":\"\"},\"colorscale\":[[0.0,\"#0d0887\"],[0.1111111111111111,\"#46039f\"],[0.2222222222222222,\"#7201a8\"],[0.3333333333333333,\"#9c179e\"],[0.4444444444444444,\"#bd3786\"],[0.5555555555555556,\"#d8576b\"],[0.6666666666666666,\"#ed7953\"],[0.7777777777777778,\"#fb9f3a\"],[0.8888888888888888,\"#fdca26\"],[1.0,\"#f0f921\"]],\"type\":\"surface\"}],\"table\":[{\"cells\":{\"fill\":{\"color\":\"#EBF0F8\"},\"line\":{\"color\":\"white\"}},\"header\":{\"fill\":{\"color\":\"#C8D4E3\"},\"line\":{\"color\":\"white\"}},\"type\":\"table\"}]},\"layout\":{\"annotationdefaults\":{\"arrowcolor\":\"#2a3f5f\",\"arrowhead\":0,\"arrowwidth\":1},\"autotypenumbers\":\"strict\",\"coloraxis\":{\"colorbar\":{\"outlinewidth\":0,\"ticks\":\"\"}},\"colorscale\":{\"diverging\":[[0,\"#8e0152\"],[0.1,\"#c51b7d\"],[0.2,\"#de77ae\"],[0.3,\"#f1b6da\"],[0.4,\"#fde0ef\"],[0.5,\"#f7f7f7\"],[0.6,\"#e6f5d0\"],[0.7,\"#b8e186\"],[0.8,\"#7fbc41\"],[0.9,\"#4d9221\"],[1,\"#276419\"]],\"sequential\":[[0.0,\"#0d0887\"],[0.1111111111111111,\"#46039f\"],[0.2222222222222222,\"#7201a8\"],[0.3333333333333333,\"#9c179e\"],[0.4444444444444444,\"#bd3786\"],[0.5555555555555556,\"#d8576b\"],[0.6666666666666666,\"#ed7953\"],[0.7777777777777778,\"#fb9f3a\"],[0.8888888888888888,\"#fdca26\"],[1.0,\"#f0f921\"]],\"sequentialminus\":[[0.0,\"#0d0887\"],[0.1111111111111111,\"#46039f\"],[0.2222222222222222,\"#7201a8\"],[0.3333333333333333,\"#9c179e\"],[0.4444444444444444,\"#bd3786\"],[0.5555555555555556,\"#d8576b\"],[0.6666666666666666,\"#ed7953\"],[0.7777777777777778,\"#fb9f3a\"],[0.8888888888888888,\"#fdca26\"],[1.0,\"#f0f921\"]]},\"colorway\":[\"#636efa\",\"#EF553B\",\"#00cc96\",\"#ab63fa\",\"#FFA15A\",\"#19d3f3\",\"#FF6692\",\"#B6E880\",\"#FF97FF\",\"#FECB52\"],\"font\":{\"color\":\"#2a3f5f\"},\"geo\":{\"bgcolor\":\"white\",\"lakecolor\":\"white\",\"landcolor\":\"#E5ECF6\",\"showlakes\":true,\"showland\":true,\"subunitcolor\":\"white\"},\"hoverlabel\":{\"align\":\"left\"},\"hovermode\":\"closest\",\"mapbox\":{\"style\":\"light\"},\"paper_bgcolor\":\"white\",\"plot_bgcolor\":\"#E5ECF6\",\"polar\":{\"angularaxis\":{\"gridcolor\":\"white\",\"linecolor\":\"white\",\"ticks\":\"\"},\"bgcolor\":\"#E5ECF6\",\"radialaxis\":{\"gridcolor\":\"white\",\"linecolor\":\"white\",\"ticks\":\"\"}},\"scene\":{\"xaxis\":{\"backgroundcolor\":\"#E5ECF6\",\"gridcolor\":\"white\",\"gridwidth\":2,\"linecolor\":\"white\",\"showbackground\":true,\"ticks\":\"\",\"zerolinecolor\":\"white\"},\"yaxis\":{\"backgroundcolor\":\"#E5ECF6\",\"gridcolor\":\"white\",\"gridwidth\":2,\"linecolor\":\"white\",\"showbackground\":true,\"ticks\":\"\",\"zerolinecolor\":\"white\"},\"zaxis\":{\"backgroundcolor\":\"#E5ECF6\",\"gridcolor\":\"white\",\"gridwidth\":2,\"linecolor\":\"white\",\"showbackground\":true,\"ticks\":\"\",\"zerolinecolor\":\"white\"}},\"shapedefaults\":{\"line\":{\"color\":\"#2a3f5f\"}},\"ternary\":{\"aaxis\":{\"gridcolor\":\"white\",\"linecolor\":\"white\",\"ticks\":\"\"},\"baxis\":{\"gridcolor\":\"white\",\"linecolor\":\"white\",\"ticks\":\"\"},\"bgcolor\":\"#E5ECF6\",\"caxis\":{\"gridcolor\":\"white\",\"linecolor\":\"white\",\"ticks\":\"\"}},\"title\":{\"x\":0.05},\"xaxis\":{\"automargin\":true,\"gridcolor\":\"white\",\"linecolor\":\"white\",\"ticks\":\"\",\"title\":{\"standoff\":15},\"zerolinecolor\":\"white\",\"zerolinewidth\":2},\"yaxis\":{\"automargin\":true,\"gridcolor\":\"white\",\"linecolor\":\"white\",\"ticks\":\"\",\"title\":{\"standoff\":15},\"zerolinecolor\":\"white\",\"zerolinewidth\":2}}},\"xaxis\":{\"anchor\":\"y\",\"domain\":[0.0,1.0],\"scaleanchor\":\"y\",\"constrain\":\"domain\",\"title\":{\"text\":\"Predicted Subtype\"}},\"yaxis\":{\"anchor\":\"x\",\"domain\":[0.0,1.0],\"autorange\":\"reversed\",\"constrain\":\"domain\",\"title\":{\"text\":\"True Subtype\"}},\"coloraxis\":{\"colorbar\":{\"title\":{\"text\":\"Productivity\"}},\"colorscale\":[[0.0,\"#0d0887\"],[0.1111111111111111,\"#46039f\"],[0.2222222222222222,\"#7201a8\"],[0.3333333333333333,\"#9c179e\"],[0.4444444444444444,\"#bd3786\"],[0.5555555555555556,\"#d8576b\"],[0.6666666666666666,\"#ed7953\"],[0.7777777777777778,\"#fb9f3a\"],[0.8888888888888888,\"#fdca26\"],[1.0,\"#f0f921\"]]},\"margin\":{\"t\":60}},                        {\"responsive\": true}                    ).then(function(){\n",
       "                            \n",
       "var gd = document.getElementById('3a95270c-90df-4e32-b247-47bf28fd9dcb');\n",
       "var x = new MutationObserver(function (mutations, observer) {{\n",
       "        var display = window.getComputedStyle(gd).display;\n",
       "        if (!display || display === 'none') {{\n",
       "            console.log([gd, 'removed!']);\n",
       "            Plotly.purge(gd);\n",
       "            observer.disconnect();\n",
       "        }}\n",
       "}});\n",
       "\n",
       "// Listen for the removal of the full notebook cells\n",
       "var notebookContainer = gd.closest('#notebook-container');\n",
       "if (notebookContainer) {{\n",
       "    x.observe(notebookContainer, {childList: true});\n",
       "}}\n",
       "\n",
       "// Listen for the clearing of the current output cell\n",
       "var outputEl = gd.closest('.output');\n",
       "if (outputEl) {{\n",
       "    x.observe(outputEl, {childList: true});\n",
       "}}\n",
       "\n",
       "                        })                };                });            </script>        </div>"
      ]
     },
     "metadata": {},
     "output_type": "display_data"
    }
   ],
   "source": [
    "# Calculate a confusion matrix\n",
    "cm = confusion_matrix(ffpe_y, ffpe_predictions)\n",
    "\n",
    "# Display confusion matrix to look at how accurately the ML model was able to classify each tumor type\n",
    "disp = px.imshow(cm, text_auto=True,\n",
    "                labels=dict(x=\"Predicted Subtype\", y=\"True Subtype\", color=\"Productivity\"),\n",
    "                x=ffpe['molecular_subtype'].unique().tolist(),\n",
    "                y=ffpe['molecular_subtype'].unique().tolist()\n",
    "                )\n",
    "disp.show()"
   ]
  },
  {
   "cell_type": "markdown",
   "id": "cb8b5dd7",
   "metadata": {},
   "source": [
    "# Testing on CSF and Plasma Data"
   ]
  },
  {
   "cell_type": "code",
   "execution_count": 28,
   "id": "6b0867d6",
   "metadata": {
    "scrolled": true
   },
   "outputs": [
    {
     "data": {
      "text/html": [
       "<div>\n",
       "<style scoped>\n",
       "    .dataframe tbody tr th:only-of-type {\n",
       "        vertical-align: middle;\n",
       "    }\n",
       "\n",
       "    .dataframe tbody tr th {\n",
       "        vertical-align: top;\n",
       "    }\n",
       "\n",
       "    .dataframe thead th {\n",
       "        text-align: right;\n",
       "    }\n",
       "</style>\n",
       "<table border=\"1\" class=\"dataframe\">\n",
       "  <thead>\n",
       "    <tr style=\"text-align: right;\">\n",
       "      <th></th>\n",
       "      <th>Study Subject ID</th>\n",
       "      <th>SDG_ID</th>\n",
       "      <th>Short_histology</th>\n",
       "      <th>Specimen_x</th>\n",
       "      <th>Case_type</th>\n",
       "      <th>Tumor_Subtype</th>\n",
       "      <th>WHO_Grade</th>\n",
       "      <th>Specimen_y</th>\n",
       "      <th>CTRL_ANT1</th>\n",
       "      <th>CTRL_ANT2</th>\n",
       "      <th>...</th>\n",
       "      <th>miR-944</th>\n",
       "      <th>miR-95-3p</th>\n",
       "      <th>miR-95-5p</th>\n",
       "      <th>miR-9-5p</th>\n",
       "      <th>miR-96-3p</th>\n",
       "      <th>miR-96-5p</th>\n",
       "      <th>miR-98-3p</th>\n",
       "      <th>miR-99a-5p</th>\n",
       "      <th>miR-99b-3p</th>\n",
       "      <th>miR-99b-5p</th>\n",
       "    </tr>\n",
       "  </thead>\n",
       "  <tbody>\n",
       "    <tr>\n",
       "      <th>0</th>\n",
       "      <td>LB00010</td>\n",
       "      <td>15635-38</td>\n",
       "      <td>ATRT</td>\n",
       "      <td>plasma</td>\n",
       "      <td>Initial CNS Tumor</td>\n",
       "      <td>Not Applicable</td>\n",
       "      <td>4</td>\n",
       "      <td>plasma</td>\n",
       "      <td>8</td>\n",
       "      <td>10</td>\n",
       "      <td>...</td>\n",
       "      <td>0</td>\n",
       "      <td>94</td>\n",
       "      <td>7</td>\n",
       "      <td>33</td>\n",
       "      <td>0</td>\n",
       "      <td>227</td>\n",
       "      <td>42</td>\n",
       "      <td>5254</td>\n",
       "      <td>84</td>\n",
       "      <td>922</td>\n",
       "    </tr>\n",
       "    <tr>\n",
       "      <th>1</th>\n",
       "      <td>LB00010</td>\n",
       "      <td>15635-182</td>\n",
       "      <td>ATRT</td>\n",
       "      <td>plasma</td>\n",
       "      <td>Progressive</td>\n",
       "      <td>Not Applicable</td>\n",
       "      <td>4</td>\n",
       "      <td>plasma</td>\n",
       "      <td>28</td>\n",
       "      <td>52</td>\n",
       "      <td>...</td>\n",
       "      <td>57</td>\n",
       "      <td>138</td>\n",
       "      <td>116</td>\n",
       "      <td>58</td>\n",
       "      <td>40</td>\n",
       "      <td>95</td>\n",
       "      <td>102</td>\n",
       "      <td>2704</td>\n",
       "      <td>132</td>\n",
       "      <td>1315</td>\n",
       "    </tr>\n",
       "    <tr>\n",
       "      <th>2</th>\n",
       "      <td>LB00072</td>\n",
       "      <td>15635-129</td>\n",
       "      <td>ATRT</td>\n",
       "      <td>plasma</td>\n",
       "      <td>Recurrence</td>\n",
       "      <td>Not Applicable</td>\n",
       "      <td>4</td>\n",
       "      <td>plasma</td>\n",
       "      <td>6</td>\n",
       "      <td>5</td>\n",
       "      <td>...</td>\n",
       "      <td>3</td>\n",
       "      <td>24</td>\n",
       "      <td>9</td>\n",
       "      <td>14</td>\n",
       "      <td>6</td>\n",
       "      <td>331</td>\n",
       "      <td>11</td>\n",
       "      <td>1942</td>\n",
       "      <td>33</td>\n",
       "      <td>311</td>\n",
       "    </tr>\n",
       "    <tr>\n",
       "      <th>3</th>\n",
       "      <td>LB00076</td>\n",
       "      <td>15635-135</td>\n",
       "      <td>ATRT</td>\n",
       "      <td>plasma, CSF</td>\n",
       "      <td>Initial CNS Tumor</td>\n",
       "      <td>Not Applicable</td>\n",
       "      <td>4</td>\n",
       "      <td>plasma</td>\n",
       "      <td>0</td>\n",
       "      <td>3</td>\n",
       "      <td>...</td>\n",
       "      <td>0</td>\n",
       "      <td>106</td>\n",
       "      <td>79</td>\n",
       "      <td>15</td>\n",
       "      <td>9</td>\n",
       "      <td>692</td>\n",
       "      <td>39</td>\n",
       "      <td>2130</td>\n",
       "      <td>60</td>\n",
       "      <td>850</td>\n",
       "    </tr>\n",
       "    <tr>\n",
       "      <th>4</th>\n",
       "      <td>LB00004</td>\n",
       "      <td>15635-31</td>\n",
       "      <td>EP</td>\n",
       "      <td>plasma</td>\n",
       "      <td>Recurrence</td>\n",
       "      <td>Not Available</td>\n",
       "      <td>3</td>\n",
       "      <td>plasma</td>\n",
       "      <td>41</td>\n",
       "      <td>95</td>\n",
       "      <td>...</td>\n",
       "      <td>110</td>\n",
       "      <td>176</td>\n",
       "      <td>96</td>\n",
       "      <td>27</td>\n",
       "      <td>118</td>\n",
       "      <td>491</td>\n",
       "      <td>36</td>\n",
       "      <td>3686</td>\n",
       "      <td>167</td>\n",
       "      <td>879</td>\n",
       "    </tr>\n",
       "    <tr>\n",
       "      <th>5</th>\n",
       "      <td>LB00012</td>\n",
       "      <td>15635-42</td>\n",
       "      <td>EP</td>\n",
       "      <td>plasma</td>\n",
       "      <td>Initial CNS Tumor</td>\n",
       "      <td>ST-EPN-RELA</td>\n",
       "      <td>3</td>\n",
       "      <td>plasma</td>\n",
       "      <td>23</td>\n",
       "      <td>8</td>\n",
       "      <td>...</td>\n",
       "      <td>10</td>\n",
       "      <td>127</td>\n",
       "      <td>67</td>\n",
       "      <td>0</td>\n",
       "      <td>0</td>\n",
       "      <td>114</td>\n",
       "      <td>68</td>\n",
       "      <td>3873</td>\n",
       "      <td>55</td>\n",
       "      <td>1579</td>\n",
       "    </tr>\n",
       "    <tr>\n",
       "      <th>6</th>\n",
       "      <td>LB00024</td>\n",
       "      <td>15635-58</td>\n",
       "      <td>EP</td>\n",
       "      <td>plasma, CSF</td>\n",
       "      <td>Initial CNS Tumor</td>\n",
       "      <td>PF-EPN-A</td>\n",
       "      <td>3</td>\n",
       "      <td>plasma</td>\n",
       "      <td>36</td>\n",
       "      <td>33</td>\n",
       "      <td>...</td>\n",
       "      <td>24</td>\n",
       "      <td>168</td>\n",
       "      <td>151</td>\n",
       "      <td>67</td>\n",
       "      <td>49</td>\n",
       "      <td>55</td>\n",
       "      <td>66</td>\n",
       "      <td>5039</td>\n",
       "      <td>199</td>\n",
       "      <td>1151</td>\n",
       "    </tr>\n",
       "    <tr>\n",
       "      <th>7</th>\n",
       "      <td>LB00024</td>\n",
       "      <td>15635-215</td>\n",
       "      <td>EP</td>\n",
       "      <td>plasma</td>\n",
       "      <td>Recurrence</td>\n",
       "      <td>PF-EPN-A</td>\n",
       "      <td>3</td>\n",
       "      <td>plasma</td>\n",
       "      <td>22</td>\n",
       "      <td>50</td>\n",
       "      <td>...</td>\n",
       "      <td>20</td>\n",
       "      <td>75</td>\n",
       "      <td>24</td>\n",
       "      <td>18</td>\n",
       "      <td>19</td>\n",
       "      <td>123</td>\n",
       "      <td>23</td>\n",
       "      <td>4375</td>\n",
       "      <td>91</td>\n",
       "      <td>962</td>\n",
       "    </tr>\n",
       "    <tr>\n",
       "      <th>8</th>\n",
       "      <td>LB00036</td>\n",
       "      <td>15635-75</td>\n",
       "      <td>EP</td>\n",
       "      <td>plasma, CSF</td>\n",
       "      <td>Initial CNS Tumor</td>\n",
       "      <td>PF-EPN-A</td>\n",
       "      <td>3</td>\n",
       "      <td>plasma</td>\n",
       "      <td>2</td>\n",
       "      <td>4</td>\n",
       "      <td>...</td>\n",
       "      <td>1</td>\n",
       "      <td>52</td>\n",
       "      <td>40</td>\n",
       "      <td>13</td>\n",
       "      <td>6</td>\n",
       "      <td>176</td>\n",
       "      <td>27</td>\n",
       "      <td>2036</td>\n",
       "      <td>80</td>\n",
       "      <td>568</td>\n",
       "    </tr>\n",
       "    <tr>\n",
       "      <th>9</th>\n",
       "      <td>LB00039</td>\n",
       "      <td>15635-81</td>\n",
       "      <td>EP</td>\n",
       "      <td>plasma, CSF</td>\n",
       "      <td>Recurrence</td>\n",
       "      <td>ST-EPN-RELA</td>\n",
       "      <td>3</td>\n",
       "      <td>plasma</td>\n",
       "      <td>78</td>\n",
       "      <td>106</td>\n",
       "      <td>...</td>\n",
       "      <td>78</td>\n",
       "      <td>223</td>\n",
       "      <td>166</td>\n",
       "      <td>101</td>\n",
       "      <td>151</td>\n",
       "      <td>272</td>\n",
       "      <td>86</td>\n",
       "      <td>2808</td>\n",
       "      <td>177</td>\n",
       "      <td>708</td>\n",
       "    </tr>\n",
       "    <tr>\n",
       "      <th>10</th>\n",
       "      <td>LB00066</td>\n",
       "      <td>15635-120</td>\n",
       "      <td>EP</td>\n",
       "      <td>plasma, CSF</td>\n",
       "      <td>Recurrence</td>\n",
       "      <td>Not Available</td>\n",
       "      <td>3</td>\n",
       "      <td>plasma</td>\n",
       "      <td>5</td>\n",
       "      <td>14</td>\n",
       "      <td>...</td>\n",
       "      <td>5</td>\n",
       "      <td>46</td>\n",
       "      <td>42</td>\n",
       "      <td>23</td>\n",
       "      <td>9</td>\n",
       "      <td>12</td>\n",
       "      <td>61</td>\n",
       "      <td>824</td>\n",
       "      <td>46</td>\n",
       "      <td>430</td>\n",
       "    </tr>\n",
       "    <tr>\n",
       "      <th>11</th>\n",
       "      <td>LB00081</td>\n",
       "      <td>15635-1</td>\n",
       "      <td>EP</td>\n",
       "      <td>CSF</td>\n",
       "      <td>Progressive</td>\n",
       "      <td>PF-EPN-B</td>\n",
       "      <td>3</td>\n",
       "      <td>plasma</td>\n",
       "      <td>2628</td>\n",
       "      <td>1849</td>\n",
       "      <td>...</td>\n",
       "      <td>2930</td>\n",
       "      <td>2784</td>\n",
       "      <td>2490</td>\n",
       "      <td>2186</td>\n",
       "      <td>2508</td>\n",
       "      <td>2735</td>\n",
       "      <td>1211</td>\n",
       "      <td>2792</td>\n",
       "      <td>1886</td>\n",
       "      <td>2459</td>\n",
       "    </tr>\n",
       "    <tr>\n",
       "      <th>12</th>\n",
       "      <td>LB00090</td>\n",
       "      <td>15635-7</td>\n",
       "      <td>EP</td>\n",
       "      <td>plasma, CSF</td>\n",
       "      <td>Initial CNS Tumor</td>\n",
       "      <td>PF-EPN-A</td>\n",
       "      <td>3</td>\n",
       "      <td>plasma</td>\n",
       "      <td>309</td>\n",
       "      <td>302</td>\n",
       "      <td>...</td>\n",
       "      <td>500</td>\n",
       "      <td>484</td>\n",
       "      <td>463</td>\n",
       "      <td>308</td>\n",
       "      <td>300</td>\n",
       "      <td>463</td>\n",
       "      <td>173</td>\n",
       "      <td>2585</td>\n",
       "      <td>207</td>\n",
       "      <td>611</td>\n",
       "    </tr>\n",
       "    <tr>\n",
       "      <th>13</th>\n",
       "      <td>LB00112</td>\n",
       "      <td>15635-145</td>\n",
       "      <td>EP</td>\n",
       "      <td>plasma, CSF</td>\n",
       "      <td>Initial CNS Tumor</td>\n",
       "      <td>PF-EPN-A</td>\n",
       "      <td>3</td>\n",
       "      <td>plasma</td>\n",
       "      <td>110</td>\n",
       "      <td>76</td>\n",
       "      <td>...</td>\n",
       "      <td>130</td>\n",
       "      <td>187</td>\n",
       "      <td>162</td>\n",
       "      <td>110</td>\n",
       "      <td>82</td>\n",
       "      <td>260</td>\n",
       "      <td>74</td>\n",
       "      <td>2167</td>\n",
       "      <td>82</td>\n",
       "      <td>472</td>\n",
       "    </tr>\n",
       "    <tr>\n",
       "      <th>14</th>\n",
       "      <td>LB00115</td>\n",
       "      <td>15635-148</td>\n",
       "      <td>EP</td>\n",
       "      <td>plasma</td>\n",
       "      <td>Progressive</td>\n",
       "      <td>PF-EPN-A</td>\n",
       "      <td>3</td>\n",
       "      <td>plasma</td>\n",
       "      <td>48</td>\n",
       "      <td>8</td>\n",
       "      <td>...</td>\n",
       "      <td>23</td>\n",
       "      <td>17</td>\n",
       "      <td>27</td>\n",
       "      <td>23</td>\n",
       "      <td>33</td>\n",
       "      <td>849</td>\n",
       "      <td>21</td>\n",
       "      <td>545</td>\n",
       "      <td>26</td>\n",
       "      <td>148</td>\n",
       "    </tr>\n",
       "    <tr>\n",
       "      <th>15</th>\n",
       "      <td>LB00126</td>\n",
       "      <td>15635-158</td>\n",
       "      <td>EP</td>\n",
       "      <td>plasma</td>\n",
       "      <td>Recurrence</td>\n",
       "      <td>PF-EPN-A</td>\n",
       "      <td>3</td>\n",
       "      <td>plasma</td>\n",
       "      <td>7</td>\n",
       "      <td>19</td>\n",
       "      <td>...</td>\n",
       "      <td>13</td>\n",
       "      <td>31</td>\n",
       "      <td>26</td>\n",
       "      <td>1</td>\n",
       "      <td>22</td>\n",
       "      <td>436</td>\n",
       "      <td>6</td>\n",
       "      <td>427</td>\n",
       "      <td>15</td>\n",
       "      <td>109</td>\n",
       "    </tr>\n",
       "    <tr>\n",
       "      <th>16</th>\n",
       "      <td>LB00145</td>\n",
       "      <td>15635-187</td>\n",
       "      <td>EP</td>\n",
       "      <td>plasma</td>\n",
       "      <td>Initial CNS Tumor</td>\n",
       "      <td>ST-EPN-YAP1</td>\n",
       "      <td>3</td>\n",
       "      <td>plasma</td>\n",
       "      <td>94</td>\n",
       "      <td>105</td>\n",
       "      <td>...</td>\n",
       "      <td>181</td>\n",
       "      <td>251</td>\n",
       "      <td>143</td>\n",
       "      <td>108</td>\n",
       "      <td>111</td>\n",
       "      <td>247</td>\n",
       "      <td>89</td>\n",
       "      <td>2977</td>\n",
       "      <td>83</td>\n",
       "      <td>830</td>\n",
       "    </tr>\n",
       "    <tr>\n",
       "      <th>17</th>\n",
       "      <td>LB00058</td>\n",
       "      <td>15635-108</td>\n",
       "      <td>GCT</td>\n",
       "      <td>plasma</td>\n",
       "      <td>Initial CNS Tumor</td>\n",
       "      <td>Germinoma</td>\n",
       "      <td>2</td>\n",
       "      <td>plasma</td>\n",
       "      <td>133</td>\n",
       "      <td>139</td>\n",
       "      <td>...</td>\n",
       "      <td>67</td>\n",
       "      <td>104</td>\n",
       "      <td>32</td>\n",
       "      <td>98</td>\n",
       "      <td>90</td>\n",
       "      <td>181</td>\n",
       "      <td>154</td>\n",
       "      <td>5172</td>\n",
       "      <td>52</td>\n",
       "      <td>1241</td>\n",
       "    </tr>\n",
       "    <tr>\n",
       "      <th>18</th>\n",
       "      <td>LB00133</td>\n",
       "      <td>15635-169</td>\n",
       "      <td>GCT</td>\n",
       "      <td>plasma, CSF</td>\n",
       "      <td>Initial CNS Tumor</td>\n",
       "      <td>Mixed germ cell tumor</td>\n",
       "      <td>not available</td>\n",
       "      <td>plasma</td>\n",
       "      <td>59</td>\n",
       "      <td>52</td>\n",
       "      <td>...</td>\n",
       "      <td>40</td>\n",
       "      <td>84</td>\n",
       "      <td>64</td>\n",
       "      <td>41</td>\n",
       "      <td>35</td>\n",
       "      <td>78</td>\n",
       "      <td>43</td>\n",
       "      <td>1117</td>\n",
       "      <td>144</td>\n",
       "      <td>949</td>\n",
       "    </tr>\n",
       "    <tr>\n",
       "      <th>19</th>\n",
       "      <td>LB00134</td>\n",
       "      <td>15635-170</td>\n",
       "      <td>GCT</td>\n",
       "      <td>plasma, CSF</td>\n",
       "      <td>Initial CNS Tumor</td>\n",
       "      <td>Germinoma</td>\n",
       "      <td>2</td>\n",
       "      <td>plasma</td>\n",
       "      <td>2</td>\n",
       "      <td>5</td>\n",
       "      <td>...</td>\n",
       "      <td>0</td>\n",
       "      <td>42</td>\n",
       "      <td>13</td>\n",
       "      <td>3</td>\n",
       "      <td>0</td>\n",
       "      <td>18</td>\n",
       "      <td>14</td>\n",
       "      <td>1890</td>\n",
       "      <td>36</td>\n",
       "      <td>274</td>\n",
       "    </tr>\n",
       "    <tr>\n",
       "      <th>20</th>\n",
       "      <td>LB00150</td>\n",
       "      <td>15635-197</td>\n",
       "      <td>GCT</td>\n",
       "      <td>plasma, CSF</td>\n",
       "      <td>Initial CNS Tumor</td>\n",
       "      <td>Germinoma</td>\n",
       "      <td>2</td>\n",
       "      <td>plasma</td>\n",
       "      <td>0</td>\n",
       "      <td>34</td>\n",
       "      <td>...</td>\n",
       "      <td>7</td>\n",
       "      <td>54</td>\n",
       "      <td>0</td>\n",
       "      <td>21</td>\n",
       "      <td>15</td>\n",
       "      <td>424</td>\n",
       "      <td>42</td>\n",
       "      <td>1777</td>\n",
       "      <td>160</td>\n",
       "      <td>2104</td>\n",
       "    </tr>\n",
       "    <tr>\n",
       "      <th>21</th>\n",
       "      <td>LB00013</td>\n",
       "      <td>15635-43</td>\n",
       "      <td>HGG</td>\n",
       "      <td>plasma, CSF</td>\n",
       "      <td>Initial CNS Tumor</td>\n",
       "      <td>DMG</td>\n",
       "      <td>4</td>\n",
       "      <td>plasma</td>\n",
       "      <td>35</td>\n",
       "      <td>60</td>\n",
       "      <td>...</td>\n",
       "      <td>44</td>\n",
       "      <td>83</td>\n",
       "      <td>76</td>\n",
       "      <td>37</td>\n",
       "      <td>37</td>\n",
       "      <td>95</td>\n",
       "      <td>96</td>\n",
       "      <td>1876</td>\n",
       "      <td>78</td>\n",
       "      <td>662</td>\n",
       "    </tr>\n",
       "    <tr>\n",
       "      <th>22</th>\n",
       "      <td>LB00013</td>\n",
       "      <td>15635-45</td>\n",
       "      <td>HGG</td>\n",
       "      <td>plasma, CSF</td>\n",
       "      <td>Progressive</td>\n",
       "      <td>DMG</td>\n",
       "      <td>4</td>\n",
       "      <td>plasma</td>\n",
       "      <td>122</td>\n",
       "      <td>139</td>\n",
       "      <td>...</td>\n",
       "      <td>79</td>\n",
       "      <td>179</td>\n",
       "      <td>212</td>\n",
       "      <td>179</td>\n",
       "      <td>113</td>\n",
       "      <td>430</td>\n",
       "      <td>111</td>\n",
       "      <td>1141</td>\n",
       "      <td>102</td>\n",
       "      <td>1034</td>\n",
       "    </tr>\n",
       "    <tr>\n",
       "      <th>23</th>\n",
       "      <td>LB00022</td>\n",
       "      <td>15635-53</td>\n",
       "      <td>HGG</td>\n",
       "      <td>plasma</td>\n",
       "      <td>Initial CNS Tumor</td>\n",
       "      <td>DMG</td>\n",
       "      <td>4</td>\n",
       "      <td>plasma</td>\n",
       "      <td>6</td>\n",
       "      <td>20</td>\n",
       "      <td>...</td>\n",
       "      <td>13</td>\n",
       "      <td>51</td>\n",
       "      <td>27</td>\n",
       "      <td>7</td>\n",
       "      <td>20</td>\n",
       "      <td>316</td>\n",
       "      <td>26</td>\n",
       "      <td>2028</td>\n",
       "      <td>110</td>\n",
       "      <td>540</td>\n",
       "    </tr>\n",
       "    <tr>\n",
       "      <th>24</th>\n",
       "      <td>LB00043</td>\n",
       "      <td>15635-87</td>\n",
       "      <td>HGG</td>\n",
       "      <td>plasma, CSF</td>\n",
       "      <td>Initial CNS Tumor</td>\n",
       "      <td>DMG</td>\n",
       "      <td>4</td>\n",
       "      <td>plasma</td>\n",
       "      <td>76</td>\n",
       "      <td>77</td>\n",
       "      <td>...</td>\n",
       "      <td>117</td>\n",
       "      <td>201</td>\n",
       "      <td>202</td>\n",
       "      <td>47</td>\n",
       "      <td>65</td>\n",
       "      <td>297</td>\n",
       "      <td>55</td>\n",
       "      <td>3270</td>\n",
       "      <td>248</td>\n",
       "      <td>896</td>\n",
       "    </tr>\n",
       "    <tr>\n",
       "      <th>25</th>\n",
       "      <td>LB00121</td>\n",
       "      <td>15635-154</td>\n",
       "      <td>HGG</td>\n",
       "      <td>plasma</td>\n",
       "      <td>Initial CNS Tumor</td>\n",
       "      <td>DMG</td>\n",
       "      <td>4</td>\n",
       "      <td>plasma</td>\n",
       "      <td>9</td>\n",
       "      <td>30</td>\n",
       "      <td>...</td>\n",
       "      <td>8</td>\n",
       "      <td>92</td>\n",
       "      <td>65</td>\n",
       "      <td>15</td>\n",
       "      <td>52</td>\n",
       "      <td>259</td>\n",
       "      <td>29</td>\n",
       "      <td>985</td>\n",
       "      <td>69</td>\n",
       "      <td>467</td>\n",
       "    </tr>\n",
       "    <tr>\n",
       "      <th>26</th>\n",
       "      <td>LB00124</td>\n",
       "      <td>15635-156</td>\n",
       "      <td>HGG</td>\n",
       "      <td>plasma, CSF</td>\n",
       "      <td>Progressive</td>\n",
       "      <td>DMG</td>\n",
       "      <td>3</td>\n",
       "      <td>plasma</td>\n",
       "      <td>45</td>\n",
       "      <td>14</td>\n",
       "      <td>...</td>\n",
       "      <td>46</td>\n",
       "      <td>220</td>\n",
       "      <td>67</td>\n",
       "      <td>0</td>\n",
       "      <td>0</td>\n",
       "      <td>307</td>\n",
       "      <td>40</td>\n",
       "      <td>8387</td>\n",
       "      <td>128</td>\n",
       "      <td>1737</td>\n",
       "    </tr>\n",
       "    <tr>\n",
       "      <th>27</th>\n",
       "      <td>LB00127</td>\n",
       "      <td>15635-161</td>\n",
       "      <td>HGG</td>\n",
       "      <td>plasma</td>\n",
       "      <td>Initial CNS Tumor</td>\n",
       "      <td>Glioblastoma</td>\n",
       "      <td>4</td>\n",
       "      <td>plasma</td>\n",
       "      <td>17</td>\n",
       "      <td>37</td>\n",
       "      <td>...</td>\n",
       "      <td>51</td>\n",
       "      <td>138</td>\n",
       "      <td>68</td>\n",
       "      <td>13</td>\n",
       "      <td>0</td>\n",
       "      <td>94</td>\n",
       "      <td>147</td>\n",
       "      <td>5942</td>\n",
       "      <td>43</td>\n",
       "      <td>781</td>\n",
       "    </tr>\n",
       "    <tr>\n",
       "      <th>28</th>\n",
       "      <td>LB00160</td>\n",
       "      <td>15635-214</td>\n",
       "      <td>HGG</td>\n",
       "      <td>plasma, CSF</td>\n",
       "      <td>Initial CNS Tumor</td>\n",
       "      <td>anaplastic astrocytoma</td>\n",
       "      <td>3</td>\n",
       "      <td>plasma</td>\n",
       "      <td>0</td>\n",
       "      <td>27</td>\n",
       "      <td>...</td>\n",
       "      <td>40</td>\n",
       "      <td>55</td>\n",
       "      <td>29</td>\n",
       "      <td>24</td>\n",
       "      <td>14</td>\n",
       "      <td>129</td>\n",
       "      <td>19</td>\n",
       "      <td>653</td>\n",
       "      <td>66</td>\n",
       "      <td>457</td>\n",
       "    </tr>\n",
       "    <tr>\n",
       "      <th>29</th>\n",
       "      <td>LB00175</td>\n",
       "      <td>15635-234</td>\n",
       "      <td>HGG</td>\n",
       "      <td>plasma</td>\n",
       "      <td>Initial CNS Tumor</td>\n",
       "      <td>anaplastic astrocytoma</td>\n",
       "      <td>3</td>\n",
       "      <td>plasma</td>\n",
       "      <td>29</td>\n",
       "      <td>6</td>\n",
       "      <td>...</td>\n",
       "      <td>8</td>\n",
       "      <td>61</td>\n",
       "      <td>32</td>\n",
       "      <td>31</td>\n",
       "      <td>18</td>\n",
       "      <td>139</td>\n",
       "      <td>12</td>\n",
       "      <td>2062</td>\n",
       "      <td>77</td>\n",
       "      <td>497</td>\n",
       "    </tr>\n",
       "    <tr>\n",
       "      <th>30</th>\n",
       "      <td>LB00180</td>\n",
       "      <td>15635-239</td>\n",
       "      <td>HGG</td>\n",
       "      <td>plasma, CSF</td>\n",
       "      <td>Initial CNS Tumor</td>\n",
       "      <td>DMG</td>\n",
       "      <td>4</td>\n",
       "      <td>plasma</td>\n",
       "      <td>24</td>\n",
       "      <td>24</td>\n",
       "      <td>...</td>\n",
       "      <td>44</td>\n",
       "      <td>110</td>\n",
       "      <td>94</td>\n",
       "      <td>49</td>\n",
       "      <td>27</td>\n",
       "      <td>340</td>\n",
       "      <td>53</td>\n",
       "      <td>2902</td>\n",
       "      <td>189</td>\n",
       "      <td>823</td>\n",
       "    </tr>\n",
       "    <tr>\n",
       "      <th>31</th>\n",
       "      <td>LB00009</td>\n",
       "      <td>15635-37</td>\n",
       "      <td>LGG</td>\n",
       "      <td>plasma, CSF</td>\n",
       "      <td>Initial CNS Tumor</td>\n",
       "      <td>pilocytic astrocytoma</td>\n",
       "      <td>1</td>\n",
       "      <td>plasma</td>\n",
       "      <td>16</td>\n",
       "      <td>16</td>\n",
       "      <td>...</td>\n",
       "      <td>23</td>\n",
       "      <td>44</td>\n",
       "      <td>31</td>\n",
       "      <td>19</td>\n",
       "      <td>21</td>\n",
       "      <td>125</td>\n",
       "      <td>38</td>\n",
       "      <td>891</td>\n",
       "      <td>75</td>\n",
       "      <td>290</td>\n",
       "    </tr>\n",
       "    <tr>\n",
       "      <th>32</th>\n",
       "      <td>LB00014</td>\n",
       "      <td>15635-46</td>\n",
       "      <td>LGG</td>\n",
       "      <td>plasma, CSF</td>\n",
       "      <td>Progressive</td>\n",
       "      <td>pilocytic astrocytoma</td>\n",
       "      <td>1</td>\n",
       "      <td>plasma</td>\n",
       "      <td>41</td>\n",
       "      <td>60</td>\n",
       "      <td>...</td>\n",
       "      <td>11</td>\n",
       "      <td>99</td>\n",
       "      <td>172</td>\n",
       "      <td>67</td>\n",
       "      <td>35</td>\n",
       "      <td>62</td>\n",
       "      <td>118</td>\n",
       "      <td>1972</td>\n",
       "      <td>143</td>\n",
       "      <td>596</td>\n",
       "    </tr>\n",
       "    <tr>\n",
       "      <th>33</th>\n",
       "      <td>LB00025</td>\n",
       "      <td>15635-60</td>\n",
       "      <td>LGG</td>\n",
       "      <td>plasma, CSF</td>\n",
       "      <td>Initial CNS Tumor</td>\n",
       "      <td>pilocytic astrocytoma</td>\n",
       "      <td>1</td>\n",
       "      <td>plasma</td>\n",
       "      <td>12</td>\n",
       "      <td>68</td>\n",
       "      <td>...</td>\n",
       "      <td>53</td>\n",
       "      <td>98</td>\n",
       "      <td>127</td>\n",
       "      <td>28</td>\n",
       "      <td>104</td>\n",
       "      <td>20</td>\n",
       "      <td>123</td>\n",
       "      <td>1020</td>\n",
       "      <td>174</td>\n",
       "      <td>370</td>\n",
       "    </tr>\n",
       "    <tr>\n",
       "      <th>34</th>\n",
       "      <td>LB00032</td>\n",
       "      <td>15635-68</td>\n",
       "      <td>LGG</td>\n",
       "      <td>plasma, CSF</td>\n",
       "      <td>Progressive</td>\n",
       "      <td>pilocytic astrocytoma</td>\n",
       "      <td>1</td>\n",
       "      <td>plasma</td>\n",
       "      <td>99</td>\n",
       "      <td>86</td>\n",
       "      <td>...</td>\n",
       "      <td>61</td>\n",
       "      <td>190</td>\n",
       "      <td>162</td>\n",
       "      <td>98</td>\n",
       "      <td>75</td>\n",
       "      <td>256</td>\n",
       "      <td>67</td>\n",
       "      <td>1842</td>\n",
       "      <td>168</td>\n",
       "      <td>1263</td>\n",
       "    </tr>\n",
       "    <tr>\n",
       "      <th>35</th>\n",
       "      <td>LB00038</td>\n",
       "      <td>15635-80</td>\n",
       "      <td>LGG</td>\n",
       "      <td>plasma, CSF</td>\n",
       "      <td>Initial CNS Tumor</td>\n",
       "      <td>pilocytic astrocytoma</td>\n",
       "      <td>1</td>\n",
       "      <td>plasma</td>\n",
       "      <td>56</td>\n",
       "      <td>87</td>\n",
       "      <td>...</td>\n",
       "      <td>68</td>\n",
       "      <td>82</td>\n",
       "      <td>142</td>\n",
       "      <td>65</td>\n",
       "      <td>55</td>\n",
       "      <td>263</td>\n",
       "      <td>37</td>\n",
       "      <td>377</td>\n",
       "      <td>217</td>\n",
       "      <td>960</td>\n",
       "    </tr>\n",
       "    <tr>\n",
       "      <th>36</th>\n",
       "      <td>LB00044</td>\n",
       "      <td>15635-90</td>\n",
       "      <td>LGG</td>\n",
       "      <td>plasma</td>\n",
       "      <td>Progressive</td>\n",
       "      <td>pilocytic astrocytoma</td>\n",
       "      <td>1</td>\n",
       "      <td>plasma</td>\n",
       "      <td>69</td>\n",
       "      <td>52</td>\n",
       "      <td>...</td>\n",
       "      <td>40</td>\n",
       "      <td>84</td>\n",
       "      <td>56</td>\n",
       "      <td>81</td>\n",
       "      <td>73</td>\n",
       "      <td>168</td>\n",
       "      <td>46</td>\n",
       "      <td>3492</td>\n",
       "      <td>155</td>\n",
       "      <td>282</td>\n",
       "    </tr>\n",
       "    <tr>\n",
       "      <th>37</th>\n",
       "      <td>LB00051</td>\n",
       "      <td>15635-100</td>\n",
       "      <td>LGG</td>\n",
       "      <td>plasma, CSF</td>\n",
       "      <td>Initial CNS Tumor</td>\n",
       "      <td>pilocytic astrocytoma</td>\n",
       "      <td>1</td>\n",
       "      <td>plasma</td>\n",
       "      <td>0</td>\n",
       "      <td>17</td>\n",
       "      <td>...</td>\n",
       "      <td>0</td>\n",
       "      <td>57</td>\n",
       "      <td>62</td>\n",
       "      <td>24</td>\n",
       "      <td>22</td>\n",
       "      <td>120</td>\n",
       "      <td>72</td>\n",
       "      <td>3586</td>\n",
       "      <td>73</td>\n",
       "      <td>919</td>\n",
       "    </tr>\n",
       "    <tr>\n",
       "      <th>38</th>\n",
       "      <td>LB00053</td>\n",
       "      <td>15635-101</td>\n",
       "      <td>LGG</td>\n",
       "      <td>plasma, CSF</td>\n",
       "      <td>Progressive</td>\n",
       "      <td>pilocytic astrocytoma</td>\n",
       "      <td>1</td>\n",
       "      <td>plasma</td>\n",
       "      <td>39</td>\n",
       "      <td>30</td>\n",
       "      <td>...</td>\n",
       "      <td>39</td>\n",
       "      <td>62</td>\n",
       "      <td>92</td>\n",
       "      <td>39</td>\n",
       "      <td>27</td>\n",
       "      <td>126</td>\n",
       "      <td>33</td>\n",
       "      <td>1508</td>\n",
       "      <td>64</td>\n",
       "      <td>254</td>\n",
       "    </tr>\n",
       "    <tr>\n",
       "      <th>39</th>\n",
       "      <td>LB00070</td>\n",
       "      <td>15635-127</td>\n",
       "      <td>LGG</td>\n",
       "      <td>plasma</td>\n",
       "      <td>Progressive</td>\n",
       "      <td>pilocytic astrocytoma</td>\n",
       "      <td>1</td>\n",
       "      <td>plasma</td>\n",
       "      <td>16</td>\n",
       "      <td>6</td>\n",
       "      <td>...</td>\n",
       "      <td>7</td>\n",
       "      <td>28</td>\n",
       "      <td>50</td>\n",
       "      <td>38</td>\n",
       "      <td>10</td>\n",
       "      <td>113</td>\n",
       "      <td>27</td>\n",
       "      <td>865</td>\n",
       "      <td>44</td>\n",
       "      <td>335</td>\n",
       "    </tr>\n",
       "    <tr>\n",
       "      <th>40</th>\n",
       "      <td>LB00075</td>\n",
       "      <td>15635-134</td>\n",
       "      <td>LGG</td>\n",
       "      <td>plasma</td>\n",
       "      <td>Initial CNS Tumor</td>\n",
       "      <td>pilocytic/pilomyxoid astrocytoma</td>\n",
       "      <td>Not Available</td>\n",
       "      <td>plasma</td>\n",
       "      <td>28</td>\n",
       "      <td>50</td>\n",
       "      <td>...</td>\n",
       "      <td>60</td>\n",
       "      <td>147</td>\n",
       "      <td>104</td>\n",
       "      <td>40</td>\n",
       "      <td>31</td>\n",
       "      <td>180</td>\n",
       "      <td>75</td>\n",
       "      <td>2621</td>\n",
       "      <td>154</td>\n",
       "      <td>1349</td>\n",
       "    </tr>\n",
       "    <tr>\n",
       "      <th>41</th>\n",
       "      <td>LB00003</td>\n",
       "      <td>15635-29</td>\n",
       "      <td>MB</td>\n",
       "      <td>plasma, CSF</td>\n",
       "      <td>Recurrence</td>\n",
       "      <td>non-WNT/non-SHH</td>\n",
       "      <td>4</td>\n",
       "      <td>plasma</td>\n",
       "      <td>1</td>\n",
       "      <td>25</td>\n",
       "      <td>...</td>\n",
       "      <td>0</td>\n",
       "      <td>21</td>\n",
       "      <td>46</td>\n",
       "      <td>4</td>\n",
       "      <td>10</td>\n",
       "      <td>286</td>\n",
       "      <td>23</td>\n",
       "      <td>2661</td>\n",
       "      <td>91</td>\n",
       "      <td>560</td>\n",
       "    </tr>\n",
       "    <tr>\n",
       "      <th>42</th>\n",
       "      <td>LB00028</td>\n",
       "      <td>15635-63</td>\n",
       "      <td>MB</td>\n",
       "      <td>plasma, CSF</td>\n",
       "      <td>Initial CNS Tumor</td>\n",
       "      <td>non-WNT/non-SHH</td>\n",
       "      <td>4</td>\n",
       "      <td>plasma</td>\n",
       "      <td>0</td>\n",
       "      <td>5</td>\n",
       "      <td>...</td>\n",
       "      <td>2</td>\n",
       "      <td>26</td>\n",
       "      <td>16</td>\n",
       "      <td>8</td>\n",
       "      <td>0</td>\n",
       "      <td>388</td>\n",
       "      <td>10</td>\n",
       "      <td>463</td>\n",
       "      <td>20</td>\n",
       "      <td>90</td>\n",
       "    </tr>\n",
       "    <tr>\n",
       "      <th>43</th>\n",
       "      <td>LB00033</td>\n",
       "      <td>15635-70</td>\n",
       "      <td>MB</td>\n",
       "      <td>plasma, CSF</td>\n",
       "      <td>Initial CNS Tumor</td>\n",
       "      <td>non-WNT/non-SHH</td>\n",
       "      <td>4</td>\n",
       "      <td>plasma</td>\n",
       "      <td>0</td>\n",
       "      <td>8</td>\n",
       "      <td>...</td>\n",
       "      <td>1</td>\n",
       "      <td>100</td>\n",
       "      <td>24</td>\n",
       "      <td>19</td>\n",
       "      <td>6</td>\n",
       "      <td>334</td>\n",
       "      <td>42</td>\n",
       "      <td>1874</td>\n",
       "      <td>56</td>\n",
       "      <td>550</td>\n",
       "    </tr>\n",
       "    <tr>\n",
       "      <th>44</th>\n",
       "      <td>LB00074</td>\n",
       "      <td>15635-132</td>\n",
       "      <td>MB</td>\n",
       "      <td>plasma, CSF</td>\n",
       "      <td>Initial CNS Tumor</td>\n",
       "      <td>WNT-activated</td>\n",
       "      <td>4</td>\n",
       "      <td>plasma</td>\n",
       "      <td>8</td>\n",
       "      <td>13</td>\n",
       "      <td>...</td>\n",
       "      <td>3</td>\n",
       "      <td>71</td>\n",
       "      <td>28</td>\n",
       "      <td>16</td>\n",
       "      <td>0</td>\n",
       "      <td>367</td>\n",
       "      <td>40</td>\n",
       "      <td>1692</td>\n",
       "      <td>103</td>\n",
       "      <td>881</td>\n",
       "    </tr>\n",
       "    <tr>\n",
       "      <th>45</th>\n",
       "      <td>LB00082</td>\n",
       "      <td>15635-2</td>\n",
       "      <td>MB</td>\n",
       "      <td>plasma, CSF</td>\n",
       "      <td>Initial CNS Tumor</td>\n",
       "      <td>non-WNT/non-SHH</td>\n",
       "      <td>4</td>\n",
       "      <td>plasma</td>\n",
       "      <td>14</td>\n",
       "      <td>31</td>\n",
       "      <td>...</td>\n",
       "      <td>6</td>\n",
       "      <td>59</td>\n",
       "      <td>35</td>\n",
       "      <td>0</td>\n",
       "      <td>12</td>\n",
       "      <td>125</td>\n",
       "      <td>20</td>\n",
       "      <td>8476</td>\n",
       "      <td>182</td>\n",
       "      <td>1197</td>\n",
       "    </tr>\n",
       "    <tr>\n",
       "      <th>46</th>\n",
       "      <td>LB00093</td>\n",
       "      <td>15635-11</td>\n",
       "      <td>MB</td>\n",
       "      <td>plasma, CSF</td>\n",
       "      <td>Initial CNS Tumor</td>\n",
       "      <td>non-WNT/non-SHH</td>\n",
       "      <td>4</td>\n",
       "      <td>plasma</td>\n",
       "      <td>12</td>\n",
       "      <td>46</td>\n",
       "      <td>...</td>\n",
       "      <td>43</td>\n",
       "      <td>143</td>\n",
       "      <td>160</td>\n",
       "      <td>78</td>\n",
       "      <td>71</td>\n",
       "      <td>86</td>\n",
       "      <td>51</td>\n",
       "      <td>4260</td>\n",
       "      <td>178</td>\n",
       "      <td>1011</td>\n",
       "    </tr>\n",
       "    <tr>\n",
       "      <th>47</th>\n",
       "      <td>LB00117</td>\n",
       "      <td>15635-150</td>\n",
       "      <td>MB</td>\n",
       "      <td>plasma, CSF</td>\n",
       "      <td>Initial CNS Tumor</td>\n",
       "      <td>non-WNT/non-SHH</td>\n",
       "      <td>4</td>\n",
       "      <td>plasma</td>\n",
       "      <td>34</td>\n",
       "      <td>153</td>\n",
       "      <td>...</td>\n",
       "      <td>392</td>\n",
       "      <td>137</td>\n",
       "      <td>446</td>\n",
       "      <td>93</td>\n",
       "      <td>768</td>\n",
       "      <td>158</td>\n",
       "      <td>99</td>\n",
       "      <td>729</td>\n",
       "      <td>505</td>\n",
       "      <td>5561</td>\n",
       "    </tr>\n",
       "    <tr>\n",
       "      <th>48</th>\n",
       "      <td>LB00166</td>\n",
       "      <td>15635-228</td>\n",
       "      <td>MB</td>\n",
       "      <td>plasma</td>\n",
       "      <td>Initial CNS Tumor</td>\n",
       "      <td>SHH-activated</td>\n",
       "      <td>4</td>\n",
       "      <td>plasma</td>\n",
       "      <td>66</td>\n",
       "      <td>17</td>\n",
       "      <td>...</td>\n",
       "      <td>45</td>\n",
       "      <td>178</td>\n",
       "      <td>97</td>\n",
       "      <td>47</td>\n",
       "      <td>51</td>\n",
       "      <td>99</td>\n",
       "      <td>59</td>\n",
       "      <td>1104</td>\n",
       "      <td>110</td>\n",
       "      <td>1295</td>\n",
       "    </tr>\n",
       "    <tr>\n",
       "      <th>49</th>\n",
       "      <td>LB00167</td>\n",
       "      <td>15635-225</td>\n",
       "      <td>MB</td>\n",
       "      <td>plasma</td>\n",
       "      <td>Initial CNS Tumor</td>\n",
       "      <td>non-WNT/non-SHH</td>\n",
       "      <td>4</td>\n",
       "      <td>plasma</td>\n",
       "      <td>15</td>\n",
       "      <td>20</td>\n",
       "      <td>...</td>\n",
       "      <td>10</td>\n",
       "      <td>67</td>\n",
       "      <td>6</td>\n",
       "      <td>31</td>\n",
       "      <td>10</td>\n",
       "      <td>283</td>\n",
       "      <td>44</td>\n",
       "      <td>2867</td>\n",
       "      <td>202</td>\n",
       "      <td>1796</td>\n",
       "    </tr>\n",
       "    <tr>\n",
       "      <th>50</th>\n",
       "      <td>LB00204</td>\n",
       "      <td>15635-279</td>\n",
       "      <td>MB</td>\n",
       "      <td>plasma, CSF</td>\n",
       "      <td>Recurrence</td>\n",
       "      <td>SHH-activated</td>\n",
       "      <td>4</td>\n",
       "      <td>plasma</td>\n",
       "      <td>31</td>\n",
       "      <td>15</td>\n",
       "      <td>...</td>\n",
       "      <td>30</td>\n",
       "      <td>48</td>\n",
       "      <td>43</td>\n",
       "      <td>54</td>\n",
       "      <td>18</td>\n",
       "      <td>146</td>\n",
       "      <td>13</td>\n",
       "      <td>916</td>\n",
       "      <td>82</td>\n",
       "      <td>1117</td>\n",
       "    </tr>\n",
       "  </tbody>\n",
       "</table>\n",
       "<p>51 rows × 2110 columns</p>\n",
       "</div>"
      ],
      "text/plain": [
       "   Study Subject ID     SDG_ID Short_histology   Specimen_x  \\\n",
       "0           LB00010   15635-38            ATRT       plasma   \n",
       "1           LB00010  15635-182            ATRT       plasma   \n",
       "2           LB00072  15635-129            ATRT       plasma   \n",
       "3           LB00076  15635-135            ATRT  plasma, CSF   \n",
       "4           LB00004   15635-31              EP       plasma   \n",
       "5           LB00012   15635-42              EP       plasma   \n",
       "6           LB00024   15635-58              EP  plasma, CSF   \n",
       "7           LB00024  15635-215              EP       plasma   \n",
       "8           LB00036   15635-75              EP  plasma, CSF   \n",
       "9           LB00039   15635-81              EP  plasma, CSF   \n",
       "10          LB00066  15635-120              EP  plasma, CSF   \n",
       "11          LB00081    15635-1              EP          CSF   \n",
       "12          LB00090    15635-7              EP  plasma, CSF   \n",
       "13          LB00112  15635-145              EP  plasma, CSF   \n",
       "14          LB00115  15635-148              EP       plasma   \n",
       "15          LB00126  15635-158              EP       plasma   \n",
       "16          LB00145  15635-187              EP       plasma   \n",
       "17          LB00058  15635-108             GCT       plasma   \n",
       "18          LB00133  15635-169             GCT  plasma, CSF   \n",
       "19          LB00134  15635-170             GCT  plasma, CSF   \n",
       "20          LB00150  15635-197             GCT  plasma, CSF   \n",
       "21          LB00013   15635-43             HGG  plasma, CSF   \n",
       "22          LB00013   15635-45             HGG  plasma, CSF   \n",
       "23          LB00022   15635-53             HGG       plasma   \n",
       "24          LB00043   15635-87             HGG  plasma, CSF   \n",
       "25          LB00121  15635-154             HGG       plasma   \n",
       "26          LB00124  15635-156             HGG  plasma, CSF   \n",
       "27          LB00127  15635-161             HGG       plasma   \n",
       "28          LB00160  15635-214             HGG  plasma, CSF   \n",
       "29          LB00175  15635-234             HGG       plasma   \n",
       "30          LB00180  15635-239             HGG  plasma, CSF   \n",
       "31          LB00009   15635-37             LGG  plasma, CSF   \n",
       "32          LB00014   15635-46             LGG  plasma, CSF   \n",
       "33          LB00025   15635-60             LGG  plasma, CSF   \n",
       "34          LB00032   15635-68             LGG  plasma, CSF   \n",
       "35          LB00038   15635-80             LGG  plasma, CSF   \n",
       "36          LB00044   15635-90             LGG       plasma   \n",
       "37          LB00051  15635-100             LGG  plasma, CSF   \n",
       "38          LB00053  15635-101             LGG  plasma, CSF   \n",
       "39          LB00070  15635-127             LGG       plasma   \n",
       "40          LB00075  15635-134             LGG       plasma   \n",
       "41          LB00003   15635-29              MB  plasma, CSF   \n",
       "42          LB00028   15635-63              MB  plasma, CSF   \n",
       "43          LB00033   15635-70              MB  plasma, CSF   \n",
       "44          LB00074  15635-132              MB  plasma, CSF   \n",
       "45          LB00082    15635-2              MB  plasma, CSF   \n",
       "46          LB00093   15635-11              MB  plasma, CSF   \n",
       "47          LB00117  15635-150              MB  plasma, CSF   \n",
       "48          LB00166  15635-228              MB       plasma   \n",
       "49          LB00167  15635-225              MB       plasma   \n",
       "50          LB00204  15635-279              MB  plasma, CSF   \n",
       "\n",
       "            Case_type                     Tumor_Subtype      WHO_Grade  \\\n",
       "0   Initial CNS Tumor                    Not Applicable              4   \n",
       "1         Progressive                    Not Applicable              4   \n",
       "2          Recurrence                    Not Applicable              4   \n",
       "3   Initial CNS Tumor                    Not Applicable              4   \n",
       "4          Recurrence                     Not Available              3   \n",
       "5   Initial CNS Tumor                       ST-EPN-RELA              3   \n",
       "6   Initial CNS Tumor                          PF-EPN-A              3   \n",
       "7          Recurrence                          PF-EPN-A              3   \n",
       "8   Initial CNS Tumor                          PF-EPN-A              3   \n",
       "9          Recurrence                       ST-EPN-RELA              3   \n",
       "10         Recurrence                     Not Available              3   \n",
       "11        Progressive                          PF-EPN-B              3   \n",
       "12  Initial CNS Tumor                          PF-EPN-A              3   \n",
       "13  Initial CNS Tumor                          PF-EPN-A              3   \n",
       "14        Progressive                          PF-EPN-A              3   \n",
       "15         Recurrence                          PF-EPN-A              3   \n",
       "16  Initial CNS Tumor                       ST-EPN-YAP1              3   \n",
       "17  Initial CNS Tumor                         Germinoma              2   \n",
       "18  Initial CNS Tumor             Mixed germ cell tumor  not available   \n",
       "19  Initial CNS Tumor                         Germinoma              2   \n",
       "20  Initial CNS Tumor                         Germinoma              2   \n",
       "21  Initial CNS Tumor                               DMG              4   \n",
       "22        Progressive                               DMG              4   \n",
       "23  Initial CNS Tumor                               DMG              4   \n",
       "24  Initial CNS Tumor                               DMG              4   \n",
       "25  Initial CNS Tumor                               DMG              4   \n",
       "26        Progressive                               DMG              3   \n",
       "27  Initial CNS Tumor                      Glioblastoma              4   \n",
       "28  Initial CNS Tumor            anaplastic astrocytoma              3   \n",
       "29  Initial CNS Tumor            anaplastic astrocytoma              3   \n",
       "30  Initial CNS Tumor                               DMG              4   \n",
       "31  Initial CNS Tumor             pilocytic astrocytoma              1   \n",
       "32        Progressive             pilocytic astrocytoma              1   \n",
       "33  Initial CNS Tumor             pilocytic astrocytoma              1   \n",
       "34        Progressive             pilocytic astrocytoma              1   \n",
       "35  Initial CNS Tumor             pilocytic astrocytoma              1   \n",
       "36        Progressive             pilocytic astrocytoma              1   \n",
       "37  Initial CNS Tumor             pilocytic astrocytoma              1   \n",
       "38        Progressive             pilocytic astrocytoma              1   \n",
       "39        Progressive             pilocytic astrocytoma              1   \n",
       "40  Initial CNS Tumor  pilocytic/pilomyxoid astrocytoma  Not Available   \n",
       "41         Recurrence                   non-WNT/non-SHH              4   \n",
       "42  Initial CNS Tumor                   non-WNT/non-SHH              4   \n",
       "43  Initial CNS Tumor                   non-WNT/non-SHH              4   \n",
       "44  Initial CNS Tumor                     WNT-activated              4   \n",
       "45  Initial CNS Tumor                   non-WNT/non-SHH              4   \n",
       "46  Initial CNS Tumor                   non-WNT/non-SHH              4   \n",
       "47  Initial CNS Tumor                   non-WNT/non-SHH              4   \n",
       "48  Initial CNS Tumor                     SHH-activated              4   \n",
       "49  Initial CNS Tumor                   non-WNT/non-SHH              4   \n",
       "50         Recurrence                     SHH-activated              4   \n",
       "\n",
       "   Specimen_y  CTRL_ANT1  CTRL_ANT2  ...  miR-944  miR-95-3p  miR-95-5p  \\\n",
       "0      plasma          8         10  ...        0         94          7   \n",
       "1      plasma         28         52  ...       57        138        116   \n",
       "2      plasma          6          5  ...        3         24          9   \n",
       "3      plasma          0          3  ...        0        106         79   \n",
       "4      plasma         41         95  ...      110        176         96   \n",
       "5      plasma         23          8  ...       10        127         67   \n",
       "6      plasma         36         33  ...       24        168        151   \n",
       "7      plasma         22         50  ...       20         75         24   \n",
       "8      plasma          2          4  ...        1         52         40   \n",
       "9      plasma         78        106  ...       78        223        166   \n",
       "10     plasma          5         14  ...        5         46         42   \n",
       "11     plasma       2628       1849  ...     2930       2784       2490   \n",
       "12     plasma        309        302  ...      500        484        463   \n",
       "13     plasma        110         76  ...      130        187        162   \n",
       "14     plasma         48          8  ...       23         17         27   \n",
       "15     plasma          7         19  ...       13         31         26   \n",
       "16     plasma         94        105  ...      181        251        143   \n",
       "17     plasma        133        139  ...       67        104         32   \n",
       "18     plasma         59         52  ...       40         84         64   \n",
       "19     plasma          2          5  ...        0         42         13   \n",
       "20     plasma          0         34  ...        7         54          0   \n",
       "21     plasma         35         60  ...       44         83         76   \n",
       "22     plasma        122        139  ...       79        179        212   \n",
       "23     plasma          6         20  ...       13         51         27   \n",
       "24     plasma         76         77  ...      117        201        202   \n",
       "25     plasma          9         30  ...        8         92         65   \n",
       "26     plasma         45         14  ...       46        220         67   \n",
       "27     plasma         17         37  ...       51        138         68   \n",
       "28     plasma          0         27  ...       40         55         29   \n",
       "29     plasma         29          6  ...        8         61         32   \n",
       "30     plasma         24         24  ...       44        110         94   \n",
       "31     plasma         16         16  ...       23         44         31   \n",
       "32     plasma         41         60  ...       11         99        172   \n",
       "33     plasma         12         68  ...       53         98        127   \n",
       "34     plasma         99         86  ...       61        190        162   \n",
       "35     plasma         56         87  ...       68         82        142   \n",
       "36     plasma         69         52  ...       40         84         56   \n",
       "37     plasma          0         17  ...        0         57         62   \n",
       "38     plasma         39         30  ...       39         62         92   \n",
       "39     plasma         16          6  ...        7         28         50   \n",
       "40     plasma         28         50  ...       60        147        104   \n",
       "41     plasma          1         25  ...        0         21         46   \n",
       "42     plasma          0          5  ...        2         26         16   \n",
       "43     plasma          0          8  ...        1        100         24   \n",
       "44     plasma          8         13  ...        3         71         28   \n",
       "45     plasma         14         31  ...        6         59         35   \n",
       "46     plasma         12         46  ...       43        143        160   \n",
       "47     plasma         34        153  ...      392        137        446   \n",
       "48     plasma         66         17  ...       45        178         97   \n",
       "49     plasma         15         20  ...       10         67          6   \n",
       "50     plasma         31         15  ...       30         48         43   \n",
       "\n",
       "    miR-9-5p  miR-96-3p  miR-96-5p  miR-98-3p  miR-99a-5p  miR-99b-3p  \\\n",
       "0         33          0        227         42        5254          84   \n",
       "1         58         40         95        102        2704         132   \n",
       "2         14          6        331         11        1942          33   \n",
       "3         15          9        692         39        2130          60   \n",
       "4         27        118        491         36        3686         167   \n",
       "5          0          0        114         68        3873          55   \n",
       "6         67         49         55         66        5039         199   \n",
       "7         18         19        123         23        4375          91   \n",
       "8         13          6        176         27        2036          80   \n",
       "9        101        151        272         86        2808         177   \n",
       "10        23          9         12         61         824          46   \n",
       "11      2186       2508       2735       1211        2792        1886   \n",
       "12       308        300        463        173        2585         207   \n",
       "13       110         82        260         74        2167          82   \n",
       "14        23         33        849         21         545          26   \n",
       "15         1         22        436          6         427          15   \n",
       "16       108        111        247         89        2977          83   \n",
       "17        98         90        181        154        5172          52   \n",
       "18        41         35         78         43        1117         144   \n",
       "19         3          0         18         14        1890          36   \n",
       "20        21         15        424         42        1777         160   \n",
       "21        37         37         95         96        1876          78   \n",
       "22       179        113        430        111        1141         102   \n",
       "23         7         20        316         26        2028         110   \n",
       "24        47         65        297         55        3270         248   \n",
       "25        15         52        259         29         985          69   \n",
       "26         0          0        307         40        8387         128   \n",
       "27        13          0         94        147        5942          43   \n",
       "28        24         14        129         19         653          66   \n",
       "29        31         18        139         12        2062          77   \n",
       "30        49         27        340         53        2902         189   \n",
       "31        19         21        125         38         891          75   \n",
       "32        67         35         62        118        1972         143   \n",
       "33        28        104         20        123        1020         174   \n",
       "34        98         75        256         67        1842         168   \n",
       "35        65         55        263         37         377         217   \n",
       "36        81         73        168         46        3492         155   \n",
       "37        24         22        120         72        3586          73   \n",
       "38        39         27        126         33        1508          64   \n",
       "39        38         10        113         27         865          44   \n",
       "40        40         31        180         75        2621         154   \n",
       "41         4         10        286         23        2661          91   \n",
       "42         8          0        388         10         463          20   \n",
       "43        19          6        334         42        1874          56   \n",
       "44        16          0        367         40        1692         103   \n",
       "45         0         12        125         20        8476         182   \n",
       "46        78         71         86         51        4260         178   \n",
       "47        93        768        158         99         729         505   \n",
       "48        47         51         99         59        1104         110   \n",
       "49        31         10        283         44        2867         202   \n",
       "50        54         18        146         13         916          82   \n",
       "\n",
       "    miR-99b-5p  \n",
       "0          922  \n",
       "1         1315  \n",
       "2          311  \n",
       "3          850  \n",
       "4          879  \n",
       "5         1579  \n",
       "6         1151  \n",
       "7          962  \n",
       "8          568  \n",
       "9          708  \n",
       "10         430  \n",
       "11        2459  \n",
       "12         611  \n",
       "13         472  \n",
       "14         148  \n",
       "15         109  \n",
       "16         830  \n",
       "17        1241  \n",
       "18         949  \n",
       "19         274  \n",
       "20        2104  \n",
       "21         662  \n",
       "22        1034  \n",
       "23         540  \n",
       "24         896  \n",
       "25         467  \n",
       "26        1737  \n",
       "27         781  \n",
       "28         457  \n",
       "29         497  \n",
       "30         823  \n",
       "31         290  \n",
       "32         596  \n",
       "33         370  \n",
       "34        1263  \n",
       "35         960  \n",
       "36         282  \n",
       "37         919  \n",
       "38         254  \n",
       "39         335  \n",
       "40        1349  \n",
       "41         560  \n",
       "42          90  \n",
       "43         550  \n",
       "44         881  \n",
       "45        1197  \n",
       "46        1011  \n",
       "47        5561  \n",
       "48        1295  \n",
       "49        1796  \n",
       "50        1117  \n",
       "\n",
       "[51 rows x 2110 columns]"
      ]
     },
     "execution_count": 28,
     "metadata": {},
     "output_type": "execute_result"
    }
   ],
   "source": [
    "# Directory\n",
    "lb_data_dir = \"/Users/arifs2/OneDrive - Children's Hospital of Philadelphia/OpenPBTA miRNA Projects/OpenPBTA_miRNA_medulloblastoma/data/liquid_biopsy_data/\"\n",
    "\n",
    "# Load in Liquid Biopsy Datasets\n",
    "plasma = pd.read_csv(lb_data_dir + \"lb_plasma.csv\")\n",
    "csf = pd.read_csv(lb_data_dir + \"lb_csf.csv\")\n",
    "meta = pd.read_csv(lb_data_dir + \"lb_meta.csv\")\n",
    "\n",
    "# Add meta data\n",
    "plasma = pd.merge(meta, plasma, on=\"SDG_ID\")\n",
    "csf = pd.merge(meta, csf, on=\"SDG_ID\")\n",
    "\n",
    "plasma"
   ]
  },
  {
   "cell_type": "code",
   "execution_count": 29,
   "id": "10d22795",
   "metadata": {},
   "outputs": [],
   "source": [
    "# Subset Medulloblastoma\n",
    "plasma = plasma[plasma['Short_histology'] == 'MB']\n",
    "csf = csf[csf['Short_histology'] == 'MB']\n",
    "\n",
    "plasma_X = plasma.iloc[:,27:]\n",
    "csf_X = csf.iloc[:,27:]"
   ]
  },
  {
   "cell_type": "code",
   "execution_count": 30,
   "id": "03ddb579",
   "metadata": {},
   "outputs": [],
   "source": [
    "#csf['Tumor_Subtype']\n",
    "csf_y = ['Group3/4', 'Group3/4', 'Group3/4', 'WNT', 'Group3/4', 'Group3/4', 'Group3/4', 'Group3/4', 'SHH']\n",
    "\n",
    "#plasma['Tumor_Subtype']\n",
    "plasma_y = ['Group3/4', 'Group3/4', 'Group3/4', 'WNT', 'Group3/4', 'Group3/4', 'Group3/4', 'SHH', 'Group3/4', 'SHH']"
   ]
  },
  {
   "cell_type": "code",
   "execution_count": 31,
   "id": "4740f42d",
   "metadata": {},
   "outputs": [
    {
     "data": {
      "text/plain": [
       "array(['Group4', 'Group4', 'Group4', 'Group4', 'Group4', 'Group4',\n",
       "       'Group4', 'SHH', 'Group4'], dtype=object)"
      ]
     },
     "execution_count": 31,
     "metadata": {},
     "output_type": "execute_result"
    }
   ],
   "source": [
    "csf_predictions = xgbc.predict(scaler.fit_transform(csf_X))\n",
    "csf_predictions = encoder.inverse_transform(csf_predictions)\n",
    "csf_predictions"
   ]
  },
  {
   "cell_type": "code",
   "execution_count": 32,
   "id": "07feb526",
   "metadata": {},
   "outputs": [
    {
     "data": {
      "text/plain": [
       "array(['SHH', 'Group4', 'WNT', 'SHH', 'Group4', 'Group4', 'Group3', 'SHH',\n",
       "       'SHH', 'SHH'], dtype=object)"
      ]
     },
     "execution_count": 32,
     "metadata": {},
     "output_type": "execute_result"
    }
   ],
   "source": [
    "plasma_predictions = xgbc.predict(scaler.fit_transform(plasma_X))\n",
    "plasma_predictions = encoder.inverse_transform(plasma_predictions)\n",
    "plasma_predictions"
   ]
  },
  {
   "cell_type": "code",
   "execution_count": 33,
   "id": "89af302e",
   "metadata": {},
   "outputs": [],
   "source": [
    "# Reformat predictions to Liquid Biopsy class\n",
    "csf_predictions = ['Group3/4', 'Group3/4', 'Group3/4', 'Group3/4', 'Group3/4', 'Group3/4', 'Group3/4', 'SHH', 'Group3/4']\n",
    "plasma_predictions = ['SHH', 'Group3/4', 'WNT', 'SHH', 'Group3/4', 'Group3/4', 'Group3/4', 'SHH', 'SHH', 'SHH']"
   ]
  },
  {
   "cell_type": "code",
   "execution_count": 34,
   "id": "84eac44b",
   "metadata": {},
   "outputs": [
    {
     "name": "stdout",
     "output_type": "stream",
     "text": [
      "CSF Accuracy: 0.6666666666666666\n"
     ]
    }
   ],
   "source": [
    "# Accuracy of model\n",
    "print(f'CSF Accuracy: {accuracy_score(csf_y, csf_predictions)}')"
   ]
  },
  {
   "cell_type": "code",
   "execution_count": 35,
   "id": "32ba1564",
   "metadata": {},
   "outputs": [
    {
     "data": {
      "application/vnd.plotly.v1+json": {
       "config": {
        "plotlyServerURL": "https://plot.ly"
       },
       "data": [
        {
         "coloraxis": "coloraxis",
         "hovertemplate": "Predicted Subtype: %{x}<br>True Subtype: %{y}<br>Productivity: %{z}<extra></extra>",
         "name": "0",
         "texttemplate": "%{z}",
         "type": "heatmap",
         "x": [
          "non-WNT/non-SHH",
          "WNT-activated",
          "SHH-activated"
         ],
         "xaxis": "x",
         "y": [
          "non-WNT/non-SHH",
          "WNT-activated",
          "SHH-activated"
         ],
         "yaxis": "y",
         "z": [
          [
           6,
           1,
           0
          ],
          [
           1,
           0,
           0
          ],
          [
           1,
           0,
           0
          ]
         ]
        }
       ],
       "layout": {
        "coloraxis": {
         "colorbar": {
          "title": {
           "text": "Productivity"
          }
         },
         "colorscale": [
          [
           0,
           "#0d0887"
          ],
          [
           0.1111111111111111,
           "#46039f"
          ],
          [
           0.2222222222222222,
           "#7201a8"
          ],
          [
           0.3333333333333333,
           "#9c179e"
          ],
          [
           0.4444444444444444,
           "#bd3786"
          ],
          [
           0.5555555555555556,
           "#d8576b"
          ],
          [
           0.6666666666666666,
           "#ed7953"
          ],
          [
           0.7777777777777778,
           "#fb9f3a"
          ],
          [
           0.8888888888888888,
           "#fdca26"
          ],
          [
           1,
           "#f0f921"
          ]
         ]
        },
        "margin": {
         "t": 60
        },
        "template": {
         "data": {
          "bar": [
           {
            "error_x": {
             "color": "#2a3f5f"
            },
            "error_y": {
             "color": "#2a3f5f"
            },
            "marker": {
             "line": {
              "color": "#E5ECF6",
              "width": 0.5
             },
             "pattern": {
              "fillmode": "overlay",
              "size": 10,
              "solidity": 0.2
             }
            },
            "type": "bar"
           }
          ],
          "barpolar": [
           {
            "marker": {
             "line": {
              "color": "#E5ECF6",
              "width": 0.5
             },
             "pattern": {
              "fillmode": "overlay",
              "size": 10,
              "solidity": 0.2
             }
            },
            "type": "barpolar"
           }
          ],
          "carpet": [
           {
            "aaxis": {
             "endlinecolor": "#2a3f5f",
             "gridcolor": "white",
             "linecolor": "white",
             "minorgridcolor": "white",
             "startlinecolor": "#2a3f5f"
            },
            "baxis": {
             "endlinecolor": "#2a3f5f",
             "gridcolor": "white",
             "linecolor": "white",
             "minorgridcolor": "white",
             "startlinecolor": "#2a3f5f"
            },
            "type": "carpet"
           }
          ],
          "choropleth": [
           {
            "colorbar": {
             "outlinewidth": 0,
             "ticks": ""
            },
            "type": "choropleth"
           }
          ],
          "contour": [
           {
            "colorbar": {
             "outlinewidth": 0,
             "ticks": ""
            },
            "colorscale": [
             [
              0,
              "#0d0887"
             ],
             [
              0.1111111111111111,
              "#46039f"
             ],
             [
              0.2222222222222222,
              "#7201a8"
             ],
             [
              0.3333333333333333,
              "#9c179e"
             ],
             [
              0.4444444444444444,
              "#bd3786"
             ],
             [
              0.5555555555555556,
              "#d8576b"
             ],
             [
              0.6666666666666666,
              "#ed7953"
             ],
             [
              0.7777777777777778,
              "#fb9f3a"
             ],
             [
              0.8888888888888888,
              "#fdca26"
             ],
             [
              1,
              "#f0f921"
             ]
            ],
            "type": "contour"
           }
          ],
          "contourcarpet": [
           {
            "colorbar": {
             "outlinewidth": 0,
             "ticks": ""
            },
            "type": "contourcarpet"
           }
          ],
          "heatmap": [
           {
            "colorbar": {
             "outlinewidth": 0,
             "ticks": ""
            },
            "colorscale": [
             [
              0,
              "#0d0887"
             ],
             [
              0.1111111111111111,
              "#46039f"
             ],
             [
              0.2222222222222222,
              "#7201a8"
             ],
             [
              0.3333333333333333,
              "#9c179e"
             ],
             [
              0.4444444444444444,
              "#bd3786"
             ],
             [
              0.5555555555555556,
              "#d8576b"
             ],
             [
              0.6666666666666666,
              "#ed7953"
             ],
             [
              0.7777777777777778,
              "#fb9f3a"
             ],
             [
              0.8888888888888888,
              "#fdca26"
             ],
             [
              1,
              "#f0f921"
             ]
            ],
            "type": "heatmap"
           }
          ],
          "heatmapgl": [
           {
            "colorbar": {
             "outlinewidth": 0,
             "ticks": ""
            },
            "colorscale": [
             [
              0,
              "#0d0887"
             ],
             [
              0.1111111111111111,
              "#46039f"
             ],
             [
              0.2222222222222222,
              "#7201a8"
             ],
             [
              0.3333333333333333,
              "#9c179e"
             ],
             [
              0.4444444444444444,
              "#bd3786"
             ],
             [
              0.5555555555555556,
              "#d8576b"
             ],
             [
              0.6666666666666666,
              "#ed7953"
             ],
             [
              0.7777777777777778,
              "#fb9f3a"
             ],
             [
              0.8888888888888888,
              "#fdca26"
             ],
             [
              1,
              "#f0f921"
             ]
            ],
            "type": "heatmapgl"
           }
          ],
          "histogram": [
           {
            "marker": {
             "pattern": {
              "fillmode": "overlay",
              "size": 10,
              "solidity": 0.2
             }
            },
            "type": "histogram"
           }
          ],
          "histogram2d": [
           {
            "colorbar": {
             "outlinewidth": 0,
             "ticks": ""
            },
            "colorscale": [
             [
              0,
              "#0d0887"
             ],
             [
              0.1111111111111111,
              "#46039f"
             ],
             [
              0.2222222222222222,
              "#7201a8"
             ],
             [
              0.3333333333333333,
              "#9c179e"
             ],
             [
              0.4444444444444444,
              "#bd3786"
             ],
             [
              0.5555555555555556,
              "#d8576b"
             ],
             [
              0.6666666666666666,
              "#ed7953"
             ],
             [
              0.7777777777777778,
              "#fb9f3a"
             ],
             [
              0.8888888888888888,
              "#fdca26"
             ],
             [
              1,
              "#f0f921"
             ]
            ],
            "type": "histogram2d"
           }
          ],
          "histogram2dcontour": [
           {
            "colorbar": {
             "outlinewidth": 0,
             "ticks": ""
            },
            "colorscale": [
             [
              0,
              "#0d0887"
             ],
             [
              0.1111111111111111,
              "#46039f"
             ],
             [
              0.2222222222222222,
              "#7201a8"
             ],
             [
              0.3333333333333333,
              "#9c179e"
             ],
             [
              0.4444444444444444,
              "#bd3786"
             ],
             [
              0.5555555555555556,
              "#d8576b"
             ],
             [
              0.6666666666666666,
              "#ed7953"
             ],
             [
              0.7777777777777778,
              "#fb9f3a"
             ],
             [
              0.8888888888888888,
              "#fdca26"
             ],
             [
              1,
              "#f0f921"
             ]
            ],
            "type": "histogram2dcontour"
           }
          ],
          "mesh3d": [
           {
            "colorbar": {
             "outlinewidth": 0,
             "ticks": ""
            },
            "type": "mesh3d"
           }
          ],
          "parcoords": [
           {
            "line": {
             "colorbar": {
              "outlinewidth": 0,
              "ticks": ""
             }
            },
            "type": "parcoords"
           }
          ],
          "pie": [
           {
            "automargin": true,
            "type": "pie"
           }
          ],
          "scatter": [
           {
            "marker": {
             "colorbar": {
              "outlinewidth": 0,
              "ticks": ""
             }
            },
            "type": "scatter"
           }
          ],
          "scatter3d": [
           {
            "line": {
             "colorbar": {
              "outlinewidth": 0,
              "ticks": ""
             }
            },
            "marker": {
             "colorbar": {
              "outlinewidth": 0,
              "ticks": ""
             }
            },
            "type": "scatter3d"
           }
          ],
          "scattercarpet": [
           {
            "marker": {
             "colorbar": {
              "outlinewidth": 0,
              "ticks": ""
             }
            },
            "type": "scattercarpet"
           }
          ],
          "scattergeo": [
           {
            "marker": {
             "colorbar": {
              "outlinewidth": 0,
              "ticks": ""
             }
            },
            "type": "scattergeo"
           }
          ],
          "scattergl": [
           {
            "marker": {
             "colorbar": {
              "outlinewidth": 0,
              "ticks": ""
             }
            },
            "type": "scattergl"
           }
          ],
          "scattermapbox": [
           {
            "marker": {
             "colorbar": {
              "outlinewidth": 0,
              "ticks": ""
             }
            },
            "type": "scattermapbox"
           }
          ],
          "scatterpolar": [
           {
            "marker": {
             "colorbar": {
              "outlinewidth": 0,
              "ticks": ""
             }
            },
            "type": "scatterpolar"
           }
          ],
          "scatterpolargl": [
           {
            "marker": {
             "colorbar": {
              "outlinewidth": 0,
              "ticks": ""
             }
            },
            "type": "scatterpolargl"
           }
          ],
          "scatterternary": [
           {
            "marker": {
             "colorbar": {
              "outlinewidth": 0,
              "ticks": ""
             }
            },
            "type": "scatterternary"
           }
          ],
          "surface": [
           {
            "colorbar": {
             "outlinewidth": 0,
             "ticks": ""
            },
            "colorscale": [
             [
              0,
              "#0d0887"
             ],
             [
              0.1111111111111111,
              "#46039f"
             ],
             [
              0.2222222222222222,
              "#7201a8"
             ],
             [
              0.3333333333333333,
              "#9c179e"
             ],
             [
              0.4444444444444444,
              "#bd3786"
             ],
             [
              0.5555555555555556,
              "#d8576b"
             ],
             [
              0.6666666666666666,
              "#ed7953"
             ],
             [
              0.7777777777777778,
              "#fb9f3a"
             ],
             [
              0.8888888888888888,
              "#fdca26"
             ],
             [
              1,
              "#f0f921"
             ]
            ],
            "type": "surface"
           }
          ],
          "table": [
           {
            "cells": {
             "fill": {
              "color": "#EBF0F8"
             },
             "line": {
              "color": "white"
             }
            },
            "header": {
             "fill": {
              "color": "#C8D4E3"
             },
             "line": {
              "color": "white"
             }
            },
            "type": "table"
           }
          ]
         },
         "layout": {
          "annotationdefaults": {
           "arrowcolor": "#2a3f5f",
           "arrowhead": 0,
           "arrowwidth": 1
          },
          "autotypenumbers": "strict",
          "coloraxis": {
           "colorbar": {
            "outlinewidth": 0,
            "ticks": ""
           }
          },
          "colorscale": {
           "diverging": [
            [
             0,
             "#8e0152"
            ],
            [
             0.1,
             "#c51b7d"
            ],
            [
             0.2,
             "#de77ae"
            ],
            [
             0.3,
             "#f1b6da"
            ],
            [
             0.4,
             "#fde0ef"
            ],
            [
             0.5,
             "#f7f7f7"
            ],
            [
             0.6,
             "#e6f5d0"
            ],
            [
             0.7,
             "#b8e186"
            ],
            [
             0.8,
             "#7fbc41"
            ],
            [
             0.9,
             "#4d9221"
            ],
            [
             1,
             "#276419"
            ]
           ],
           "sequential": [
            [
             0,
             "#0d0887"
            ],
            [
             0.1111111111111111,
             "#46039f"
            ],
            [
             0.2222222222222222,
             "#7201a8"
            ],
            [
             0.3333333333333333,
             "#9c179e"
            ],
            [
             0.4444444444444444,
             "#bd3786"
            ],
            [
             0.5555555555555556,
             "#d8576b"
            ],
            [
             0.6666666666666666,
             "#ed7953"
            ],
            [
             0.7777777777777778,
             "#fb9f3a"
            ],
            [
             0.8888888888888888,
             "#fdca26"
            ],
            [
             1,
             "#f0f921"
            ]
           ],
           "sequentialminus": [
            [
             0,
             "#0d0887"
            ],
            [
             0.1111111111111111,
             "#46039f"
            ],
            [
             0.2222222222222222,
             "#7201a8"
            ],
            [
             0.3333333333333333,
             "#9c179e"
            ],
            [
             0.4444444444444444,
             "#bd3786"
            ],
            [
             0.5555555555555556,
             "#d8576b"
            ],
            [
             0.6666666666666666,
             "#ed7953"
            ],
            [
             0.7777777777777778,
             "#fb9f3a"
            ],
            [
             0.8888888888888888,
             "#fdca26"
            ],
            [
             1,
             "#f0f921"
            ]
           ]
          },
          "colorway": [
           "#636efa",
           "#EF553B",
           "#00cc96",
           "#ab63fa",
           "#FFA15A",
           "#19d3f3",
           "#FF6692",
           "#B6E880",
           "#FF97FF",
           "#FECB52"
          ],
          "font": {
           "color": "#2a3f5f"
          },
          "geo": {
           "bgcolor": "white",
           "lakecolor": "white",
           "landcolor": "#E5ECF6",
           "showlakes": true,
           "showland": true,
           "subunitcolor": "white"
          },
          "hoverlabel": {
           "align": "left"
          },
          "hovermode": "closest",
          "mapbox": {
           "style": "light"
          },
          "paper_bgcolor": "white",
          "plot_bgcolor": "#E5ECF6",
          "polar": {
           "angularaxis": {
            "gridcolor": "white",
            "linecolor": "white",
            "ticks": ""
           },
           "bgcolor": "#E5ECF6",
           "radialaxis": {
            "gridcolor": "white",
            "linecolor": "white",
            "ticks": ""
           }
          },
          "scene": {
           "xaxis": {
            "backgroundcolor": "#E5ECF6",
            "gridcolor": "white",
            "gridwidth": 2,
            "linecolor": "white",
            "showbackground": true,
            "ticks": "",
            "zerolinecolor": "white"
           },
           "yaxis": {
            "backgroundcolor": "#E5ECF6",
            "gridcolor": "white",
            "gridwidth": 2,
            "linecolor": "white",
            "showbackground": true,
            "ticks": "",
            "zerolinecolor": "white"
           },
           "zaxis": {
            "backgroundcolor": "#E5ECF6",
            "gridcolor": "white",
            "gridwidth": 2,
            "linecolor": "white",
            "showbackground": true,
            "ticks": "",
            "zerolinecolor": "white"
           }
          },
          "shapedefaults": {
           "line": {
            "color": "#2a3f5f"
           }
          },
          "ternary": {
           "aaxis": {
            "gridcolor": "white",
            "linecolor": "white",
            "ticks": ""
           },
           "baxis": {
            "gridcolor": "white",
            "linecolor": "white",
            "ticks": ""
           },
           "bgcolor": "#E5ECF6",
           "caxis": {
            "gridcolor": "white",
            "linecolor": "white",
            "ticks": ""
           }
          },
          "title": {
           "x": 0.05
          },
          "xaxis": {
           "automargin": true,
           "gridcolor": "white",
           "linecolor": "white",
           "ticks": "",
           "title": {
            "standoff": 15
           },
           "zerolinecolor": "white",
           "zerolinewidth": 2
          },
          "yaxis": {
           "automargin": true,
           "gridcolor": "white",
           "linecolor": "white",
           "ticks": "",
           "title": {
            "standoff": 15
           },
           "zerolinecolor": "white",
           "zerolinewidth": 2
          }
         }
        },
        "xaxis": {
         "anchor": "y",
         "constrain": "domain",
         "domain": [
          0,
          1
         ],
         "scaleanchor": "y",
         "title": {
          "text": "Predicted Subtype"
         }
        },
        "yaxis": {
         "anchor": "x",
         "autorange": "reversed",
         "constrain": "domain",
         "domain": [
          0,
          1
         ],
         "title": {
          "text": "True Subtype"
         }
        }
       }
      },
      "text/html": [
       "<div>                            <div id=\"2db256b4-fb94-4014-9512-df85b6142167\" class=\"plotly-graph-div\" style=\"height:525px; width:100%;\"></div>            <script type=\"text/javascript\">                require([\"plotly\"], function(Plotly) {                    window.PLOTLYENV=window.PLOTLYENV || {};                                    if (document.getElementById(\"2db256b4-fb94-4014-9512-df85b6142167\")) {                    Plotly.newPlot(                        \"2db256b4-fb94-4014-9512-df85b6142167\",                        [{\"coloraxis\":\"coloraxis\",\"name\":\"0\",\"texttemplate\":\"%{z}\",\"x\":[\"non-WNT/non-SHH\",\"WNT-activated\",\"SHH-activated\"],\"y\":[\"non-WNT/non-SHH\",\"WNT-activated\",\"SHH-activated\"],\"z\":[[6,1,0],[1,0,0],[1,0,0]],\"type\":\"heatmap\",\"xaxis\":\"x\",\"yaxis\":\"y\",\"hovertemplate\":\"Predicted Subtype: %{x}<br>True Subtype: %{y}<br>Productivity: %{z}<extra></extra>\"}],                        {\"template\":{\"data\":{\"bar\":[{\"error_x\":{\"color\":\"#2a3f5f\"},\"error_y\":{\"color\":\"#2a3f5f\"},\"marker\":{\"line\":{\"color\":\"#E5ECF6\",\"width\":0.5},\"pattern\":{\"fillmode\":\"overlay\",\"size\":10,\"solidity\":0.2}},\"type\":\"bar\"}],\"barpolar\":[{\"marker\":{\"line\":{\"color\":\"#E5ECF6\",\"width\":0.5},\"pattern\":{\"fillmode\":\"overlay\",\"size\":10,\"solidity\":0.2}},\"type\":\"barpolar\"}],\"carpet\":[{\"aaxis\":{\"endlinecolor\":\"#2a3f5f\",\"gridcolor\":\"white\",\"linecolor\":\"white\",\"minorgridcolor\":\"white\",\"startlinecolor\":\"#2a3f5f\"},\"baxis\":{\"endlinecolor\":\"#2a3f5f\",\"gridcolor\":\"white\",\"linecolor\":\"white\",\"minorgridcolor\":\"white\",\"startlinecolor\":\"#2a3f5f\"},\"type\":\"carpet\"}],\"choropleth\":[{\"colorbar\":{\"outlinewidth\":0,\"ticks\":\"\"},\"type\":\"choropleth\"}],\"contour\":[{\"colorbar\":{\"outlinewidth\":0,\"ticks\":\"\"},\"colorscale\":[[0.0,\"#0d0887\"],[0.1111111111111111,\"#46039f\"],[0.2222222222222222,\"#7201a8\"],[0.3333333333333333,\"#9c179e\"],[0.4444444444444444,\"#bd3786\"],[0.5555555555555556,\"#d8576b\"],[0.6666666666666666,\"#ed7953\"],[0.7777777777777778,\"#fb9f3a\"],[0.8888888888888888,\"#fdca26\"],[1.0,\"#f0f921\"]],\"type\":\"contour\"}],\"contourcarpet\":[{\"colorbar\":{\"outlinewidth\":0,\"ticks\":\"\"},\"type\":\"contourcarpet\"}],\"heatmap\":[{\"colorbar\":{\"outlinewidth\":0,\"ticks\":\"\"},\"colorscale\":[[0.0,\"#0d0887\"],[0.1111111111111111,\"#46039f\"],[0.2222222222222222,\"#7201a8\"],[0.3333333333333333,\"#9c179e\"],[0.4444444444444444,\"#bd3786\"],[0.5555555555555556,\"#d8576b\"],[0.6666666666666666,\"#ed7953\"],[0.7777777777777778,\"#fb9f3a\"],[0.8888888888888888,\"#fdca26\"],[1.0,\"#f0f921\"]],\"type\":\"heatmap\"}],\"heatmapgl\":[{\"colorbar\":{\"outlinewidth\":0,\"ticks\":\"\"},\"colorscale\":[[0.0,\"#0d0887\"],[0.1111111111111111,\"#46039f\"],[0.2222222222222222,\"#7201a8\"],[0.3333333333333333,\"#9c179e\"],[0.4444444444444444,\"#bd3786\"],[0.5555555555555556,\"#d8576b\"],[0.6666666666666666,\"#ed7953\"],[0.7777777777777778,\"#fb9f3a\"],[0.8888888888888888,\"#fdca26\"],[1.0,\"#f0f921\"]],\"type\":\"heatmapgl\"}],\"histogram\":[{\"marker\":{\"pattern\":{\"fillmode\":\"overlay\",\"size\":10,\"solidity\":0.2}},\"type\":\"histogram\"}],\"histogram2d\":[{\"colorbar\":{\"outlinewidth\":0,\"ticks\":\"\"},\"colorscale\":[[0.0,\"#0d0887\"],[0.1111111111111111,\"#46039f\"],[0.2222222222222222,\"#7201a8\"],[0.3333333333333333,\"#9c179e\"],[0.4444444444444444,\"#bd3786\"],[0.5555555555555556,\"#d8576b\"],[0.6666666666666666,\"#ed7953\"],[0.7777777777777778,\"#fb9f3a\"],[0.8888888888888888,\"#fdca26\"],[1.0,\"#f0f921\"]],\"type\":\"histogram2d\"}],\"histogram2dcontour\":[{\"colorbar\":{\"outlinewidth\":0,\"ticks\":\"\"},\"colorscale\":[[0.0,\"#0d0887\"],[0.1111111111111111,\"#46039f\"],[0.2222222222222222,\"#7201a8\"],[0.3333333333333333,\"#9c179e\"],[0.4444444444444444,\"#bd3786\"],[0.5555555555555556,\"#d8576b\"],[0.6666666666666666,\"#ed7953\"],[0.7777777777777778,\"#fb9f3a\"],[0.8888888888888888,\"#fdca26\"],[1.0,\"#f0f921\"]],\"type\":\"histogram2dcontour\"}],\"mesh3d\":[{\"colorbar\":{\"outlinewidth\":0,\"ticks\":\"\"},\"type\":\"mesh3d\"}],\"parcoords\":[{\"line\":{\"colorbar\":{\"outlinewidth\":0,\"ticks\":\"\"}},\"type\":\"parcoords\"}],\"pie\":[{\"automargin\":true,\"type\":\"pie\"}],\"scatter\":[{\"marker\":{\"colorbar\":{\"outlinewidth\":0,\"ticks\":\"\"}},\"type\":\"scatter\"}],\"scatter3d\":[{\"line\":{\"colorbar\":{\"outlinewidth\":0,\"ticks\":\"\"}},\"marker\":{\"colorbar\":{\"outlinewidth\":0,\"ticks\":\"\"}},\"type\":\"scatter3d\"}],\"scattercarpet\":[{\"marker\":{\"colorbar\":{\"outlinewidth\":0,\"ticks\":\"\"}},\"type\":\"scattercarpet\"}],\"scattergeo\":[{\"marker\":{\"colorbar\":{\"outlinewidth\":0,\"ticks\":\"\"}},\"type\":\"scattergeo\"}],\"scattergl\":[{\"marker\":{\"colorbar\":{\"outlinewidth\":0,\"ticks\":\"\"}},\"type\":\"scattergl\"}],\"scattermapbox\":[{\"marker\":{\"colorbar\":{\"outlinewidth\":0,\"ticks\":\"\"}},\"type\":\"scattermapbox\"}],\"scatterpolar\":[{\"marker\":{\"colorbar\":{\"outlinewidth\":0,\"ticks\":\"\"}},\"type\":\"scatterpolar\"}],\"scatterpolargl\":[{\"marker\":{\"colorbar\":{\"outlinewidth\":0,\"ticks\":\"\"}},\"type\":\"scatterpolargl\"}],\"scatterternary\":[{\"marker\":{\"colorbar\":{\"outlinewidth\":0,\"ticks\":\"\"}},\"type\":\"scatterternary\"}],\"surface\":[{\"colorbar\":{\"outlinewidth\":0,\"ticks\":\"\"},\"colorscale\":[[0.0,\"#0d0887\"],[0.1111111111111111,\"#46039f\"],[0.2222222222222222,\"#7201a8\"],[0.3333333333333333,\"#9c179e\"],[0.4444444444444444,\"#bd3786\"],[0.5555555555555556,\"#d8576b\"],[0.6666666666666666,\"#ed7953\"],[0.7777777777777778,\"#fb9f3a\"],[0.8888888888888888,\"#fdca26\"],[1.0,\"#f0f921\"]],\"type\":\"surface\"}],\"table\":[{\"cells\":{\"fill\":{\"color\":\"#EBF0F8\"},\"line\":{\"color\":\"white\"}},\"header\":{\"fill\":{\"color\":\"#C8D4E3\"},\"line\":{\"color\":\"white\"}},\"type\":\"table\"}]},\"layout\":{\"annotationdefaults\":{\"arrowcolor\":\"#2a3f5f\",\"arrowhead\":0,\"arrowwidth\":1},\"autotypenumbers\":\"strict\",\"coloraxis\":{\"colorbar\":{\"outlinewidth\":0,\"ticks\":\"\"}},\"colorscale\":{\"diverging\":[[0,\"#8e0152\"],[0.1,\"#c51b7d\"],[0.2,\"#de77ae\"],[0.3,\"#f1b6da\"],[0.4,\"#fde0ef\"],[0.5,\"#f7f7f7\"],[0.6,\"#e6f5d0\"],[0.7,\"#b8e186\"],[0.8,\"#7fbc41\"],[0.9,\"#4d9221\"],[1,\"#276419\"]],\"sequential\":[[0.0,\"#0d0887\"],[0.1111111111111111,\"#46039f\"],[0.2222222222222222,\"#7201a8\"],[0.3333333333333333,\"#9c179e\"],[0.4444444444444444,\"#bd3786\"],[0.5555555555555556,\"#d8576b\"],[0.6666666666666666,\"#ed7953\"],[0.7777777777777778,\"#fb9f3a\"],[0.8888888888888888,\"#fdca26\"],[1.0,\"#f0f921\"]],\"sequentialminus\":[[0.0,\"#0d0887\"],[0.1111111111111111,\"#46039f\"],[0.2222222222222222,\"#7201a8\"],[0.3333333333333333,\"#9c179e\"],[0.4444444444444444,\"#bd3786\"],[0.5555555555555556,\"#d8576b\"],[0.6666666666666666,\"#ed7953\"],[0.7777777777777778,\"#fb9f3a\"],[0.8888888888888888,\"#fdca26\"],[1.0,\"#f0f921\"]]},\"colorway\":[\"#636efa\",\"#EF553B\",\"#00cc96\",\"#ab63fa\",\"#FFA15A\",\"#19d3f3\",\"#FF6692\",\"#B6E880\",\"#FF97FF\",\"#FECB52\"],\"font\":{\"color\":\"#2a3f5f\"},\"geo\":{\"bgcolor\":\"white\",\"lakecolor\":\"white\",\"landcolor\":\"#E5ECF6\",\"showlakes\":true,\"showland\":true,\"subunitcolor\":\"white\"},\"hoverlabel\":{\"align\":\"left\"},\"hovermode\":\"closest\",\"mapbox\":{\"style\":\"light\"},\"paper_bgcolor\":\"white\",\"plot_bgcolor\":\"#E5ECF6\",\"polar\":{\"angularaxis\":{\"gridcolor\":\"white\",\"linecolor\":\"white\",\"ticks\":\"\"},\"bgcolor\":\"#E5ECF6\",\"radialaxis\":{\"gridcolor\":\"white\",\"linecolor\":\"white\",\"ticks\":\"\"}},\"scene\":{\"xaxis\":{\"backgroundcolor\":\"#E5ECF6\",\"gridcolor\":\"white\",\"gridwidth\":2,\"linecolor\":\"white\",\"showbackground\":true,\"ticks\":\"\",\"zerolinecolor\":\"white\"},\"yaxis\":{\"backgroundcolor\":\"#E5ECF6\",\"gridcolor\":\"white\",\"gridwidth\":2,\"linecolor\":\"white\",\"showbackground\":true,\"ticks\":\"\",\"zerolinecolor\":\"white\"},\"zaxis\":{\"backgroundcolor\":\"#E5ECF6\",\"gridcolor\":\"white\",\"gridwidth\":2,\"linecolor\":\"white\",\"showbackground\":true,\"ticks\":\"\",\"zerolinecolor\":\"white\"}},\"shapedefaults\":{\"line\":{\"color\":\"#2a3f5f\"}},\"ternary\":{\"aaxis\":{\"gridcolor\":\"white\",\"linecolor\":\"white\",\"ticks\":\"\"},\"baxis\":{\"gridcolor\":\"white\",\"linecolor\":\"white\",\"ticks\":\"\"},\"bgcolor\":\"#E5ECF6\",\"caxis\":{\"gridcolor\":\"white\",\"linecolor\":\"white\",\"ticks\":\"\"}},\"title\":{\"x\":0.05},\"xaxis\":{\"automargin\":true,\"gridcolor\":\"white\",\"linecolor\":\"white\",\"ticks\":\"\",\"title\":{\"standoff\":15},\"zerolinecolor\":\"white\",\"zerolinewidth\":2},\"yaxis\":{\"automargin\":true,\"gridcolor\":\"white\",\"linecolor\":\"white\",\"ticks\":\"\",\"title\":{\"standoff\":15},\"zerolinecolor\":\"white\",\"zerolinewidth\":2}}},\"xaxis\":{\"anchor\":\"y\",\"domain\":[0.0,1.0],\"scaleanchor\":\"y\",\"constrain\":\"domain\",\"title\":{\"text\":\"Predicted Subtype\"}},\"yaxis\":{\"anchor\":\"x\",\"domain\":[0.0,1.0],\"autorange\":\"reversed\",\"constrain\":\"domain\",\"title\":{\"text\":\"True Subtype\"}},\"coloraxis\":{\"colorbar\":{\"title\":{\"text\":\"Productivity\"}},\"colorscale\":[[0.0,\"#0d0887\"],[0.1111111111111111,\"#46039f\"],[0.2222222222222222,\"#7201a8\"],[0.3333333333333333,\"#9c179e\"],[0.4444444444444444,\"#bd3786\"],[0.5555555555555556,\"#d8576b\"],[0.6666666666666666,\"#ed7953\"],[0.7777777777777778,\"#fb9f3a\"],[0.8888888888888888,\"#fdca26\"],[1.0,\"#f0f921\"]]},\"margin\":{\"t\":60}},                        {\"responsive\": true}                    ).then(function(){\n",
       "                            \n",
       "var gd = document.getElementById('2db256b4-fb94-4014-9512-df85b6142167');\n",
       "var x = new MutationObserver(function (mutations, observer) {{\n",
       "        var display = window.getComputedStyle(gd).display;\n",
       "        if (!display || display === 'none') {{\n",
       "            console.log([gd, 'removed!']);\n",
       "            Plotly.purge(gd);\n",
       "            observer.disconnect();\n",
       "        }}\n",
       "}});\n",
       "\n",
       "// Listen for the removal of the full notebook cells\n",
       "var notebookContainer = gd.closest('#notebook-container');\n",
       "if (notebookContainer) {{\n",
       "    x.observe(notebookContainer, {childList: true});\n",
       "}}\n",
       "\n",
       "// Listen for the clearing of the current output cell\n",
       "var outputEl = gd.closest('.output');\n",
       "if (outputEl) {{\n",
       "    x.observe(outputEl, {childList: true});\n",
       "}}\n",
       "\n",
       "                        })                };                });            </script>        </div>"
      ]
     },
     "metadata": {},
     "output_type": "display_data"
    }
   ],
   "source": [
    "# Calculate a confusion matrix\n",
    "cm = confusion_matrix(csf_y, csf_predictions)\n",
    "\n",
    "# Display confusion matrix to look at how accurately the ML model was able to classify each tumor type\n",
    "disp = px.imshow(cm, text_auto=True,\n",
    "                labels=dict(x=\"Predicted Subtype\", y=\"True Subtype\", color=\"Productivity\"),\n",
    "                x=csf['Tumor_Subtype'].unique().tolist(),\n",
    "                y=csf['Tumor_Subtype'].unique().tolist()\n",
    "                )\n",
    "disp.show()"
   ]
  },
  {
   "cell_type": "code",
   "execution_count": 36,
   "id": "8aa2ed44",
   "metadata": {},
   "outputs": [
    {
     "name": "stdout",
     "output_type": "stream",
     "text": [
      "Plasma Accuracy: 0.6\n"
     ]
    }
   ],
   "source": [
    "# Accuracy of model\n",
    "print(f'Plasma Accuracy: {accuracy_score(plasma_y, plasma_predictions)}')"
   ]
  },
  {
   "cell_type": "code",
   "execution_count": 37,
   "id": "2dee9144",
   "metadata": {},
   "outputs": [
    {
     "data": {
      "application/vnd.plotly.v1+json": {
       "config": {
        "plotlyServerURL": "https://plot.ly"
       },
       "data": [
        {
         "coloraxis": "coloraxis",
         "hovertemplate": "Predicted Subtype: %{x}<br>True Subtype: %{y}<br>Productivity: %{z}<extra></extra>",
         "name": "0",
         "texttemplate": "%{z}",
         "type": "heatmap",
         "x": [
          "non-WNT/non-SHH",
          "WNT-activated",
          "SHH-activated"
         ],
         "xaxis": "x",
         "y": [
          "non-WNT/non-SHH",
          "WNT-activated",
          "SHH-activated"
         ],
         "yaxis": "y",
         "z": [
          [
           4,
           2,
           1
          ],
          [
           0,
           2,
           0
          ],
          [
           0,
           1,
           0
          ]
         ]
        }
       ],
       "layout": {
        "coloraxis": {
         "colorbar": {
          "title": {
           "text": "Productivity"
          }
         },
         "colorscale": [
          [
           0,
           "#0d0887"
          ],
          [
           0.1111111111111111,
           "#46039f"
          ],
          [
           0.2222222222222222,
           "#7201a8"
          ],
          [
           0.3333333333333333,
           "#9c179e"
          ],
          [
           0.4444444444444444,
           "#bd3786"
          ],
          [
           0.5555555555555556,
           "#d8576b"
          ],
          [
           0.6666666666666666,
           "#ed7953"
          ],
          [
           0.7777777777777778,
           "#fb9f3a"
          ],
          [
           0.8888888888888888,
           "#fdca26"
          ],
          [
           1,
           "#f0f921"
          ]
         ]
        },
        "margin": {
         "t": 60
        },
        "template": {
         "data": {
          "bar": [
           {
            "error_x": {
             "color": "#2a3f5f"
            },
            "error_y": {
             "color": "#2a3f5f"
            },
            "marker": {
             "line": {
              "color": "#E5ECF6",
              "width": 0.5
             },
             "pattern": {
              "fillmode": "overlay",
              "size": 10,
              "solidity": 0.2
             }
            },
            "type": "bar"
           }
          ],
          "barpolar": [
           {
            "marker": {
             "line": {
              "color": "#E5ECF6",
              "width": 0.5
             },
             "pattern": {
              "fillmode": "overlay",
              "size": 10,
              "solidity": 0.2
             }
            },
            "type": "barpolar"
           }
          ],
          "carpet": [
           {
            "aaxis": {
             "endlinecolor": "#2a3f5f",
             "gridcolor": "white",
             "linecolor": "white",
             "minorgridcolor": "white",
             "startlinecolor": "#2a3f5f"
            },
            "baxis": {
             "endlinecolor": "#2a3f5f",
             "gridcolor": "white",
             "linecolor": "white",
             "minorgridcolor": "white",
             "startlinecolor": "#2a3f5f"
            },
            "type": "carpet"
           }
          ],
          "choropleth": [
           {
            "colorbar": {
             "outlinewidth": 0,
             "ticks": ""
            },
            "type": "choropleth"
           }
          ],
          "contour": [
           {
            "colorbar": {
             "outlinewidth": 0,
             "ticks": ""
            },
            "colorscale": [
             [
              0,
              "#0d0887"
             ],
             [
              0.1111111111111111,
              "#46039f"
             ],
             [
              0.2222222222222222,
              "#7201a8"
             ],
             [
              0.3333333333333333,
              "#9c179e"
             ],
             [
              0.4444444444444444,
              "#bd3786"
             ],
             [
              0.5555555555555556,
              "#d8576b"
             ],
             [
              0.6666666666666666,
              "#ed7953"
             ],
             [
              0.7777777777777778,
              "#fb9f3a"
             ],
             [
              0.8888888888888888,
              "#fdca26"
             ],
             [
              1,
              "#f0f921"
             ]
            ],
            "type": "contour"
           }
          ],
          "contourcarpet": [
           {
            "colorbar": {
             "outlinewidth": 0,
             "ticks": ""
            },
            "type": "contourcarpet"
           }
          ],
          "heatmap": [
           {
            "colorbar": {
             "outlinewidth": 0,
             "ticks": ""
            },
            "colorscale": [
             [
              0,
              "#0d0887"
             ],
             [
              0.1111111111111111,
              "#46039f"
             ],
             [
              0.2222222222222222,
              "#7201a8"
             ],
             [
              0.3333333333333333,
              "#9c179e"
             ],
             [
              0.4444444444444444,
              "#bd3786"
             ],
             [
              0.5555555555555556,
              "#d8576b"
             ],
             [
              0.6666666666666666,
              "#ed7953"
             ],
             [
              0.7777777777777778,
              "#fb9f3a"
             ],
             [
              0.8888888888888888,
              "#fdca26"
             ],
             [
              1,
              "#f0f921"
             ]
            ],
            "type": "heatmap"
           }
          ],
          "heatmapgl": [
           {
            "colorbar": {
             "outlinewidth": 0,
             "ticks": ""
            },
            "colorscale": [
             [
              0,
              "#0d0887"
             ],
             [
              0.1111111111111111,
              "#46039f"
             ],
             [
              0.2222222222222222,
              "#7201a8"
             ],
             [
              0.3333333333333333,
              "#9c179e"
             ],
             [
              0.4444444444444444,
              "#bd3786"
             ],
             [
              0.5555555555555556,
              "#d8576b"
             ],
             [
              0.6666666666666666,
              "#ed7953"
             ],
             [
              0.7777777777777778,
              "#fb9f3a"
             ],
             [
              0.8888888888888888,
              "#fdca26"
             ],
             [
              1,
              "#f0f921"
             ]
            ],
            "type": "heatmapgl"
           }
          ],
          "histogram": [
           {
            "marker": {
             "pattern": {
              "fillmode": "overlay",
              "size": 10,
              "solidity": 0.2
             }
            },
            "type": "histogram"
           }
          ],
          "histogram2d": [
           {
            "colorbar": {
             "outlinewidth": 0,
             "ticks": ""
            },
            "colorscale": [
             [
              0,
              "#0d0887"
             ],
             [
              0.1111111111111111,
              "#46039f"
             ],
             [
              0.2222222222222222,
              "#7201a8"
             ],
             [
              0.3333333333333333,
              "#9c179e"
             ],
             [
              0.4444444444444444,
              "#bd3786"
             ],
             [
              0.5555555555555556,
              "#d8576b"
             ],
             [
              0.6666666666666666,
              "#ed7953"
             ],
             [
              0.7777777777777778,
              "#fb9f3a"
             ],
             [
              0.8888888888888888,
              "#fdca26"
             ],
             [
              1,
              "#f0f921"
             ]
            ],
            "type": "histogram2d"
           }
          ],
          "histogram2dcontour": [
           {
            "colorbar": {
             "outlinewidth": 0,
             "ticks": ""
            },
            "colorscale": [
             [
              0,
              "#0d0887"
             ],
             [
              0.1111111111111111,
              "#46039f"
             ],
             [
              0.2222222222222222,
              "#7201a8"
             ],
             [
              0.3333333333333333,
              "#9c179e"
             ],
             [
              0.4444444444444444,
              "#bd3786"
             ],
             [
              0.5555555555555556,
              "#d8576b"
             ],
             [
              0.6666666666666666,
              "#ed7953"
             ],
             [
              0.7777777777777778,
              "#fb9f3a"
             ],
             [
              0.8888888888888888,
              "#fdca26"
             ],
             [
              1,
              "#f0f921"
             ]
            ],
            "type": "histogram2dcontour"
           }
          ],
          "mesh3d": [
           {
            "colorbar": {
             "outlinewidth": 0,
             "ticks": ""
            },
            "type": "mesh3d"
           }
          ],
          "parcoords": [
           {
            "line": {
             "colorbar": {
              "outlinewidth": 0,
              "ticks": ""
             }
            },
            "type": "parcoords"
           }
          ],
          "pie": [
           {
            "automargin": true,
            "type": "pie"
           }
          ],
          "scatter": [
           {
            "marker": {
             "colorbar": {
              "outlinewidth": 0,
              "ticks": ""
             }
            },
            "type": "scatter"
           }
          ],
          "scatter3d": [
           {
            "line": {
             "colorbar": {
              "outlinewidth": 0,
              "ticks": ""
             }
            },
            "marker": {
             "colorbar": {
              "outlinewidth": 0,
              "ticks": ""
             }
            },
            "type": "scatter3d"
           }
          ],
          "scattercarpet": [
           {
            "marker": {
             "colorbar": {
              "outlinewidth": 0,
              "ticks": ""
             }
            },
            "type": "scattercarpet"
           }
          ],
          "scattergeo": [
           {
            "marker": {
             "colorbar": {
              "outlinewidth": 0,
              "ticks": ""
             }
            },
            "type": "scattergeo"
           }
          ],
          "scattergl": [
           {
            "marker": {
             "colorbar": {
              "outlinewidth": 0,
              "ticks": ""
             }
            },
            "type": "scattergl"
           }
          ],
          "scattermapbox": [
           {
            "marker": {
             "colorbar": {
              "outlinewidth": 0,
              "ticks": ""
             }
            },
            "type": "scattermapbox"
           }
          ],
          "scatterpolar": [
           {
            "marker": {
             "colorbar": {
              "outlinewidth": 0,
              "ticks": ""
             }
            },
            "type": "scatterpolar"
           }
          ],
          "scatterpolargl": [
           {
            "marker": {
             "colorbar": {
              "outlinewidth": 0,
              "ticks": ""
             }
            },
            "type": "scatterpolargl"
           }
          ],
          "scatterternary": [
           {
            "marker": {
             "colorbar": {
              "outlinewidth": 0,
              "ticks": ""
             }
            },
            "type": "scatterternary"
           }
          ],
          "surface": [
           {
            "colorbar": {
             "outlinewidth": 0,
             "ticks": ""
            },
            "colorscale": [
             [
              0,
              "#0d0887"
             ],
             [
              0.1111111111111111,
              "#46039f"
             ],
             [
              0.2222222222222222,
              "#7201a8"
             ],
             [
              0.3333333333333333,
              "#9c179e"
             ],
             [
              0.4444444444444444,
              "#bd3786"
             ],
             [
              0.5555555555555556,
              "#d8576b"
             ],
             [
              0.6666666666666666,
              "#ed7953"
             ],
             [
              0.7777777777777778,
              "#fb9f3a"
             ],
             [
              0.8888888888888888,
              "#fdca26"
             ],
             [
              1,
              "#f0f921"
             ]
            ],
            "type": "surface"
           }
          ],
          "table": [
           {
            "cells": {
             "fill": {
              "color": "#EBF0F8"
             },
             "line": {
              "color": "white"
             }
            },
            "header": {
             "fill": {
              "color": "#C8D4E3"
             },
             "line": {
              "color": "white"
             }
            },
            "type": "table"
           }
          ]
         },
         "layout": {
          "annotationdefaults": {
           "arrowcolor": "#2a3f5f",
           "arrowhead": 0,
           "arrowwidth": 1
          },
          "autotypenumbers": "strict",
          "coloraxis": {
           "colorbar": {
            "outlinewidth": 0,
            "ticks": ""
           }
          },
          "colorscale": {
           "diverging": [
            [
             0,
             "#8e0152"
            ],
            [
             0.1,
             "#c51b7d"
            ],
            [
             0.2,
             "#de77ae"
            ],
            [
             0.3,
             "#f1b6da"
            ],
            [
             0.4,
             "#fde0ef"
            ],
            [
             0.5,
             "#f7f7f7"
            ],
            [
             0.6,
             "#e6f5d0"
            ],
            [
             0.7,
             "#b8e186"
            ],
            [
             0.8,
             "#7fbc41"
            ],
            [
             0.9,
             "#4d9221"
            ],
            [
             1,
             "#276419"
            ]
           ],
           "sequential": [
            [
             0,
             "#0d0887"
            ],
            [
             0.1111111111111111,
             "#46039f"
            ],
            [
             0.2222222222222222,
             "#7201a8"
            ],
            [
             0.3333333333333333,
             "#9c179e"
            ],
            [
             0.4444444444444444,
             "#bd3786"
            ],
            [
             0.5555555555555556,
             "#d8576b"
            ],
            [
             0.6666666666666666,
             "#ed7953"
            ],
            [
             0.7777777777777778,
             "#fb9f3a"
            ],
            [
             0.8888888888888888,
             "#fdca26"
            ],
            [
             1,
             "#f0f921"
            ]
           ],
           "sequentialminus": [
            [
             0,
             "#0d0887"
            ],
            [
             0.1111111111111111,
             "#46039f"
            ],
            [
             0.2222222222222222,
             "#7201a8"
            ],
            [
             0.3333333333333333,
             "#9c179e"
            ],
            [
             0.4444444444444444,
             "#bd3786"
            ],
            [
             0.5555555555555556,
             "#d8576b"
            ],
            [
             0.6666666666666666,
             "#ed7953"
            ],
            [
             0.7777777777777778,
             "#fb9f3a"
            ],
            [
             0.8888888888888888,
             "#fdca26"
            ],
            [
             1,
             "#f0f921"
            ]
           ]
          },
          "colorway": [
           "#636efa",
           "#EF553B",
           "#00cc96",
           "#ab63fa",
           "#FFA15A",
           "#19d3f3",
           "#FF6692",
           "#B6E880",
           "#FF97FF",
           "#FECB52"
          ],
          "font": {
           "color": "#2a3f5f"
          },
          "geo": {
           "bgcolor": "white",
           "lakecolor": "white",
           "landcolor": "#E5ECF6",
           "showlakes": true,
           "showland": true,
           "subunitcolor": "white"
          },
          "hoverlabel": {
           "align": "left"
          },
          "hovermode": "closest",
          "mapbox": {
           "style": "light"
          },
          "paper_bgcolor": "white",
          "plot_bgcolor": "#E5ECF6",
          "polar": {
           "angularaxis": {
            "gridcolor": "white",
            "linecolor": "white",
            "ticks": ""
           },
           "bgcolor": "#E5ECF6",
           "radialaxis": {
            "gridcolor": "white",
            "linecolor": "white",
            "ticks": ""
           }
          },
          "scene": {
           "xaxis": {
            "backgroundcolor": "#E5ECF6",
            "gridcolor": "white",
            "gridwidth": 2,
            "linecolor": "white",
            "showbackground": true,
            "ticks": "",
            "zerolinecolor": "white"
           },
           "yaxis": {
            "backgroundcolor": "#E5ECF6",
            "gridcolor": "white",
            "gridwidth": 2,
            "linecolor": "white",
            "showbackground": true,
            "ticks": "",
            "zerolinecolor": "white"
           },
           "zaxis": {
            "backgroundcolor": "#E5ECF6",
            "gridcolor": "white",
            "gridwidth": 2,
            "linecolor": "white",
            "showbackground": true,
            "ticks": "",
            "zerolinecolor": "white"
           }
          },
          "shapedefaults": {
           "line": {
            "color": "#2a3f5f"
           }
          },
          "ternary": {
           "aaxis": {
            "gridcolor": "white",
            "linecolor": "white",
            "ticks": ""
           },
           "baxis": {
            "gridcolor": "white",
            "linecolor": "white",
            "ticks": ""
           },
           "bgcolor": "#E5ECF6",
           "caxis": {
            "gridcolor": "white",
            "linecolor": "white",
            "ticks": ""
           }
          },
          "title": {
           "x": 0.05
          },
          "xaxis": {
           "automargin": true,
           "gridcolor": "white",
           "linecolor": "white",
           "ticks": "",
           "title": {
            "standoff": 15
           },
           "zerolinecolor": "white",
           "zerolinewidth": 2
          },
          "yaxis": {
           "automargin": true,
           "gridcolor": "white",
           "linecolor": "white",
           "ticks": "",
           "title": {
            "standoff": 15
           },
           "zerolinecolor": "white",
           "zerolinewidth": 2
          }
         }
        },
        "xaxis": {
         "anchor": "y",
         "constrain": "domain",
         "domain": [
          0,
          1
         ],
         "scaleanchor": "y",
         "title": {
          "text": "Predicted Subtype"
         }
        },
        "yaxis": {
         "anchor": "x",
         "autorange": "reversed",
         "constrain": "domain",
         "domain": [
          0,
          1
         ],
         "title": {
          "text": "True Subtype"
         }
        }
       }
      },
      "text/html": [
       "<div>                            <div id=\"bf1f464f-0c61-4c5b-bd1e-0d25e7dda0ca\" class=\"plotly-graph-div\" style=\"height:525px; width:100%;\"></div>            <script type=\"text/javascript\">                require([\"plotly\"], function(Plotly) {                    window.PLOTLYENV=window.PLOTLYENV || {};                                    if (document.getElementById(\"bf1f464f-0c61-4c5b-bd1e-0d25e7dda0ca\")) {                    Plotly.newPlot(                        \"bf1f464f-0c61-4c5b-bd1e-0d25e7dda0ca\",                        [{\"coloraxis\":\"coloraxis\",\"name\":\"0\",\"texttemplate\":\"%{z}\",\"x\":[\"non-WNT/non-SHH\",\"WNT-activated\",\"SHH-activated\"],\"y\":[\"non-WNT/non-SHH\",\"WNT-activated\",\"SHH-activated\"],\"z\":[[4,2,1],[0,2,0],[0,1,0]],\"type\":\"heatmap\",\"xaxis\":\"x\",\"yaxis\":\"y\",\"hovertemplate\":\"Predicted Subtype: %{x}<br>True Subtype: %{y}<br>Productivity: %{z}<extra></extra>\"}],                        {\"template\":{\"data\":{\"bar\":[{\"error_x\":{\"color\":\"#2a3f5f\"},\"error_y\":{\"color\":\"#2a3f5f\"},\"marker\":{\"line\":{\"color\":\"#E5ECF6\",\"width\":0.5},\"pattern\":{\"fillmode\":\"overlay\",\"size\":10,\"solidity\":0.2}},\"type\":\"bar\"}],\"barpolar\":[{\"marker\":{\"line\":{\"color\":\"#E5ECF6\",\"width\":0.5},\"pattern\":{\"fillmode\":\"overlay\",\"size\":10,\"solidity\":0.2}},\"type\":\"barpolar\"}],\"carpet\":[{\"aaxis\":{\"endlinecolor\":\"#2a3f5f\",\"gridcolor\":\"white\",\"linecolor\":\"white\",\"minorgridcolor\":\"white\",\"startlinecolor\":\"#2a3f5f\"},\"baxis\":{\"endlinecolor\":\"#2a3f5f\",\"gridcolor\":\"white\",\"linecolor\":\"white\",\"minorgridcolor\":\"white\",\"startlinecolor\":\"#2a3f5f\"},\"type\":\"carpet\"}],\"choropleth\":[{\"colorbar\":{\"outlinewidth\":0,\"ticks\":\"\"},\"type\":\"choropleth\"}],\"contour\":[{\"colorbar\":{\"outlinewidth\":0,\"ticks\":\"\"},\"colorscale\":[[0.0,\"#0d0887\"],[0.1111111111111111,\"#46039f\"],[0.2222222222222222,\"#7201a8\"],[0.3333333333333333,\"#9c179e\"],[0.4444444444444444,\"#bd3786\"],[0.5555555555555556,\"#d8576b\"],[0.6666666666666666,\"#ed7953\"],[0.7777777777777778,\"#fb9f3a\"],[0.8888888888888888,\"#fdca26\"],[1.0,\"#f0f921\"]],\"type\":\"contour\"}],\"contourcarpet\":[{\"colorbar\":{\"outlinewidth\":0,\"ticks\":\"\"},\"type\":\"contourcarpet\"}],\"heatmap\":[{\"colorbar\":{\"outlinewidth\":0,\"ticks\":\"\"},\"colorscale\":[[0.0,\"#0d0887\"],[0.1111111111111111,\"#46039f\"],[0.2222222222222222,\"#7201a8\"],[0.3333333333333333,\"#9c179e\"],[0.4444444444444444,\"#bd3786\"],[0.5555555555555556,\"#d8576b\"],[0.6666666666666666,\"#ed7953\"],[0.7777777777777778,\"#fb9f3a\"],[0.8888888888888888,\"#fdca26\"],[1.0,\"#f0f921\"]],\"type\":\"heatmap\"}],\"heatmapgl\":[{\"colorbar\":{\"outlinewidth\":0,\"ticks\":\"\"},\"colorscale\":[[0.0,\"#0d0887\"],[0.1111111111111111,\"#46039f\"],[0.2222222222222222,\"#7201a8\"],[0.3333333333333333,\"#9c179e\"],[0.4444444444444444,\"#bd3786\"],[0.5555555555555556,\"#d8576b\"],[0.6666666666666666,\"#ed7953\"],[0.7777777777777778,\"#fb9f3a\"],[0.8888888888888888,\"#fdca26\"],[1.0,\"#f0f921\"]],\"type\":\"heatmapgl\"}],\"histogram\":[{\"marker\":{\"pattern\":{\"fillmode\":\"overlay\",\"size\":10,\"solidity\":0.2}},\"type\":\"histogram\"}],\"histogram2d\":[{\"colorbar\":{\"outlinewidth\":0,\"ticks\":\"\"},\"colorscale\":[[0.0,\"#0d0887\"],[0.1111111111111111,\"#46039f\"],[0.2222222222222222,\"#7201a8\"],[0.3333333333333333,\"#9c179e\"],[0.4444444444444444,\"#bd3786\"],[0.5555555555555556,\"#d8576b\"],[0.6666666666666666,\"#ed7953\"],[0.7777777777777778,\"#fb9f3a\"],[0.8888888888888888,\"#fdca26\"],[1.0,\"#f0f921\"]],\"type\":\"histogram2d\"}],\"histogram2dcontour\":[{\"colorbar\":{\"outlinewidth\":0,\"ticks\":\"\"},\"colorscale\":[[0.0,\"#0d0887\"],[0.1111111111111111,\"#46039f\"],[0.2222222222222222,\"#7201a8\"],[0.3333333333333333,\"#9c179e\"],[0.4444444444444444,\"#bd3786\"],[0.5555555555555556,\"#d8576b\"],[0.6666666666666666,\"#ed7953\"],[0.7777777777777778,\"#fb9f3a\"],[0.8888888888888888,\"#fdca26\"],[1.0,\"#f0f921\"]],\"type\":\"histogram2dcontour\"}],\"mesh3d\":[{\"colorbar\":{\"outlinewidth\":0,\"ticks\":\"\"},\"type\":\"mesh3d\"}],\"parcoords\":[{\"line\":{\"colorbar\":{\"outlinewidth\":0,\"ticks\":\"\"}},\"type\":\"parcoords\"}],\"pie\":[{\"automargin\":true,\"type\":\"pie\"}],\"scatter\":[{\"marker\":{\"colorbar\":{\"outlinewidth\":0,\"ticks\":\"\"}},\"type\":\"scatter\"}],\"scatter3d\":[{\"line\":{\"colorbar\":{\"outlinewidth\":0,\"ticks\":\"\"}},\"marker\":{\"colorbar\":{\"outlinewidth\":0,\"ticks\":\"\"}},\"type\":\"scatter3d\"}],\"scattercarpet\":[{\"marker\":{\"colorbar\":{\"outlinewidth\":0,\"ticks\":\"\"}},\"type\":\"scattercarpet\"}],\"scattergeo\":[{\"marker\":{\"colorbar\":{\"outlinewidth\":0,\"ticks\":\"\"}},\"type\":\"scattergeo\"}],\"scattergl\":[{\"marker\":{\"colorbar\":{\"outlinewidth\":0,\"ticks\":\"\"}},\"type\":\"scattergl\"}],\"scattermapbox\":[{\"marker\":{\"colorbar\":{\"outlinewidth\":0,\"ticks\":\"\"}},\"type\":\"scattermapbox\"}],\"scatterpolar\":[{\"marker\":{\"colorbar\":{\"outlinewidth\":0,\"ticks\":\"\"}},\"type\":\"scatterpolar\"}],\"scatterpolargl\":[{\"marker\":{\"colorbar\":{\"outlinewidth\":0,\"ticks\":\"\"}},\"type\":\"scatterpolargl\"}],\"scatterternary\":[{\"marker\":{\"colorbar\":{\"outlinewidth\":0,\"ticks\":\"\"}},\"type\":\"scatterternary\"}],\"surface\":[{\"colorbar\":{\"outlinewidth\":0,\"ticks\":\"\"},\"colorscale\":[[0.0,\"#0d0887\"],[0.1111111111111111,\"#46039f\"],[0.2222222222222222,\"#7201a8\"],[0.3333333333333333,\"#9c179e\"],[0.4444444444444444,\"#bd3786\"],[0.5555555555555556,\"#d8576b\"],[0.6666666666666666,\"#ed7953\"],[0.7777777777777778,\"#fb9f3a\"],[0.8888888888888888,\"#fdca26\"],[1.0,\"#f0f921\"]],\"type\":\"surface\"}],\"table\":[{\"cells\":{\"fill\":{\"color\":\"#EBF0F8\"},\"line\":{\"color\":\"white\"}},\"header\":{\"fill\":{\"color\":\"#C8D4E3\"},\"line\":{\"color\":\"white\"}},\"type\":\"table\"}]},\"layout\":{\"annotationdefaults\":{\"arrowcolor\":\"#2a3f5f\",\"arrowhead\":0,\"arrowwidth\":1},\"autotypenumbers\":\"strict\",\"coloraxis\":{\"colorbar\":{\"outlinewidth\":0,\"ticks\":\"\"}},\"colorscale\":{\"diverging\":[[0,\"#8e0152\"],[0.1,\"#c51b7d\"],[0.2,\"#de77ae\"],[0.3,\"#f1b6da\"],[0.4,\"#fde0ef\"],[0.5,\"#f7f7f7\"],[0.6,\"#e6f5d0\"],[0.7,\"#b8e186\"],[0.8,\"#7fbc41\"],[0.9,\"#4d9221\"],[1,\"#276419\"]],\"sequential\":[[0.0,\"#0d0887\"],[0.1111111111111111,\"#46039f\"],[0.2222222222222222,\"#7201a8\"],[0.3333333333333333,\"#9c179e\"],[0.4444444444444444,\"#bd3786\"],[0.5555555555555556,\"#d8576b\"],[0.6666666666666666,\"#ed7953\"],[0.7777777777777778,\"#fb9f3a\"],[0.8888888888888888,\"#fdca26\"],[1.0,\"#f0f921\"]],\"sequentialminus\":[[0.0,\"#0d0887\"],[0.1111111111111111,\"#46039f\"],[0.2222222222222222,\"#7201a8\"],[0.3333333333333333,\"#9c179e\"],[0.4444444444444444,\"#bd3786\"],[0.5555555555555556,\"#d8576b\"],[0.6666666666666666,\"#ed7953\"],[0.7777777777777778,\"#fb9f3a\"],[0.8888888888888888,\"#fdca26\"],[1.0,\"#f0f921\"]]},\"colorway\":[\"#636efa\",\"#EF553B\",\"#00cc96\",\"#ab63fa\",\"#FFA15A\",\"#19d3f3\",\"#FF6692\",\"#B6E880\",\"#FF97FF\",\"#FECB52\"],\"font\":{\"color\":\"#2a3f5f\"},\"geo\":{\"bgcolor\":\"white\",\"lakecolor\":\"white\",\"landcolor\":\"#E5ECF6\",\"showlakes\":true,\"showland\":true,\"subunitcolor\":\"white\"},\"hoverlabel\":{\"align\":\"left\"},\"hovermode\":\"closest\",\"mapbox\":{\"style\":\"light\"},\"paper_bgcolor\":\"white\",\"plot_bgcolor\":\"#E5ECF6\",\"polar\":{\"angularaxis\":{\"gridcolor\":\"white\",\"linecolor\":\"white\",\"ticks\":\"\"},\"bgcolor\":\"#E5ECF6\",\"radialaxis\":{\"gridcolor\":\"white\",\"linecolor\":\"white\",\"ticks\":\"\"}},\"scene\":{\"xaxis\":{\"backgroundcolor\":\"#E5ECF6\",\"gridcolor\":\"white\",\"gridwidth\":2,\"linecolor\":\"white\",\"showbackground\":true,\"ticks\":\"\",\"zerolinecolor\":\"white\"},\"yaxis\":{\"backgroundcolor\":\"#E5ECF6\",\"gridcolor\":\"white\",\"gridwidth\":2,\"linecolor\":\"white\",\"showbackground\":true,\"ticks\":\"\",\"zerolinecolor\":\"white\"},\"zaxis\":{\"backgroundcolor\":\"#E5ECF6\",\"gridcolor\":\"white\",\"gridwidth\":2,\"linecolor\":\"white\",\"showbackground\":true,\"ticks\":\"\",\"zerolinecolor\":\"white\"}},\"shapedefaults\":{\"line\":{\"color\":\"#2a3f5f\"}},\"ternary\":{\"aaxis\":{\"gridcolor\":\"white\",\"linecolor\":\"white\",\"ticks\":\"\"},\"baxis\":{\"gridcolor\":\"white\",\"linecolor\":\"white\",\"ticks\":\"\"},\"bgcolor\":\"#E5ECF6\",\"caxis\":{\"gridcolor\":\"white\",\"linecolor\":\"white\",\"ticks\":\"\"}},\"title\":{\"x\":0.05},\"xaxis\":{\"automargin\":true,\"gridcolor\":\"white\",\"linecolor\":\"white\",\"ticks\":\"\",\"title\":{\"standoff\":15},\"zerolinecolor\":\"white\",\"zerolinewidth\":2},\"yaxis\":{\"automargin\":true,\"gridcolor\":\"white\",\"linecolor\":\"white\",\"ticks\":\"\",\"title\":{\"standoff\":15},\"zerolinecolor\":\"white\",\"zerolinewidth\":2}}},\"xaxis\":{\"anchor\":\"y\",\"domain\":[0.0,1.0],\"scaleanchor\":\"y\",\"constrain\":\"domain\",\"title\":{\"text\":\"Predicted Subtype\"}},\"yaxis\":{\"anchor\":\"x\",\"domain\":[0.0,1.0],\"autorange\":\"reversed\",\"constrain\":\"domain\",\"title\":{\"text\":\"True Subtype\"}},\"coloraxis\":{\"colorbar\":{\"title\":{\"text\":\"Productivity\"}},\"colorscale\":[[0.0,\"#0d0887\"],[0.1111111111111111,\"#46039f\"],[0.2222222222222222,\"#7201a8\"],[0.3333333333333333,\"#9c179e\"],[0.4444444444444444,\"#bd3786\"],[0.5555555555555556,\"#d8576b\"],[0.6666666666666666,\"#ed7953\"],[0.7777777777777778,\"#fb9f3a\"],[0.8888888888888888,\"#fdca26\"],[1.0,\"#f0f921\"]]},\"margin\":{\"t\":60}},                        {\"responsive\": true}                    ).then(function(){\n",
       "                            \n",
       "var gd = document.getElementById('bf1f464f-0c61-4c5b-bd1e-0d25e7dda0ca');\n",
       "var x = new MutationObserver(function (mutations, observer) {{\n",
       "        var display = window.getComputedStyle(gd).display;\n",
       "        if (!display || display === 'none') {{\n",
       "            console.log([gd, 'removed!']);\n",
       "            Plotly.purge(gd);\n",
       "            observer.disconnect();\n",
       "        }}\n",
       "}});\n",
       "\n",
       "// Listen for the removal of the full notebook cells\n",
       "var notebookContainer = gd.closest('#notebook-container');\n",
       "if (notebookContainer) {{\n",
       "    x.observe(notebookContainer, {childList: true});\n",
       "}}\n",
       "\n",
       "// Listen for the clearing of the current output cell\n",
       "var outputEl = gd.closest('.output');\n",
       "if (outputEl) {{\n",
       "    x.observe(outputEl, {childList: true});\n",
       "}}\n",
       "\n",
       "                        })                };                });            </script>        </div>"
      ]
     },
     "metadata": {},
     "output_type": "display_data"
    }
   ],
   "source": [
    "# Calculate a confusion matrix\n",
    "cm = confusion_matrix(plasma_y, plasma_predictions)\n",
    "\n",
    "# Display confusion matrix to look at how accurately the ML model was able to classify each tumor type\n",
    "disp = px.imshow(cm, text_auto=True,\n",
    "                labels=dict(x=\"Predicted Subtype\", y=\"True Subtype\", color=\"Productivity\"),\n",
    "                x=plasma['Tumor_Subtype'].unique().tolist(),\n",
    "                y=plasma['Tumor_Subtype'].unique().tolist()\n",
    "                )\n",
    "disp.show()"
   ]
  },
  {
   "cell_type": "markdown",
   "id": "2ed32458",
   "metadata": {},
   "source": [
    "---"
   ]
  },
  {
   "cell_type": "markdown",
   "id": "c4a56a83",
   "metadata": {},
   "source": [
    "# Training on FFPE Data"
   ]
  },
  {
   "cell_type": "code",
   "execution_count": 38,
   "id": "e185fc87",
   "metadata": {},
   "outputs": [],
   "source": [
    "ffpe = pd.read_csv(data_dir + \"mb_ffpe_data_subset.csv\")\n",
    "\n",
    "ffpe_X = ffpe.iloc[:,5:]\n",
    "ffpe_y = ffpe['molecular_subtype']\n",
    "ffpe_y = encoder.fit_transform(ffpe_y)"
   ]
  },
  {
   "cell_type": "code",
   "execution_count": 39,
   "id": "6655b419",
   "metadata": {},
   "outputs": [],
   "source": [
    "# Split PBTA data into training and testing set\n",
    "ffpe_X_train, ffpe_X_test, ffpe_y_train, ffpe_y_test = train_test_split(ffpe_X, ffpe_y, test_size=0.25, random_state=0)\n"
   ]
  },
  {
   "cell_type": "code",
   "execution_count": 40,
   "id": "fc65e492",
   "metadata": {},
   "outputs": [
    {
     "data": {
      "text/html": [
       "<style>#sk-container-id-2 {color: black;background-color: white;}#sk-container-id-2 pre{padding: 0;}#sk-container-id-2 div.sk-toggleable {background-color: white;}#sk-container-id-2 label.sk-toggleable__label {cursor: pointer;display: block;width: 100%;margin-bottom: 0;padding: 0.3em;box-sizing: border-box;text-align: center;}#sk-container-id-2 label.sk-toggleable__label-arrow:before {content: \"▸\";float: left;margin-right: 0.25em;color: #696969;}#sk-container-id-2 label.sk-toggleable__label-arrow:hover:before {color: black;}#sk-container-id-2 div.sk-estimator:hover label.sk-toggleable__label-arrow:before {color: black;}#sk-container-id-2 div.sk-toggleable__content {max-height: 0;max-width: 0;overflow: hidden;text-align: left;background-color: #f0f8ff;}#sk-container-id-2 div.sk-toggleable__content pre {margin: 0.2em;color: black;border-radius: 0.25em;background-color: #f0f8ff;}#sk-container-id-2 input.sk-toggleable__control:checked~div.sk-toggleable__content {max-height: 200px;max-width: 100%;overflow: auto;}#sk-container-id-2 input.sk-toggleable__control:checked~label.sk-toggleable__label-arrow:before {content: \"▾\";}#sk-container-id-2 div.sk-estimator input.sk-toggleable__control:checked~label.sk-toggleable__label {background-color: #d4ebff;}#sk-container-id-2 div.sk-label input.sk-toggleable__control:checked~label.sk-toggleable__label {background-color: #d4ebff;}#sk-container-id-2 input.sk-hidden--visually {border: 0;clip: rect(1px 1px 1px 1px);clip: rect(1px, 1px, 1px, 1px);height: 1px;margin: -1px;overflow: hidden;padding: 0;position: absolute;width: 1px;}#sk-container-id-2 div.sk-estimator {font-family: monospace;background-color: #f0f8ff;border: 1px dotted black;border-radius: 0.25em;box-sizing: border-box;margin-bottom: 0.5em;}#sk-container-id-2 div.sk-estimator:hover {background-color: #d4ebff;}#sk-container-id-2 div.sk-parallel-item::after {content: \"\";width: 100%;border-bottom: 1px solid gray;flex-grow: 1;}#sk-container-id-2 div.sk-label:hover label.sk-toggleable__label {background-color: #d4ebff;}#sk-container-id-2 div.sk-serial::before {content: \"\";position: absolute;border-left: 1px solid gray;box-sizing: border-box;top: 0;bottom: 0;left: 50%;z-index: 0;}#sk-container-id-2 div.sk-serial {display: flex;flex-direction: column;align-items: center;background-color: white;padding-right: 0.2em;padding-left: 0.2em;position: relative;}#sk-container-id-2 div.sk-item {position: relative;z-index: 1;}#sk-container-id-2 div.sk-parallel {display: flex;align-items: stretch;justify-content: center;background-color: white;position: relative;}#sk-container-id-2 div.sk-item::before, #sk-container-id-2 div.sk-parallel-item::before {content: \"\";position: absolute;border-left: 1px solid gray;box-sizing: border-box;top: 0;bottom: 0;left: 50%;z-index: -1;}#sk-container-id-2 div.sk-parallel-item {display: flex;flex-direction: column;z-index: 1;position: relative;background-color: white;}#sk-container-id-2 div.sk-parallel-item:first-child::after {align-self: flex-end;width: 50%;}#sk-container-id-2 div.sk-parallel-item:last-child::after {align-self: flex-start;width: 50%;}#sk-container-id-2 div.sk-parallel-item:only-child::after {width: 0;}#sk-container-id-2 div.sk-dashed-wrapped {border: 1px dashed gray;margin: 0 0.4em 0.5em 0.4em;box-sizing: border-box;padding-bottom: 0.4em;background-color: white;}#sk-container-id-2 div.sk-label label {font-family: monospace;font-weight: bold;display: inline-block;line-height: 1.2em;}#sk-container-id-2 div.sk-label-container {text-align: center;}#sk-container-id-2 div.sk-container {/* jupyter's `normalize.less` sets `[hidden] { display: none; }` but bootstrap.min.css set `[hidden] { display: none !important; }` so we also need the `!important` here to be able to override the default hidden behavior on the sphinx rendered scikit-learn.org. See: https://github.com/scikit-learn/scikit-learn/issues/21755 */display: inline-block !important;position: relative;}#sk-container-id-2 div.sk-text-repr-fallback {display: none;}</style><div id=\"sk-container-id-2\" class=\"sk-top-container\"><div class=\"sk-text-repr-fallback\"><pre>XGBClassifier(base_score=0.5, booster=&#x27;gbtree&#x27;, callbacks=None,\n",
       "              colsample_bylevel=1, colsample_bynode=1, colsample_bytree=1,\n",
       "              early_stopping_rounds=None, enable_categorical=False,\n",
       "              eval_metric=None, gamma=0, gpu_id=-1, grow_policy=&#x27;depthwise&#x27;,\n",
       "              importance_type=None, interaction_constraints=&#x27;&#x27;,\n",
       "              learning_rate=0.300000012, max_bin=256, max_cat_to_onehot=4,\n",
       "              max_delta_step=0, max_depth=6, max_leaves=0, min_child_weight=1,\n",
       "              missing=nan, monotone_constraints=&#x27;()&#x27;, n_estimators=100,\n",
       "              n_jobs=0, num_parallel_tree=1, objective=&#x27;multi:softprob&#x27;,\n",
       "              predictor=&#x27;auto&#x27;, random_state=0, reg_alpha=0, ...)</pre><b>In a Jupyter environment, please rerun this cell to show the HTML representation or trust the notebook. <br />On GitHub, the HTML representation is unable to render, please try loading this page with nbviewer.org.</b></div><div class=\"sk-container\" hidden><div class=\"sk-item\"><div class=\"sk-estimator sk-toggleable\"><input class=\"sk-toggleable__control sk-hidden--visually\" id=\"sk-estimator-id-2\" type=\"checkbox\" checked><label for=\"sk-estimator-id-2\" class=\"sk-toggleable__label sk-toggleable__label-arrow\">XGBClassifier</label><div class=\"sk-toggleable__content\"><pre>XGBClassifier(base_score=0.5, booster=&#x27;gbtree&#x27;, callbacks=None,\n",
       "              colsample_bylevel=1, colsample_bynode=1, colsample_bytree=1,\n",
       "              early_stopping_rounds=None, enable_categorical=False,\n",
       "              eval_metric=None, gamma=0, gpu_id=-1, grow_policy=&#x27;depthwise&#x27;,\n",
       "              importance_type=None, interaction_constraints=&#x27;&#x27;,\n",
       "              learning_rate=0.300000012, max_bin=256, max_cat_to_onehot=4,\n",
       "              max_delta_step=0, max_depth=6, max_leaves=0, min_child_weight=1,\n",
       "              missing=nan, monotone_constraints=&#x27;()&#x27;, n_estimators=100,\n",
       "              n_jobs=0, num_parallel_tree=1, objective=&#x27;multi:softprob&#x27;,\n",
       "              predictor=&#x27;auto&#x27;, random_state=0, reg_alpha=0, ...)</pre></div></div></div></div></div>"
      ],
      "text/plain": [
       "XGBClassifier(base_score=0.5, booster='gbtree', callbacks=None,\n",
       "              colsample_bylevel=1, colsample_bynode=1, colsample_bytree=1,\n",
       "              early_stopping_rounds=None, enable_categorical=False,\n",
       "              eval_metric=None, gamma=0, gpu_id=-1, grow_policy='depthwise',\n",
       "              importance_type=None, interaction_constraints='',\n",
       "              learning_rate=0.300000012, max_bin=256, max_cat_to_onehot=4,\n",
       "              max_delta_step=0, max_depth=6, max_leaves=0, min_child_weight=1,\n",
       "              missing=nan, monotone_constraints='()', n_estimators=100,\n",
       "              n_jobs=0, num_parallel_tree=1, objective='multi:softprob',\n",
       "              predictor='auto', random_state=0, reg_alpha=0, ...)"
      ]
     },
     "execution_count": 40,
     "metadata": {},
     "output_type": "execute_result"
    }
   ],
   "source": [
    "ffpe_xgbc = xgb.XGBClassifier(random_state=0)\n",
    "ffpe_xgbc.fit(ffpe_X_train, ffpe_y_train)"
   ]
  },
  {
   "cell_type": "code",
   "execution_count": 41,
   "id": "1a87d65e",
   "metadata": {},
   "outputs": [
    {
     "name": "stdout",
     "output_type": "stream",
     "text": [
      "Accuracy: 0.625\n"
     ]
    }
   ],
   "source": [
    "# Make predictions using random forest classifier\n",
    "ffpe_xgbc_y_pred = ffpe_xgbc.predict(ffpe_X_test)\n",
    "\n",
    "# Accuracy of model\n",
    "print(f'Accuracy: {accuracy_score(ffpe_y_test, ffpe_xgbc_y_pred)}')"
   ]
  },
  {
   "cell_type": "markdown",
   "id": "c583c773",
   "metadata": {},
   "source": [
    "---"
   ]
  },
  {
   "attachments": {},
   "cell_type": "markdown",
   "id": "ae5794ad",
   "metadata": {},
   "source": [
    "## Using four miRNAs found by Variance Threshold method\n",
    "#### ['miR-124-3p', 'miR-125b-5p', 'miR-451a', 'miR-9-5p']"
   ]
  },
  {
   "cell_type": "code",
   "execution_count": 24,
   "id": "77f9df47",
   "metadata": {},
   "outputs": [
    {
     "name": "stdout",
     "output_type": "stream",
     "text": [
      "[[-0.56723433 -0.70497078 -0.54858481 -0.5498604 ]\n",
      " [ 0.18040925 -0.11090829 -0.56381406 -0.26847852]\n",
      " [-0.55089093 -0.61401314 -0.8283757  -0.38079983]\n",
      " [-0.07881786  2.86612879 -0.25732109  1.97864704]\n",
      " [-0.21499796 -0.12478856  0.13588365 -0.68131933]]\n",
      "0    Group3\n",
      "1       SHH\n",
      "2       SHH\n",
      "4    Group4\n",
      "5    Group4\n",
      "Name: Subtype, dtype: object\n"
     ]
    }
   ],
   "source": [
    "# Split into train-test set\n",
    "X = df[['miR-124-3p', 'miR-125b-5p', 'miR-451a', 'miR-9-5p']]\n",
    "y = df['Subtype']\n",
    "\n",
    "# Normalize the data\n",
    "scaler = StandardScaler()\n",
    "X = scaler.fit_transform(X)\n",
    "\n",
    "#Sanity check\n",
    "print(X[:5])\n",
    "print(y[:5])"
   ]
  },
  {
   "cell_type": "code",
   "execution_count": 25,
   "id": "c0966aff",
   "metadata": {},
   "outputs": [
    {
     "name": "stdout",
     "output_type": "stream",
     "text": [
      "(19, 4) (7, 4) (19,) (7,)\n"
     ]
    }
   ],
   "source": [
    "# Split PBTA data into training and testing set\n",
    "X_train, X_test, y_train, y_test = train_test_split(X, y, test_size=0.25, random_state=0)\n",
    "\n",
    "#Sanity check\n",
    "print(X_train.shape, X_test.shape, y_train.shape, y_test.shape)"
   ]
  },
  {
   "attachments": {},
   "cell_type": "markdown",
   "id": "12b617c4",
   "metadata": {},
   "source": [
    "## Base model"
   ]
  },
  {
   "cell_type": "code",
   "execution_count": 26,
   "id": "f4b3f9e0",
   "metadata": {},
   "outputs": [
    {
     "name": "stdout",
     "output_type": "stream",
     "text": [
      "Accuracy: 0.8571428571428571\n"
     ]
    }
   ],
   "source": [
    "# Initialize random forest classifier\n",
    "rfc = RandomForestClassifier(max_depth=2, random_state=0)\n",
    "\n",
    "# Train the random forest classifier\n",
    "rfc.fit(X_train, y_train)\n",
    "\n",
    "# Make predictions using random forest classifier\n",
    "rfc_y_pred = rfc.predict(X_test)\n",
    "\n",
    "# Accuracy of model\n",
    "print(f'Accuracy: {accuracy_score(y_test, rfc_y_pred)}')"
   ]
  },
  {
   "cell_type": "code",
   "execution_count": 27,
   "id": "e34a2437",
   "metadata": {},
   "outputs": [
    {
     "data": {
      "application/vnd.plotly.v1+json": {
       "config": {
        "plotlyServerURL": "https://plot.ly"
       },
       "data": [
        {
         "coloraxis": "coloraxis",
         "hovertemplate": "Predicted Subtype: %{x}<br>True Subtype: %{y}<br>Productivity: %{z}<extra></extra>",
         "name": "0",
         "texttemplate": "%{z}",
         "type": "heatmap",
         "x": [
          "Group3",
          "SHH",
          "Group4",
          "WNT"
         ],
         "xaxis": "x",
         "y": [
          "Group3",
          "SHH",
          "Group4",
          "WNT"
         ],
         "yaxis": "y",
         "z": [
          [
           1,
           1,
           0,
           0
          ],
          [
           0,
           2,
           0,
           0
          ],
          [
           0,
           0,
           2,
           0
          ],
          [
           0,
           0,
           0,
           1
          ]
         ]
        }
       ],
       "layout": {
        "coloraxis": {
         "colorbar": {
          "title": {
           "text": "Productivity"
          }
         },
         "colorscale": [
          [
           0,
           "#0d0887"
          ],
          [
           0.1111111111111111,
           "#46039f"
          ],
          [
           0.2222222222222222,
           "#7201a8"
          ],
          [
           0.3333333333333333,
           "#9c179e"
          ],
          [
           0.4444444444444444,
           "#bd3786"
          ],
          [
           0.5555555555555556,
           "#d8576b"
          ],
          [
           0.6666666666666666,
           "#ed7953"
          ],
          [
           0.7777777777777778,
           "#fb9f3a"
          ],
          [
           0.8888888888888888,
           "#fdca26"
          ],
          [
           1,
           "#f0f921"
          ]
         ]
        },
        "margin": {
         "t": 60
        },
        "template": {
         "data": {
          "bar": [
           {
            "error_x": {
             "color": "#2a3f5f"
            },
            "error_y": {
             "color": "#2a3f5f"
            },
            "marker": {
             "line": {
              "color": "#E5ECF6",
              "width": 0.5
             },
             "pattern": {
              "fillmode": "overlay",
              "size": 10,
              "solidity": 0.2
             }
            },
            "type": "bar"
           }
          ],
          "barpolar": [
           {
            "marker": {
             "line": {
              "color": "#E5ECF6",
              "width": 0.5
             },
             "pattern": {
              "fillmode": "overlay",
              "size": 10,
              "solidity": 0.2
             }
            },
            "type": "barpolar"
           }
          ],
          "carpet": [
           {
            "aaxis": {
             "endlinecolor": "#2a3f5f",
             "gridcolor": "white",
             "linecolor": "white",
             "minorgridcolor": "white",
             "startlinecolor": "#2a3f5f"
            },
            "baxis": {
             "endlinecolor": "#2a3f5f",
             "gridcolor": "white",
             "linecolor": "white",
             "minorgridcolor": "white",
             "startlinecolor": "#2a3f5f"
            },
            "type": "carpet"
           }
          ],
          "choropleth": [
           {
            "colorbar": {
             "outlinewidth": 0,
             "ticks": ""
            },
            "type": "choropleth"
           }
          ],
          "contour": [
           {
            "colorbar": {
             "outlinewidth": 0,
             "ticks": ""
            },
            "colorscale": [
             [
              0,
              "#0d0887"
             ],
             [
              0.1111111111111111,
              "#46039f"
             ],
             [
              0.2222222222222222,
              "#7201a8"
             ],
             [
              0.3333333333333333,
              "#9c179e"
             ],
             [
              0.4444444444444444,
              "#bd3786"
             ],
             [
              0.5555555555555556,
              "#d8576b"
             ],
             [
              0.6666666666666666,
              "#ed7953"
             ],
             [
              0.7777777777777778,
              "#fb9f3a"
             ],
             [
              0.8888888888888888,
              "#fdca26"
             ],
             [
              1,
              "#f0f921"
             ]
            ],
            "type": "contour"
           }
          ],
          "contourcarpet": [
           {
            "colorbar": {
             "outlinewidth": 0,
             "ticks": ""
            },
            "type": "contourcarpet"
           }
          ],
          "heatmap": [
           {
            "colorbar": {
             "outlinewidth": 0,
             "ticks": ""
            },
            "colorscale": [
             [
              0,
              "#0d0887"
             ],
             [
              0.1111111111111111,
              "#46039f"
             ],
             [
              0.2222222222222222,
              "#7201a8"
             ],
             [
              0.3333333333333333,
              "#9c179e"
             ],
             [
              0.4444444444444444,
              "#bd3786"
             ],
             [
              0.5555555555555556,
              "#d8576b"
             ],
             [
              0.6666666666666666,
              "#ed7953"
             ],
             [
              0.7777777777777778,
              "#fb9f3a"
             ],
             [
              0.8888888888888888,
              "#fdca26"
             ],
             [
              1,
              "#f0f921"
             ]
            ],
            "type": "heatmap"
           }
          ],
          "heatmapgl": [
           {
            "colorbar": {
             "outlinewidth": 0,
             "ticks": ""
            },
            "colorscale": [
             [
              0,
              "#0d0887"
             ],
             [
              0.1111111111111111,
              "#46039f"
             ],
             [
              0.2222222222222222,
              "#7201a8"
             ],
             [
              0.3333333333333333,
              "#9c179e"
             ],
             [
              0.4444444444444444,
              "#bd3786"
             ],
             [
              0.5555555555555556,
              "#d8576b"
             ],
             [
              0.6666666666666666,
              "#ed7953"
             ],
             [
              0.7777777777777778,
              "#fb9f3a"
             ],
             [
              0.8888888888888888,
              "#fdca26"
             ],
             [
              1,
              "#f0f921"
             ]
            ],
            "type": "heatmapgl"
           }
          ],
          "histogram": [
           {
            "marker": {
             "pattern": {
              "fillmode": "overlay",
              "size": 10,
              "solidity": 0.2
             }
            },
            "type": "histogram"
           }
          ],
          "histogram2d": [
           {
            "colorbar": {
             "outlinewidth": 0,
             "ticks": ""
            },
            "colorscale": [
             [
              0,
              "#0d0887"
             ],
             [
              0.1111111111111111,
              "#46039f"
             ],
             [
              0.2222222222222222,
              "#7201a8"
             ],
             [
              0.3333333333333333,
              "#9c179e"
             ],
             [
              0.4444444444444444,
              "#bd3786"
             ],
             [
              0.5555555555555556,
              "#d8576b"
             ],
             [
              0.6666666666666666,
              "#ed7953"
             ],
             [
              0.7777777777777778,
              "#fb9f3a"
             ],
             [
              0.8888888888888888,
              "#fdca26"
             ],
             [
              1,
              "#f0f921"
             ]
            ],
            "type": "histogram2d"
           }
          ],
          "histogram2dcontour": [
           {
            "colorbar": {
             "outlinewidth": 0,
             "ticks": ""
            },
            "colorscale": [
             [
              0,
              "#0d0887"
             ],
             [
              0.1111111111111111,
              "#46039f"
             ],
             [
              0.2222222222222222,
              "#7201a8"
             ],
             [
              0.3333333333333333,
              "#9c179e"
             ],
             [
              0.4444444444444444,
              "#bd3786"
             ],
             [
              0.5555555555555556,
              "#d8576b"
             ],
             [
              0.6666666666666666,
              "#ed7953"
             ],
             [
              0.7777777777777778,
              "#fb9f3a"
             ],
             [
              0.8888888888888888,
              "#fdca26"
             ],
             [
              1,
              "#f0f921"
             ]
            ],
            "type": "histogram2dcontour"
           }
          ],
          "mesh3d": [
           {
            "colorbar": {
             "outlinewidth": 0,
             "ticks": ""
            },
            "type": "mesh3d"
           }
          ],
          "parcoords": [
           {
            "line": {
             "colorbar": {
              "outlinewidth": 0,
              "ticks": ""
             }
            },
            "type": "parcoords"
           }
          ],
          "pie": [
           {
            "automargin": true,
            "type": "pie"
           }
          ],
          "scatter": [
           {
            "marker": {
             "colorbar": {
              "outlinewidth": 0,
              "ticks": ""
             }
            },
            "type": "scatter"
           }
          ],
          "scatter3d": [
           {
            "line": {
             "colorbar": {
              "outlinewidth": 0,
              "ticks": ""
             }
            },
            "marker": {
             "colorbar": {
              "outlinewidth": 0,
              "ticks": ""
             }
            },
            "type": "scatter3d"
           }
          ],
          "scattercarpet": [
           {
            "marker": {
             "colorbar": {
              "outlinewidth": 0,
              "ticks": ""
             }
            },
            "type": "scattercarpet"
           }
          ],
          "scattergeo": [
           {
            "marker": {
             "colorbar": {
              "outlinewidth": 0,
              "ticks": ""
             }
            },
            "type": "scattergeo"
           }
          ],
          "scattergl": [
           {
            "marker": {
             "colorbar": {
              "outlinewidth": 0,
              "ticks": ""
             }
            },
            "type": "scattergl"
           }
          ],
          "scattermapbox": [
           {
            "marker": {
             "colorbar": {
              "outlinewidth": 0,
              "ticks": ""
             }
            },
            "type": "scattermapbox"
           }
          ],
          "scatterpolar": [
           {
            "marker": {
             "colorbar": {
              "outlinewidth": 0,
              "ticks": ""
             }
            },
            "type": "scatterpolar"
           }
          ],
          "scatterpolargl": [
           {
            "marker": {
             "colorbar": {
              "outlinewidth": 0,
              "ticks": ""
             }
            },
            "type": "scatterpolargl"
           }
          ],
          "scatterternary": [
           {
            "marker": {
             "colorbar": {
              "outlinewidth": 0,
              "ticks": ""
             }
            },
            "type": "scatterternary"
           }
          ],
          "surface": [
           {
            "colorbar": {
             "outlinewidth": 0,
             "ticks": ""
            },
            "colorscale": [
             [
              0,
              "#0d0887"
             ],
             [
              0.1111111111111111,
              "#46039f"
             ],
             [
              0.2222222222222222,
              "#7201a8"
             ],
             [
              0.3333333333333333,
              "#9c179e"
             ],
             [
              0.4444444444444444,
              "#bd3786"
             ],
             [
              0.5555555555555556,
              "#d8576b"
             ],
             [
              0.6666666666666666,
              "#ed7953"
             ],
             [
              0.7777777777777778,
              "#fb9f3a"
             ],
             [
              0.8888888888888888,
              "#fdca26"
             ],
             [
              1,
              "#f0f921"
             ]
            ],
            "type": "surface"
           }
          ],
          "table": [
           {
            "cells": {
             "fill": {
              "color": "#EBF0F8"
             },
             "line": {
              "color": "white"
             }
            },
            "header": {
             "fill": {
              "color": "#C8D4E3"
             },
             "line": {
              "color": "white"
             }
            },
            "type": "table"
           }
          ]
         },
         "layout": {
          "annotationdefaults": {
           "arrowcolor": "#2a3f5f",
           "arrowhead": 0,
           "arrowwidth": 1
          },
          "autotypenumbers": "strict",
          "coloraxis": {
           "colorbar": {
            "outlinewidth": 0,
            "ticks": ""
           }
          },
          "colorscale": {
           "diverging": [
            [
             0,
             "#8e0152"
            ],
            [
             0.1,
             "#c51b7d"
            ],
            [
             0.2,
             "#de77ae"
            ],
            [
             0.3,
             "#f1b6da"
            ],
            [
             0.4,
             "#fde0ef"
            ],
            [
             0.5,
             "#f7f7f7"
            ],
            [
             0.6,
             "#e6f5d0"
            ],
            [
             0.7,
             "#b8e186"
            ],
            [
             0.8,
             "#7fbc41"
            ],
            [
             0.9,
             "#4d9221"
            ],
            [
             1,
             "#276419"
            ]
           ],
           "sequential": [
            [
             0,
             "#0d0887"
            ],
            [
             0.1111111111111111,
             "#46039f"
            ],
            [
             0.2222222222222222,
             "#7201a8"
            ],
            [
             0.3333333333333333,
             "#9c179e"
            ],
            [
             0.4444444444444444,
             "#bd3786"
            ],
            [
             0.5555555555555556,
             "#d8576b"
            ],
            [
             0.6666666666666666,
             "#ed7953"
            ],
            [
             0.7777777777777778,
             "#fb9f3a"
            ],
            [
             0.8888888888888888,
             "#fdca26"
            ],
            [
             1,
             "#f0f921"
            ]
           ],
           "sequentialminus": [
            [
             0,
             "#0d0887"
            ],
            [
             0.1111111111111111,
             "#46039f"
            ],
            [
             0.2222222222222222,
             "#7201a8"
            ],
            [
             0.3333333333333333,
             "#9c179e"
            ],
            [
             0.4444444444444444,
             "#bd3786"
            ],
            [
             0.5555555555555556,
             "#d8576b"
            ],
            [
             0.6666666666666666,
             "#ed7953"
            ],
            [
             0.7777777777777778,
             "#fb9f3a"
            ],
            [
             0.8888888888888888,
             "#fdca26"
            ],
            [
             1,
             "#f0f921"
            ]
           ]
          },
          "colorway": [
           "#636efa",
           "#EF553B",
           "#00cc96",
           "#ab63fa",
           "#FFA15A",
           "#19d3f3",
           "#FF6692",
           "#B6E880",
           "#FF97FF",
           "#FECB52"
          ],
          "font": {
           "color": "#2a3f5f"
          },
          "geo": {
           "bgcolor": "white",
           "lakecolor": "white",
           "landcolor": "#E5ECF6",
           "showlakes": true,
           "showland": true,
           "subunitcolor": "white"
          },
          "hoverlabel": {
           "align": "left"
          },
          "hovermode": "closest",
          "mapbox": {
           "style": "light"
          },
          "paper_bgcolor": "white",
          "plot_bgcolor": "#E5ECF6",
          "polar": {
           "angularaxis": {
            "gridcolor": "white",
            "linecolor": "white",
            "ticks": ""
           },
           "bgcolor": "#E5ECF6",
           "radialaxis": {
            "gridcolor": "white",
            "linecolor": "white",
            "ticks": ""
           }
          },
          "scene": {
           "xaxis": {
            "backgroundcolor": "#E5ECF6",
            "gridcolor": "white",
            "gridwidth": 2,
            "linecolor": "white",
            "showbackground": true,
            "ticks": "",
            "zerolinecolor": "white"
           },
           "yaxis": {
            "backgroundcolor": "#E5ECF6",
            "gridcolor": "white",
            "gridwidth": 2,
            "linecolor": "white",
            "showbackground": true,
            "ticks": "",
            "zerolinecolor": "white"
           },
           "zaxis": {
            "backgroundcolor": "#E5ECF6",
            "gridcolor": "white",
            "gridwidth": 2,
            "linecolor": "white",
            "showbackground": true,
            "ticks": "",
            "zerolinecolor": "white"
           }
          },
          "shapedefaults": {
           "line": {
            "color": "#2a3f5f"
           }
          },
          "ternary": {
           "aaxis": {
            "gridcolor": "white",
            "linecolor": "white",
            "ticks": ""
           },
           "baxis": {
            "gridcolor": "white",
            "linecolor": "white",
            "ticks": ""
           },
           "bgcolor": "#E5ECF6",
           "caxis": {
            "gridcolor": "white",
            "linecolor": "white",
            "ticks": ""
           }
          },
          "title": {
           "x": 0.05
          },
          "xaxis": {
           "automargin": true,
           "gridcolor": "white",
           "linecolor": "white",
           "ticks": "",
           "title": {
            "standoff": 15
           },
           "zerolinecolor": "white",
           "zerolinewidth": 2
          },
          "yaxis": {
           "automargin": true,
           "gridcolor": "white",
           "linecolor": "white",
           "ticks": "",
           "title": {
            "standoff": 15
           },
           "zerolinecolor": "white",
           "zerolinewidth": 2
          }
         }
        },
        "xaxis": {
         "anchor": "y",
         "constrain": "domain",
         "domain": [
          0,
          1
         ],
         "scaleanchor": "y",
         "title": {
          "text": "Predicted Subtype"
         }
        },
        "yaxis": {
         "anchor": "x",
         "autorange": "reversed",
         "constrain": "domain",
         "domain": [
          0,
          1
         ],
         "title": {
          "text": "True Subtype"
         }
        }
       }
      }
     },
     "metadata": {},
     "output_type": "display_data"
    }
   ],
   "source": [
    "# Calculate a confusion matrix\n",
    "cm = confusion_matrix(y_test, rfc_y_pred, labels=rfc.classes_)\n",
    "\n",
    "# Display confusion matrix to look at how accurately the ML model was able to classify each tumor type\n",
    "disp = px.imshow(cm, text_auto=True,\n",
    "                labels=dict(x=\"Predicted Subtype\", y=\"True Subtype\", color=\"Productivity\"),\n",
    "                x=df['Subtype'].unique().tolist(),\n",
    "                y=df['Subtype'].unique().tolist()\n",
    "                )\n",
    "disp.show()"
   ]
  },
  {
   "attachments": {},
   "cell_type": "markdown",
   "id": "d9b2b360",
   "metadata": {},
   "source": [
    "## XGBoost CV"
   ]
  },
  {
   "cell_type": "code",
   "execution_count": 11,
   "id": "7e3f6414",
   "metadata": {},
   "outputs": [
    {
     "data": {
      "text/plain": [
       "array([0, 2, 2, 1, 1, 1, 2, 0, 0, 2, 3, 0, 1, 1, 1, 2, 1, 0, 1, 1, 2, 1,\n",
       "       3, 2, 2, 1])"
      ]
     },
     "execution_count": 11,
     "metadata": {},
     "output_type": "execute_result"
    }
   ],
   "source": [
    "from sklearn.preprocessing import LabelEncoder\n",
    "encoder = LabelEncoder()\n",
    "y = encoder.fit_transform(y)\n",
    "y"
   ]
  },
  {
   "cell_type": "code",
   "execution_count": 12,
   "id": "da0a9c6f",
   "metadata": {},
   "outputs": [],
   "source": [
    "# Split PBTA data into training and testing set\n",
    "X_train, X_test, y_train, y_test = train_test_split(X, y, test_size=0.25, random_state=0)"
   ]
  },
  {
   "cell_type": "code",
   "execution_count": 15,
   "id": "15f91204",
   "metadata": {},
   "outputs": [
    {
     "name": "stdout",
     "output_type": "stream",
     "text": [
      "Accuracy: 0.7142857142857143\n"
     ]
    }
   ],
   "source": [
    "import xgboost as xgb\n",
    "\n",
    "xgbc = xgb.XGBClassifier(random_state=0)\n",
    "xgbc.fit(X_train, y_train)\n",
    "\n",
    "# Make predictions using random forest classifier\n",
    "xgbc_y_pred = xgbc.predict(X_test)\n",
    "\n",
    "# Accuracy of model\n",
    "print(f'Accuracy: {accuracy_score(y_test, xgbc_y_pred)}')"
   ]
  },
  {
   "cell_type": "code",
   "execution_count": 16,
   "id": "d59033c7",
   "metadata": {},
   "outputs": [
    {
     "name": "stdout",
     "output_type": "stream",
     "text": [
      "List of possible accuracy: [0.6923076923076923, 0.46153846153846156]\n",
      "\n",
      "Maximum Accuracy That can be obtained from this model is: 69.23076923076923 %\n",
      "\n",
      "Minimum Accuracy: 46.15384615384615 %\n",
      "\n",
      "Overall Accuracy: 57.692307692307686 %\n",
      "\n",
      "Standard Deviation is: 0.16317848796612633\n"
     ]
    }
   ],
   "source": [
    "import xgboost as xgb\n",
    "from sklearn.model_selection import StratifiedKFold\n",
    "from statistics import mean, stdev\n",
    "\n",
    "\n",
    "# Create StratifiedKFold object.\n",
    "skf = StratifiedKFold(n_splits=2, shuffle=True, random_state=42)\n",
    "lst_accu_stratified = []\n",
    "\n",
    "xgbcv = xgb.XGBClassifier(random_state=0)\n",
    "\n",
    "for train_index, test_index in skf.split(X, y):\n",
    "    x_train_fold, x_test_fold = X[train_index], X[test_index]\n",
    "    y_train_fold, y_test_fold = y[train_index], y[test_index]\n",
    "    xgbcv.fit(x_train_fold, y_train_fold)\n",
    "    lst_accu_stratified.append(xgbcv.score(x_test_fold, y_test_fold))\n",
    "  \n",
    "# Print the output.\n",
    "print('List of possible accuracy:', lst_accu_stratified)\n",
    "print('\\nMaximum Accuracy That can be obtained from this model is:',\n",
    "      max(lst_accu_stratified)*100, '%')\n",
    "print('\\nMinimum Accuracy:',\n",
    "      min(lst_accu_stratified)*100, '%')\n",
    "print('\\nOverall Accuracy:',\n",
    "      mean(lst_accu_stratified)*100, '%')\n",
    "print('\\nStandard Deviation is:', stdev(lst_accu_stratified))"
   ]
  }
 ],
 "metadata": {
  "kernelspec": {
   "display_name": "Python 3 (ipykernel)",
   "language": "python",
   "name": "python3"
  },
  "language_info": {
   "codemirror_mode": {
    "name": "ipython",
    "version": 3
   },
   "file_extension": ".py",
   "mimetype": "text/x-python",
   "name": "python",
   "nbconvert_exporter": "python",
   "pygments_lexer": "ipython3",
   "version": "3.9.12"
  },
  "vscode": {
   "interpreter": {
    "hash": "51b00893924e533debdaa834b42a88d3d8f8fd0543c1f2d9094c55c1c4edcade"
   }
  }
 },
 "nbformat": 4,
 "nbformat_minor": 5
}
